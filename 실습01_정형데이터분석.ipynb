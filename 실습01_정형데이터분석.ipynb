{
  "nbformat": 4,
  "nbformat_minor": 0,
  "metadata": {
    "colab": {
      "provenance": [],
      "mount_file_id": "15RiWLNdelF8eRP-nxhKC4eRNMoGZ4aYz",
      "authorship_tag": "ABX9TyMVtaS7ungiz8HYOxq6+Qwx",
      "include_colab_link": true
    },
    "kernelspec": {
      "name": "python3",
      "display_name": "Python 3"
    },
    "language_info": {
      "name": "python"
    }
  },
  "cells": [
    {
      "cell_type": "markdown",
      "metadata": {
        "id": "view-in-github",
        "colab_type": "text"
      },
      "source": [
        "<a href=\"https://colab.research.google.com/github/HongJeongHwan/Data_Preprocessing/blob/main/%EC%8B%A4%EC%8A%B501_%EC%A0%95%ED%98%95%EB%8D%B0%EC%9D%B4%ED%84%B0%EB%B6%84%EC%84%9D.ipynb\" target=\"_parent\"><img src=\"https://colab.research.google.com/assets/colab-badge.svg\" alt=\"Open In Colab\"/></a>"
      ]
    },
    {
      "cell_type": "markdown",
      "source": [
        "## 불필요한 컬럼 삭제하기"
      ],
      "metadata": {
        "id": "sJ0ES0i9rP4T"
      }
    },
    {
      "cell_type": "code",
      "execution_count": null,
      "metadata": {
        "id": "t94-kFXiquWC",
        "colab": {
          "base_uri": "https://localhost:8080/"
        },
        "outputId": "b697186c-3eda-454b-af15-a5cdac9e1daf"
      },
      "outputs": [
        {
          "output_type": "stream",
          "name": "stderr",
          "text": [
            "<ipython-input-2-f99824c24103>:8: DtypeWarning: Columns (5,6,9) have mixed types. Specify dtype option on import or set low_memory=False.\n",
            "  df_ns = pd.read_csv(file_path, encoding='cp949')\n"
          ]
        },
        {
          "output_type": "stream",
          "name": "stdout",
          "text": [
            "Index(['번호', '도서명', '저자', '출판사', '발행년도', 'ISBN', '세트 ISBN', '부가기호', '권',\n",
            "       '주제분류번호', '도서권수', '대출건수', '등록일자', 'Unnamed: 13'],\n",
            "      dtype='object')\n"
          ]
        }
      ],
      "source": [
        "# 필요한 라이브러리 임포트\n",
        "import pandas as pd\n",
        "\n",
        "# 데이터 불러오기\n",
        "file_path = '/content/drive/MyDrive/KDT/03. 정형데이터분석시각화/02. Data파일/ns_202104.csv'\n",
        "\n",
        "# pd.read_csv() 사용\n",
        "df_ns = pd.read_csv(file_path, encoding='cp949')\n",
        "\n",
        "# 결과 확인하기\n",
        "# print(df_ns)\n",
        "print(df_ns.columns)"
      ]
    },
    {
      "cell_type": "code",
      "source": [
        "# 1. loc 인덱서 + 슬라이싱 이용 --> 'Unnamed:13' 제거\n",
        "print(df_ns.columns)\n",
        "\n",
        "df1 = df_ns.loc[:,'번호':'등록일자']\n",
        "print(df1)"
      ],
      "metadata": {
        "id": "kaYsK1kYt0nr",
        "colab": {
          "base_uri": "https://localhost:8080/"
        },
        "outputId": "641a68de-b60e-4722-e558-5c20331e5190"
      },
      "execution_count": null,
      "outputs": [
        {
          "output_type": "stream",
          "name": "stdout",
          "text": [
            "Index(['번호', '도서명', '저자', '출판사', '발행년도', 'ISBN', '세트 ISBN', '부가기호', '권',\n",
            "       '주제분류번호', '도서권수', '대출건수', '등록일자', 'Unnamed: 13'],\n",
            "      dtype='object')\n",
            "            번호                    도서명                저자    출판사  발행년도  \\\n",
            "0            1                인공지능과 흙            김동훈 지음    민음사  2021   \n",
            "1            2           가짜 행복 권하는 사회            김태형 지음   갈매나무  2021   \n",
            "2            3  나도 한 문장 잘 쓰면 바랄 게 없겠네            김선영 지음   블랙피쉬  2021   \n",
            "3            4                예루살렘 해변  이도 게펜 지음, 임재희 옮김  문학세계사  2021   \n",
            "4            5  김성곤의 중국한시기행 : 장강·황하 편            김성곤 지음    김영사  2021   \n",
            "...        ...                    ...               ...    ...   ...   \n",
            "401677  401678                韓國現代詩大系            채만묵 編著  한국문화사  1996   \n",
            "401678  401679                  뉴 웨이브        제임스 모나코 지음    한나래  1996   \n",
            "401679  401680           (최인훈 장편소설)화두            최인훈 지음    민음사  1994   \n",
            "401680  401681           독일 문학과 세계 문학            吳漢鎭 編著     벽호  1995   \n",
            "401681  401682             참으로 소중한 생각            김일상 지음    동문사  1995   \n",
            "\n",
            "                 ISBN          세트 ISBN 부가기호    권   주제분류번호  도서권수  대출건수  \\\n",
            "0       9788937444319              NaN  NaN  NaN      NaN     1     0   \n",
            "1       9791190123969              NaN  NaN  NaN      NaN     1     0   \n",
            "2       9788968332982              NaN  NaN  NaN      NaN     1     0   \n",
            "3       9788970759906              NaN  NaN  NaN      NaN     1     0   \n",
            "4       9788934990833              NaN  NaN  NaN      NaN     1     0   \n",
            "...               ...              ...  ...  ...      ...   ...   ...   \n",
            "401677  9788977352971  9788977352988.0  NaN    3  811.608     1     0   \n",
            "401678  9788985367448  9788985367424.0  NaN    2   688.04     1     0   \n",
            "401679  9788937401596  9788937401589.0  NaN    2    813.6     1     0   \n",
            "401680  9788947700368  9788947700405.0  NaN    3   809.05     2     0   \n",
            "401681  9788970610092  9788970610092.0    0    1    814.6     0     0   \n",
            "\n",
            "              등록일자  \n",
            "0       2021-03-19  \n",
            "1       2021-03-19  \n",
            "2       2021-03-19  \n",
            "3       2021-03-19  \n",
            "4       2021-03-19  \n",
            "...            ...  \n",
            "401677  1970-01-01  \n",
            "401678  1970-01-01  \n",
            "401679  1970-01-01  \n",
            "401680  1970-01-01  \n",
            "401681  1970-01-01  \n",
            "\n",
            "[401682 rows x 13 columns]\n"
          ]
        }
      ]
    },
    {
      "cell_type": "code",
      "source": [
        "# 2. fancy indexing\n",
        "df2 = df_ns.loc[:,('번호', '도서명', '저자', '출판사', '발행년도', 'ISBN', '세트 ISBN', '부가기호', '권','주제분류번호', '도서권수', '대출건수', '등록일자')]\n",
        "print(df2)\n"
      ],
      "metadata": {
        "id": "zEtdYNLCwypj",
        "colab": {
          "base_uri": "https://localhost:8080/"
        },
        "outputId": "7fd7e5fd-d24d-4ed2-d181-f1122483c007"
      },
      "execution_count": null,
      "outputs": [
        {
          "output_type": "stream",
          "name": "stdout",
          "text": [
            "            번호                    도서명                저자    출판사  발행년도  \\\n",
            "0            1                인공지능과 흙            김동훈 지음    민음사  2021   \n",
            "1            2           가짜 행복 권하는 사회            김태형 지음   갈매나무  2021   \n",
            "2            3  나도 한 문장 잘 쓰면 바랄 게 없겠네            김선영 지음   블랙피쉬  2021   \n",
            "3            4                예루살렘 해변  이도 게펜 지음, 임재희 옮김  문학세계사  2021   \n",
            "4            5  김성곤의 중국한시기행 : 장강·황하 편            김성곤 지음    김영사  2021   \n",
            "...        ...                    ...               ...    ...   ...   \n",
            "401677  401678                韓國現代詩大系            채만묵 編著  한국문화사  1996   \n",
            "401678  401679                  뉴 웨이브        제임스 모나코 지음    한나래  1996   \n",
            "401679  401680           (최인훈 장편소설)화두            최인훈 지음    민음사  1994   \n",
            "401680  401681           독일 문학과 세계 문학            吳漢鎭 編著     벽호  1995   \n",
            "401681  401682             참으로 소중한 생각            김일상 지음    동문사  1995   \n",
            "\n",
            "                 ISBN          세트 ISBN 부가기호    권   주제분류번호  도서권수  대출건수  \\\n",
            "0       9788937444319              NaN  NaN  NaN      NaN     1     0   \n",
            "1       9791190123969              NaN  NaN  NaN      NaN     1     0   \n",
            "2       9788968332982              NaN  NaN  NaN      NaN     1     0   \n",
            "3       9788970759906              NaN  NaN  NaN      NaN     1     0   \n",
            "4       9788934990833              NaN  NaN  NaN      NaN     1     0   \n",
            "...               ...              ...  ...  ...      ...   ...   ...   \n",
            "401677  9788977352971  9788977352988.0  NaN    3  811.608     1     0   \n",
            "401678  9788985367448  9788985367424.0  NaN    2   688.04     1     0   \n",
            "401679  9788937401596  9788937401589.0  NaN    2    813.6     1     0   \n",
            "401680  9788947700368  9788947700405.0  NaN    3   809.05     2     0   \n",
            "401681  9788970610092  9788970610092.0    0    1    814.6     0     0   \n",
            "\n",
            "              등록일자  \n",
            "0       2021-03-19  \n",
            "1       2021-03-19  \n",
            "2       2021-03-19  \n",
            "3       2021-03-19  \n",
            "4       2021-03-19  \n",
            "...            ...  \n",
            "401677  1970-01-01  \n",
            "401678  1970-01-01  \n",
            "401679  1970-01-01  \n",
            "401680  1970-01-01  \n",
            "401681  1970-01-01  \n",
            "\n",
            "[401682 rows x 13 columns]\n"
          ]
        }
      ]
    },
    {
      "cell_type": "code",
      "source": [
        "# 3. Boolean indexing\n",
        "\n",
        "cond1 = (df_ns.columns != 'Unnamed: 13')\n",
        "df3 = df_ns.loc[:,cond1]\n",
        "print(df3)"
      ],
      "metadata": {
        "id": "O-jPaqHtxJOT",
        "colab": {
          "base_uri": "https://localhost:8080/"
        },
        "outputId": "a727fc6f-5038-427d-9241-833477e5ecca"
      },
      "execution_count": null,
      "outputs": [
        {
          "output_type": "stream",
          "name": "stdout",
          "text": [
            "            번호                    도서명                저자    출판사  발행년도  \\\n",
            "0            1                인공지능과 흙            김동훈 지음    민음사  2021   \n",
            "1            2           가짜 행복 권하는 사회            김태형 지음   갈매나무  2021   \n",
            "2            3  나도 한 문장 잘 쓰면 바랄 게 없겠네            김선영 지음   블랙피쉬  2021   \n",
            "3            4                예루살렘 해변  이도 게펜 지음, 임재희 옮김  문학세계사  2021   \n",
            "4            5  김성곤의 중국한시기행 : 장강·황하 편            김성곤 지음    김영사  2021   \n",
            "...        ...                    ...               ...    ...   ...   \n",
            "401677  401678                韓國現代詩大系            채만묵 編著  한국문화사  1996   \n",
            "401678  401679                  뉴 웨이브        제임스 모나코 지음    한나래  1996   \n",
            "401679  401680           (최인훈 장편소설)화두            최인훈 지음    민음사  1994   \n",
            "401680  401681           독일 문학과 세계 문학            吳漢鎭 編著     벽호  1995   \n",
            "401681  401682             참으로 소중한 생각            김일상 지음    동문사  1995   \n",
            "\n",
            "                 ISBN          세트 ISBN 부가기호    권   주제분류번호  도서권수  대출건수  \\\n",
            "0       9788937444319              NaN  NaN  NaN      NaN     1     0   \n",
            "1       9791190123969              NaN  NaN  NaN      NaN     1     0   \n",
            "2       9788968332982              NaN  NaN  NaN      NaN     1     0   \n",
            "3       9788970759906              NaN  NaN  NaN      NaN     1     0   \n",
            "4       9788934990833              NaN  NaN  NaN      NaN     1     0   \n",
            "...               ...              ...  ...  ...      ...   ...   ...   \n",
            "401677  9788977352971  9788977352988.0  NaN    3  811.608     1     0   \n",
            "401678  9788985367448  9788985367424.0  NaN    2   688.04     1     0   \n",
            "401679  9788937401596  9788937401589.0  NaN    2    813.6     1     0   \n",
            "401680  9788947700368  9788947700405.0  NaN    3   809.05     2     0   \n",
            "401681  9788970610092  9788970610092.0    0    1    814.6     0     0   \n",
            "\n",
            "              등록일자  \n",
            "0       2021-03-19  \n",
            "1       2021-03-19  \n",
            "2       2021-03-19  \n",
            "3       2021-03-19  \n",
            "4       2021-03-19  \n",
            "...            ...  \n",
            "401677  1970-01-01  \n",
            "401678  1970-01-01  \n",
            "401679  1970-01-01  \n",
            "401680  1970-01-01  \n",
            "401681  1970-01-01  \n",
            "\n",
            "[401682 rows x 13 columns]\n"
          ]
        }
      ]
    },
    {
      "cell_type": "code",
      "source": [
        "# 4. 슬라이싱\n",
        "\n",
        "df4 = df_ns.loc[:,'번호':'등록일자']\n",
        "print(df4)"
      ],
      "metadata": {
        "id": "isvFYnT0yZUc"
      },
      "execution_count": null,
      "outputs": []
    },
    {
      "cell_type": "code",
      "source": [
        "# 5. drop()\n",
        "col_n = df_ns.columns[-1]           # <-- 마지막 컬럼(df.columns는 인덱싱이 가능하다)\n",
        "df5 = df_ns.drop(axis=1, columns=col_n)\n",
        "print(df5)"
      ],
      "metadata": {
        "id": "ONZTZ-Z49Abt"
      },
      "execution_count": null,
      "outputs": []
    },
    {
      "cell_type": "code",
      "source": [
        "# 6. dropna()\n",
        "# print(df_ns.keys())\n",
        "# print(df_ns.iloc[:,13].value_counts())\n",
        "print(df_ns.loc[:,:].value_counts())\n",
        "# print(df_ns.iloc[:,13])\n",
        "# print(df_ns.loc[:,'Unnamed: 13'].isnull().sum() == len(df_ns))\n",
        "# 'Unnamed: 13' 컬럼은 전체 데이터가 누락데이터\n",
        "\n",
        "df6 = df_ns.dropna(axis=1, how='all')      # axis=0: index, axis=1: columns\n",
        "# print(df6)"
      ],
      "metadata": {
        "colab": {
          "base_uri": "https://localhost:8080/"
        },
        "id": "OnR2KjyBAR9U",
        "outputId": "59b84249-88a3-4513-bcad-7fb721878c4e"
      },
      "execution_count": null,
      "outputs": [
        {
          "output_type": "stream",
          "name": "stdout",
          "text": [
            "Series([], dtype: int64)\n"
          ]
        }
      ]
    },
    {
      "cell_type": "code",
      "source": [
        "### 비교 연산자 / 논리 연산자 적용\n",
        "\n",
        "# 파일 경로 설정\n",
        "file_path = '/content/drive/MyDrive/KDT/정형데이터분석시각화/시험점수.csv'\n",
        "df_score = pd.read_csv(file_path, encoding='cp949')\n",
        "\n",
        "print(df_score)\n",
        "print('\\n')\n",
        "# print(df_score.columns)\n",
        "# '이름', '성별', '학년', '반', '국어', '수학', '영어', '사회', '과학'\n",
        "\n",
        "# print(df_score.학년)\n",
        "'''\n",
        "문제\n",
        "1. 전체 학년중 3학년 학생의 데이터 추출\n",
        "2. 국어점수가 70점 이상인\n",
        "3. 성별이 여자인\n",
        "4. 3학년 학생이고, 국어점수가 70점 이상, 성별이 여자\n",
        "'''\n",
        "# 1.\n",
        "cond1 = (df_score.loc[:,'학년'] == 3)\n",
        "cond1 = (df_score.학년 == 3)\n",
        "ans1 = df_score.loc[cond1,:]\n",
        "print(f'1. 전체 학년중 3학년 학생의 데이터 추출 결과 :\\n{ans1}')\n",
        "# 2.\n",
        "cond2 = (df_score.loc[:,'국어'] >= 70)\n",
        "cond2 = (df_score.국어 >= 70)\n",
        "ans2 = df_score.loc[cond2,:]\n",
        "print(f'2. 국어점수가 70점 이상인 학생의 데이터 추출 결과 :\\n{ans2}')\n",
        "# 3.\n",
        "cond3 = (df_score.loc[:,'성별'] == '여자')\n",
        "cond3 = (df_score.성별 == '여자')\n",
        "ans3 = df_score.loc[cond3,:]\n",
        "print(f'3. 성별이 여자인 학생의 데이터 추출 결과 :\\n{ans3}')\n",
        "# 4.\n",
        "ans3 = df_score.loc[cond1 & cond2 & cond3,:]\n",
        "print(f'4. 3학년 학생이고, 국어점수가 70점 이상, 성별이 여자 학생의 데이터 추출 결과 :\\n{ans3}')"
      ],
      "metadata": {
        "id": "P8y2bBLey9ej"
      },
      "execution_count": null,
      "outputs": []
    },
    {
      "cell_type": "markdown",
      "source": [
        "##특정 행 추출하기"
      ],
      "metadata": {
        "id": "z73cdADuBPmj"
      }
    },
    {
      "cell_type": "code",
      "source": [
        "# 기본데이터 생성하기\n",
        "df_book = df_ns.drop(columns=['Unnamed: 13'])\n",
        "\n",
        "# 결과 확인하기\n",
        "print(df_book)"
      ],
      "metadata": {
        "id": "T5kh1exRBOkc"
      },
      "execution_count": null,
      "outputs": []
    },
    {
      "cell_type": "code",
      "source": [
        "# 출판사가 '한빛미디어'인 행 추출\n",
        "# 비교연산자 --> 불리언 배열 생성\n",
        "\n",
        "#loc 인덱서 + 불리언 배열 --> 불리언 인덱싱 실행\n",
        "cond1 = (df_book.출판사 == '한빛미디어')\n",
        "\n",
        "# 결과 확인하기\n",
        "print(df_book.loc[cond1,:])"
      ],
      "metadata": {
        "id": "1ehb6NXpED1S"
      },
      "execution_count": null,
      "outputs": []
    },
    {
      "cell_type": "code",
      "source": [
        "# 대출건수 > 1000 --> 조건만족 행 추출\n",
        "# df_book.keys()\n",
        "cond2 = (df_book.대출건수 > 1000)\n",
        "\n",
        "print(df_book.loc[cond2,('번호','도서명','저자','출판사','발행년도','ISBN','세트 ISBN','부가기호','권','주제분류번호','도서권수','대출건수','등록일자')])"
      ],
      "metadata": {
        "colab": {
          "base_uri": "https://localhost:8080/"
        },
        "id": "ABeaZqmHJu8j",
        "outputId": "2818fd88-1268-497e-b01c-6a381d036249"
      },
      "execution_count": null,
      "outputs": [
        {
          "output_type": "stream",
          "name": "stdout",
          "text": [
            "            번호                                      도서명                 저자  \\\n",
            "94781    94782  사피엔스 :유인원에서 사이보그까지, 인간 역사의 대담하고 위대한 질문   유발 하라리 지음 ;조현욱 옮김   \n",
            "346944  346945                         해커스 토익:Listening       David Cho 지음   \n",
            "\n",
            "             출판사  발행년도           ISBN 세트 ISBN 부가기호    권  주제분류번호  도서권수  대출건수  \\\n",
            "94781        김영사  2016  9788934972464     NaN  NaN  NaN   909.0    30  1468   \n",
            "346944  해커스어학연구소  2005  9788990700148     NaN    1  NaN  740.77    29  1065   \n",
            "\n",
            "              등록일자  \n",
            "94781   2016-04-22  \n",
            "346944  2005-02-01  \n"
          ]
        }
      ]
    },
    {
      "cell_type": "markdown",
      "source": [
        "##중복된 행 추출하기"
      ],
      "metadata": {
        "id": "bcp4JRbcGF1K"
      }
    },
    {
      "cell_type": "markdown",
      "source": [
        "### ■ duplicated()"
      ],
      "metadata": {
        "id": "HMceg8iRRNca"
      }
    },
    {
      "cell_type": "code",
      "source": [
        "# duplicated(subset, keep) 이용 --> 불리언 배열 리턴한다.\n",
        "# df_temp1 = df_book.duplicated(subset='저자', keep='last')\n",
        "# print(df_temp1)\n",
        "\n",
        "# 중복된 행의 개수 계산 및 추출\n",
        "df_dupli = df_book.duplicated()\n",
        "num1 = df_dupli.sum()\n",
        "# 번호컬럼: key처럼 모두 다르니.. 중복이 0이 나온다.\n",
        "\n",
        "df_dupli = df_book.duplicated()\n",
        "num1 = df_dupli.sum()\n",
        "print(f'중복된 행의 개수 = {num1}개')\n",
        "\n",
        "'''\n",
        "- subset\n",
        "column label or sequence of labels, optional\n",
        "Only consider certain columns for identifying duplicates, by default use all of the columns.\n",
        "\n",
        "\n",
        "- keep : {'first','last',False}, (default:'first')\n",
        "Determines which duplicates (if any) to mark.\n",
        "\n",
        "first : Mark duplicates as True except for the first occurrence.\n",
        "last : Mark duplicates as True except for the last occurrence.\n",
        "False : Mark all duplicates as True.\n",
        "'''"
      ],
      "metadata": {
        "colab": {
          "base_uri": "https://localhost:8080/",
          "height": 109
        },
        "id": "SnftNidSGIfT",
        "outputId": "b3299d0a-5059-408e-8d9d-4bec06ac0522"
      },
      "execution_count": null,
      "outputs": [
        {
          "output_type": "stream",
          "name": "stdout",
          "text": [
            "중복된 행의 개수 = 0개\n"
          ]
        },
        {
          "output_type": "execute_result",
          "data": {
            "text/plain": [
              "\"\\n- subset\\ncolumn label or sequence of labels, optional\\nOnly consider certain columns for identifying duplicates, by default use all of the columns.\\n\\n\\n- keep : {'first','last',False}, (default:'first')\\nDetermines which duplicates (if any) to mark.\\n\\nfirst : Mark duplicates as True except for the first occurrence.\\nlast : Mark duplicates as True except for the last occurrence.\\nFalse : Mark all duplicates as True.\\n\""
            ],
            "application/vnd.google.colaboratory.intrinsic+json": {
              "type": "string"
            }
          },
          "metadata": {},
          "execution_count": 30
        }
      ]
    },
    {
      "cell_type": "code",
      "source": [
        "# '도서명', '저자', ISBN' 컬럼 기준 --> 중복된 행 찾기(1) :keep='first'/'last'\n",
        "num2 = df_book.duplicated(subset=['도서명','저자','ISBN']).sum()\n",
        "\n",
        "# 이 조건으로 중복된 행의 개수 계산 및 추출\n",
        "print(f'중복된 행의 개수 = {num2}개')"
      ],
      "metadata": {
        "colab": {
          "base_uri": "https://localhost:8080/"
        },
        "id": "NJqDgOYcU4e7",
        "outputId": "c38d6ff5-57ad-494e-e1a3-f5463ccdd704"
      },
      "execution_count": null,
      "outputs": [
        {
          "output_type": "stream",
          "name": "stdout",
          "text": [
            "중복된 행의 개수 = 20191개\n"
          ]
        }
      ]
    },
    {
      "cell_type": "code",
      "source": [
        "# '도서명', '저자', ISBN' 컬럼 기준 --> 중복된 행 찾기(2)\n",
        "num3 = df_book.duplicated(subset=['도서명','저자','ISBN'],keep=False).sum()\n",
        "\n",
        "# 이 조건으로 중복된 행의 개수 계산 및 추출\n",
        "print(f'중복된 행의 개수 = {num3}개')"
      ],
      "metadata": {
        "colab": {
          "base_uri": "https://localhost:8080/"
        },
        "id": "ZTAM2WqkWMVa",
        "outputId": "120fdcc5-2bee-4623-95b4-eaef5ee7ef7b"
      },
      "execution_count": null,
      "outputs": [
        {
          "output_type": "stream",
          "name": "stdout",
          "text": [
            "중복된 행의 개수 = 35770개\n"
          ]
        }
      ]
    },
    {
      "cell_type": "markdown",
      "source": [
        "### ■ drop_duplicates()"
      ],
      "metadata": {
        "id": "unVeM7DpX0Bu"
      }
    },
    {
      "cell_type": "code",
      "source": [
        "# drop_duplicates(subset,keep,inplace,ignore_index)\n",
        "# : 모든 컬럼을 기준으로 중복된 행을 찾아서 첫번째 값을 제외한 나머지 행을 제거\n",
        "# subset : 특정 컬럼을 기준으로 중복된 행을 찾는 경우 사용\n",
        "# keep : 중복된 행을 제거할 때 남길 행 지정, 기본값 = 'first'\n",
        "# inplace : inplace=True 현재 데이터 프레임 수정\n",
        "# ignore_index=True : 인덱스 재설정"
      ],
      "metadata": {
        "id": "U7CXB0RdajUU"
      },
      "execution_count": null,
      "outputs": []
    },
    {
      "cell_type": "code",
      "source": [
        "# 중복된 행 추출 : 첫번째 방법\n",
        "\n",
        "# 불리언 배열 --> 중복된 행 추출\n",
        "cond3 = (df_book.duplicated(subset=['도서명','저자','ISBN']) == True)\n",
        "\n",
        "# print(df_book.loc[cond3,:])\n",
        "\n",
        "# 중복된 행의 인덱스 추출\n",
        "dupli_index = df_book.loc[cond3,:].index\n",
        "print(f'중복된 행의 인덱스 :\\n{dupli_index}')\n",
        "\n",
        "# drop() 함수 호출 : index=행지정, columns=열지정\n",
        "df_book4 = df_book.drop(index=dupli_index)\n",
        "\n",
        "# 결과 확인하기\n",
        "df_book4\n",
        "# print(len(df_book4))"
      ],
      "metadata": {
        "id": "n01h--z5bznE"
      },
      "execution_count": null,
      "outputs": []
    },
    {
      "cell_type": "code",
      "source": [
        "# 중복된 행 추출 : 두번째 방법\n",
        "\n",
        "# drop_duplicates()\n",
        "df_book5 = df_book.drop_duplicates(subset=['도서명','저자','ISBN'],keep='first',ignore_index=True )\n",
        "\n",
        "df_book5\n",
        "# print(len(df_book5))"
      ],
      "metadata": {
        "id": "ZjrJbUxtgNq8"
      },
      "execution_count": null,
      "outputs": []
    },
    {
      "cell_type": "markdown",
      "source": [
        "### ■ groupby()"
      ],
      "metadata": {
        "id": "UnlkYyn6k3g0"
      }
    },
    {
      "cell_type": "code",
      "source": [
        "# 중복되는 데이터를 그룹별로 모아서 처리하기\n",
        "\n",
        "# 중복여부를 확인하여 그룹별로 묶을 컬럼과 대출건수 컬럼 --> fancy indexing\n",
        "df_loan = df_book.loc[:,['도서명','저자','ISBN','대출건수']]\n",
        "\n",
        "# 결과 확인하기\n",
        "# print(df_loan)\n"
      ],
      "metadata": {
        "colab": {
          "base_uri": "https://localhost:8080/"
        },
        "id": "Yxn6WNP6k5rz",
        "outputId": "243b33ac-3d7b-49aa-8c03-4298397feb11"
      },
      "execution_count": null,
      "outputs": [
        {
          "output_type": "stream",
          "name": "stdout",
          "text": [
            "                                                                                                            대출건수\n",
            "도서명                                             저자                                           ISBN               \n",
            " (꼭 필요한 것부터 쉽게 배우는) 자신만만 블로그 차근차근 배우기           김상현 지음                                       9788955025637    38\n",
            " (맨처음 배우는) 세상의 직업                               엘레오노라 바르소티 글 ·그림 ;김태은 옮김                     9788992924146    10\n",
            " (영잘원 리스닝과 패턴 영어의 절묘한 만남으로 태어난 ) 리스닝 ABC : 입문편  JD Kim 지음                                    9788993466089     4\n",
            " (즉석에서 바로바로 활용하는) 일상생활 베트남어 첫걸음                 FL4U컨텐츠 지음                                   9788971728000     3\n",
            " ,에게                                            이기린(이진희)                                     9791196137014     0\n",
            "...                                                                                                          ...\n",
            "茶의 과학                                           정동효                                          9788938425188     1\n",
            "＋α를 위한 도전                                       한국능률협회 [편]                                   9788989503088     4\n",
            "７·１３水害                                          新潟日報事業社 [編]                                  9784861320699     1\n",
            "＠좌절＋열공 :우리 시대 멘토 9인이 전하는 좌절 극복과 진짜 공부 이야기       강신주, 강풀, 김진숙, 김진혁, 도종환, 엄기호, 정혜신, 정희진, 조국 지음 9788974834791    50\n",
            "ｉ                                               西加奈子 著                                       9784591153093     0\n",
            "\n",
            "[380909 rows x 1 columns]\n"
          ]
        }
      ]
    },
    {
      "cell_type": "code",
      "source": [
        "# groupby() 함수 적용하기\n",
        "print(f'통계함수를 적용하지 않은 결과 :\\n{df_loan.groupby(by=[\"도서명\",\"저자\",\"ISBN\"])}\\n')\n",
        "# df_loan.groupby(by=['도서명','저자','ISBN'])\n",
        "\n",
        "# 통계처리한 결과 확인\n",
        "# groupby() 결과물 --> 추가 : sum() 적용 --> 대출건수 컬럼에 적용\n",
        "print(f'통계함수를 적용한 결과 :\\n{df_loan.groupby(by=[\"도서명\",\"저자\",\"ISBN\"]).sum()}')\n"
      ],
      "metadata": {
        "id": "YxqZN2H8oCh-"
      },
      "execution_count": null,
      "outputs": []
    }
  ]
}
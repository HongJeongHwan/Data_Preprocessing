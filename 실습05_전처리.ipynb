{
  "nbformat": 4,
  "nbformat_minor": 0,
  "metadata": {
    "colab": {
      "provenance": [],
      "toc_visible": true,
      "mount_file_id": "1ryvAxZOvkDl3VAP4a4ZdJMVRan9D5FEg",
      "authorship_tag": "ABX9TyP7a4Gui5UAnzLyMM0JKbBv",
      "include_colab_link": true
    },
    "kernelspec": {
      "name": "python3",
      "display_name": "Python 3"
    },
    "language_info": {
      "name": "python"
    }
  },
  "cells": [
    {
      "cell_type": "markdown",
      "metadata": {
        "id": "view-in-github",
        "colab_type": "text"
      },
      "source": [
        "<a href=\"https://colab.research.google.com/github/HongJeongHwan/Data_Preprocessing/blob/main/%EC%8B%A4%EC%8A%B505_%EC%A0%84%EC%B2%98%EB%A6%AC.ipynb\" target=\"_parent\"><img src=\"https://colab.research.google.com/assets/colab-badge.svg\" alt=\"Open In Colab\"/></a>"
      ]
    },
    {
      "cell_type": "markdown",
      "source": [
        "## § 누락 데이터 처리(필수)"
      ],
      "metadata": {
        "id": "1g652GtqseJs"
      }
    },
    {
      "cell_type": "code",
      "execution_count": null,
      "metadata": {
        "id": "8n3sqz9ZsJge"
      },
      "outputs": [],
      "source": [
        "# 누락 처리에 필요한 데이터 생성하기\n",
        "\n",
        "# 필요한 라이브러리 임포트\n",
        "import pandas as pd\n",
        "\n",
        "# csv file 경로 설정\n",
        "file_path = '/content/drive/MyDrive/KDT/정형데이터분석시각화/ns_202104.csv'\n",
        "df_ns = pd.read_csv(file_path,encoding='cp949')\n",
        "\n",
        "# 기본 데이터 생성하기\n",
        "df_book = df_ns.drop(columns =['Unnamed: 13'])\n",
        "\n",
        "# 결과 확인하기\n",
        "# print(df_book)\n",
        "df_book"
      ]
    },
    {
      "cell_type": "markdown",
      "source": [
        "### ■ 누락된 데이터의 개수 확인"
      ],
      "metadata": {
        "id": "r5QmNju-vscu"
      }
    },
    {
      "cell_type": "code",
      "source": [
        "# isnull() 함수\n",
        "\n",
        "# isnull() 함수 사용 --> 불리언 배열 생성\n",
        "df_nulls = df_book.isnull()\n",
        "print(f'전체 데이터에 대한 누락 여부 확인 :\\n{df_nulls}\\n')\n",
        "\n",
        "# sum() 함수 사용  -->>  누락된 데이터 개수 연산\n",
        "s_nulls = df_nulls.sum()\n",
        "\n",
        "# 결과 확인\n",
        "print(f'{s_nulls}')"
      ],
      "metadata": {
        "id": "VfYEdUfKt6pt"
      },
      "execution_count": null,
      "outputs": []
    },
    {
      "cell_type": "code",
      "source": [
        "# 각 컬럼별 누락된 데이터가 존재하는 행의 인덱스 추출\n",
        "\n",
        "# 컬럼 : 도서명 컬럼\n",
        "# df_book.도서명.isnull()\n",
        "cond1 = df_book.loc[:,'도서명'].isnull()\n",
        "print(f'{cond1}\\n')\n",
        "\n",
        "# df_book.loc[cond1,:]\n",
        "s_nulls1 = df_book.도서명.loc[cond1]\n",
        "\n",
        "# 결과 확인하기\n",
        "print(f'{s_nulls1}\\n')\n",
        "\n",
        "# 누락된 데이터(행) --> 인덱스 추출\n",
        "index_nulls1 = s_nulls1.index\n",
        "print(f'도서명 컬럼에서 누락인 행의 인덱스 :\\n{index_nulls1}\\n')\n",
        "\n",
        "# 컬럼 : 저자 컬럼\n",
        "cond2 = df_book.loc[:,'저자'].isnull()\n",
        "print(f'{cond2}\\n')\n",
        "\n",
        "# df_book.loc[cond1,:]\n",
        "s_nulls2 = df_book.저자.loc[cond2]\n",
        "\n",
        "# 결과 확인하기\n",
        "print(f'{s_nulls2}\\n')\n",
        "\n",
        "# 누락된 데이터(행) --> 인덱스 추출\n",
        "index_nulls2 = s_nulls2.index\n",
        "print(f'저자 컬럼에서 누락인 행의 인덱스 :\\n{index_nulls2}\\n')"
      ],
      "metadata": {
        "id": "eyHrmgwpxqS0"
      },
      "execution_count": null,
      "outputs": []
    },
    {
      "cell_type": "markdown",
      "source": [
        "### ■ 누락 데이터 삭제하기"
      ],
      "metadata": {
        "id": "iguBAS3VGsSn"
      }
    },
    {
      "cell_type": "markdown",
      "source": [
        "#### → drop(index=[])"
      ],
      "metadata": {
        "id": "-rlXDZPRG-t1"
      }
    },
    {
      "cell_type": "code",
      "source": [
        "# 특정 컬럼 --> 누락 데이터 제거\n",
        "\n",
        "# 컬럼 : 도서명 --> df.도서명.drop(index=[])\n",
        "df_cleaned_name1 = df_book.도서명.drop(index=index_nulls1)\n",
        "\n",
        "# 결과 확인하기\n",
        "print(f'도서명 컬럼에서 누락된 데이터를 제외한 나머지 데이터 :\\n{df_cleaned_name1}\\n')\n",
        "\n",
        "df_cleaned_name1.isnull().sum()\n",
        "\n",
        "\n",
        "# 컬럼 : 저자 --> df.저자.drop(index=[])\n",
        "df_cleaned_name2 = df_book.저자.drop(index=index_nulls2)\n",
        "\n",
        "# 결과 확인하기\n",
        "print(f'도서명 컬럼에서 누락된 데이터를 제외한 나머지 데이터 :\\n{df_cleaned_name2}\\n')\n",
        "\n",
        "df_cleaned_name2.isnull().sum()"
      ],
      "metadata": {
        "colab": {
          "base_uri": "https://localhost:8080/"
        },
        "id": "gxXcPV7aGwGN",
        "outputId": "c60eafd4-0855-44bd-9309-a41efb76ef56"
      },
      "execution_count": null,
      "outputs": [
        {
          "output_type": "stream",
          "name": "stdout",
          "text": [
            "도서명 컬럼에서 누락된 데이터를 제외한 나머지 데이터 :\n",
            "0                       인공지능과 흙\n",
            "1                  가짜 행복 권하는 사회\n",
            "2         나도 한 문장 잘 쓰면 바랄 게 없겠네\n",
            "3                       예루살렘 해변\n",
            "4         김성곤의 중국한시기행 : 장강·황하 편\n",
            "                  ...          \n",
            "401677                  韓國現代詩大系\n",
            "401678                    뉴 웨이브\n",
            "401679             (최인훈 장편소설)화두\n",
            "401680             독일 문학과 세계 문학\n",
            "401681               참으로 소중한 생각\n",
            "Name: 도서명, Length: 401279, dtype: object\n",
            "\n",
            "도서명 컬럼에서 누락된 데이터를 제외한 나머지 데이터 :\n",
            "0                   김동훈 지음\n",
            "1                   김태형 지음\n",
            "2                   김선영 지음\n",
            "3         이도 게펜 지음, 임재희 옮김\n",
            "4                   김성곤 지음\n",
            "                ...       \n",
            "401677              채만묵 編著\n",
            "401678          제임스 모나코 지음\n",
            "401679              최인훈 지음\n",
            "401680              吳漢鎭 編著\n",
            "401681              김일상 지음\n",
            "Name: 저자, Length: 401481, dtype: object\n",
            "\n"
          ]
        },
        {
          "output_type": "execute_result",
          "data": {
            "text/plain": [
              "0"
            ]
          },
          "metadata": {},
          "execution_count": 20
        }
      ]
    },
    {
      "cell_type": "code",
      "source": [
        "# 나의 실습\n",
        "\n",
        "cond1 = df_book.loc[:,'도서명'].isnull()\n",
        "# print(f'{cond1}\\n')\n",
        "\n",
        "# df_book.loc[cond1,:]\n",
        "s_nulls1 = df_book.도서명.loc[cond1]\n",
        "\n",
        "# 결과 확인하기\n",
        "# print(f'{s_nulls1}\\n')\n",
        "\n",
        "# 누락된 데이터(행) --> 인덱스 추출\n",
        "index_nulls1 = s_nulls1.index\n",
        "\n",
        "\n",
        "df_cleaned_name3 = df_book.drop(index=index_nulls1)\n",
        "\n",
        "# 결과 확인하기\n",
        "print(f'도서명 컬럼에서 누락된 데이터를 제외한 나머지 데이터 :\\n{df_cleaned_name3}\\n')\n"
      ],
      "metadata": {
        "id": "s6KF1WXluA_L"
      },
      "execution_count": null,
      "outputs": []
    },
    {
      "cell_type": "markdown",
      "source": [
        "#### → dropna(axis,subset,inplace)"
      ],
      "metadata": {
        "id": "DYsaeyAgIu7e"
      }
    },
    {
      "cell_type": "code",
      "source": [
        "# df.dropna()\n",
        "df_book1 = df_book.dropna()\n",
        "print(f'전체 컬럼에 대해서 누락인 데이터가 1개라도 존재하는 행 제거 결과 :\\n{df_book1}\\n')\n",
        "\n",
        "# df.dropna(subset=[])\n",
        "df_book2 = df_book.dropna(subset=['도서명','저자'])\n",
        "# df_book2 = df_book.dropna(subset=['도서명','저자'], ignore_index=True)\n",
        "print(f'도서명과 저자 컬럼에 대해서 누락인 데이터가 1개라도 존재하는 행 제거 결과 :\\n{df_book2}\\n')\n",
        "# ignore_index : 2.0.0부터 동작(현재 버전(pd.__version__) :1.5.3)"
      ],
      "metadata": {
        "id": "CgUT-BGKI1Wv"
      },
      "execution_count": null,
      "outputs": []
    },
    {
      "cell_type": "markdown",
      "source": [
        "##### : pandas version"
      ],
      "metadata": {
        "id": "r-R1lnmAT1D3"
      }
    },
    {
      "cell_type": "code",
      "source": [
        "# 판다스 버전 확인\n",
        "print(pd.__version__)"
      ],
      "metadata": {
        "colab": {
          "base_uri": "https://localhost:8080/"
        },
        "id": "J448swsDRCVh",
        "outputId": "92d1e262-5217-42fe-bddf-efa2d7f83ba0"
      },
      "execution_count": null,
      "outputs": [
        {
          "output_type": "stream",
          "name": "stdout",
          "text": [
            "1.5.3\n"
          ]
        }
      ]
    },
    {
      "cell_type": "code",
      "source": [
        "# 기존 pandas 제거\n",
        "!pip uninstall pandas\n"
      ],
      "metadata": {
        "id": "8Hi5JeCMSVW_"
      },
      "execution_count": null,
      "outputs": []
    },
    {
      "cell_type": "code",
      "source": [
        "# 기존 pandas 재설치\n",
        "!pip install pandas==1.5.3"
      ],
      "metadata": {
        "id": "Vr5D5-2iSy7-"
      },
      "execution_count": null,
      "outputs": []
    },
    {
      "cell_type": "markdown",
      "source": [
        "### ■ 누락된 데이터 변경하기"
      ],
      "metadata": {
        "id": "7qmYnpmoUiS3"
      }
    },
    {
      "cell_type": "markdown",
      "source": [
        "#### → fillna()"
      ],
      "metadata": {
        "id": "tN_qsan6VJ8e"
      }
    },
    {
      "cell_type": "code",
      "source": [
        "# fillna() 이용 --> 누락된 데이터 변경\n",
        "\n",
        "# 대상 : DataFrame\n",
        "df_fill1 = df_book.fillna('없음')\n",
        "\n",
        "# 결과 확인하기\n",
        "print(f'{df_fill1}\\n')\n",
        "\n",
        "\n",
        "# 대상 : 특정 컬럼(1) --> 세트 ISBN\n",
        "\n",
        "# df.col.fillna(value)\n",
        "s_fill = df_book.loc[:,'세트 ISBN'].fillna('원래없음')\n",
        "\n",
        "# 결과 확인하기\n",
        "print(f'{s_fill}\\n')\n",
        "\n",
        "# 대상 : 특정 컬럼(2) --> 세트 ISBN\n",
        "\n",
        "# 결과물이 DataFrame으로 하려면\n",
        "df_fill2 = df_book.fillna({'세트 ISBN':'원래없음'})\n",
        "\n",
        "# 결과 확인하기\n",
        "print(f'{df_fill2}\\n')\n"
      ],
      "metadata": {
        "id": "CZ8wRcH3UlCH"
      },
      "execution_count": null,
      "outputs": []
    },
    {
      "cell_type": "markdown",
      "source": [
        "#### → replace()"
      ],
      "metadata": {
        "id": "bYqfS0WbdNSJ"
      }
    },
    {
      "cell_type": "code",
      "source": [
        "# replace() 이용 --> 여러개의 데이터를 변경하기\n",
        "\n",
        "# 필요한 라이브러리 임포트\n",
        "import numpy as np\n",
        "\n",
        "# replace() --> python dict 자료형 --> {key:value} 쌍으로 전달\n",
        "df_book3 = df_book.replace({np.nan:'없음','2021':'21'})\n",
        "\n",
        "# 결과 확인하기\n",
        "print(f'{df_book3}\\n')"
      ],
      "metadata": {
        "id": "YSJMS303dPwq"
      },
      "execution_count": null,
      "outputs": []
    },
    {
      "cell_type": "code",
      "source": [
        "# replace() --> 컬럼마다 다른 값으로 바꾸는 경우\n",
        "# df.replace({col1:{old:new},col2:{old:new},,,,,,})\n",
        "df_book4 = df_book.replace({'부가기호':{np.nan:'없음'},'발행년도':{'2020':'20','2021':'21','2022':'22','2023':'23'}})\n",
        "\n",
        "# 결과 확인하기\n",
        "print(f'{df_book4}')"
      ],
      "metadata": {
        "id": "cCdz6s0IhNQS"
      },
      "execution_count": null,
      "outputs": []
    },
    {
      "cell_type": "code",
      "source": [
        "df_book.info()"
      ],
      "metadata": {
        "colab": {
          "base_uri": "https://localhost:8080/"
        },
        "id": "dRXJDvWZgNJ0",
        "outputId": "c145ed14-f3db-4fdf-8183-e25c1b479b6f"
      },
      "execution_count": null,
      "outputs": [
        {
          "output_type": "stream",
          "name": "stdout",
          "text": [
            "<class 'pandas.core.frame.DataFrame'>\n",
            "RangeIndex: 401682 entries, 0 to 401681\n",
            "Data columns (total 13 columns):\n",
            " #   Column   Non-Null Count   Dtype \n",
            "---  ------   --------------   ----- \n",
            " 0   번호       401682 non-null  int64 \n",
            " 1   도서명      401279 non-null  object\n",
            " 2   저자       401481 non-null  object\n",
            " 3   출판사      396887 non-null  object\n",
            " 4   발행년도     401665 non-null  object\n",
            " 5   ISBN     401682 non-null  object\n",
            " 6   세트 ISBN  61871 non-null   object\n",
            " 7   부가기호     325034 non-null  object\n",
            " 8   권        68267 non-null   object\n",
            " 9   주제분류번호   381360 non-null  object\n",
            " 10  도서권수     401682 non-null  int64 \n",
            " 11  대출건수     401682 non-null  int64 \n",
            " 12  등록일자     401682 non-null  object\n",
            "dtypes: int64(3), object(10)\n",
            "memory usage: 39.8+ MB\n"
          ]
        }
      ]
    },
    {
      "cell_type": "markdown",
      "source": [
        "## § 이상치(outlier) 처리(선택)"
      ],
      "metadata": {
        "id": "-LRKWwUxPU5c"
      }
    },
    {
      "cell_type": "code",
      "source": [
        "# 이상치가 포함된 데이터 불러오기\n",
        "\n",
        "# 필요한 라이브러리 임포트\n",
        "import pandas as pd\n",
        "\n",
        "# file_path 설정\n",
        "file_path = '/content/drive/MyDrive/KDT/정형데이터분석시각화/weather.csv'\n",
        "\n",
        "# pd.read_csv()\n",
        "df_weather = pd.read_csv(file_path)\n",
        "\n",
        "# 결과 확인하기\n",
        "print(f'{df_weather}')"
      ],
      "metadata": {
        "colab": {
          "base_uri": "https://localhost:8080/"
        },
        "id": "sT4S6xLiPKco",
        "outputId": "984fad93-916f-4e2c-af73-c23e07c70e3d"
      },
      "execution_count": null,
      "outputs": [
        {
          "output_type": "stream",
          "name": "stdout",
          "text": [
            "       temp  hum   atm  speed\n",
            "0        17   34  1018    3.1\n",
            "1        17   34  1018    3.1\n",
            "2        17   34  1018    3.1\n",
            "3        17   34  1018    3.1\n",
            "4        17   34  1018    3.1\n",
            "...     ...  ...   ...    ...\n",
            "99995     9   71  1009    2.6\n",
            "99996     9   71  1009    2.6\n",
            "99997     9   71  1009    2.6\n",
            "99998     9   71  1009    2.6\n",
            "99999     9   71  1009    2.6\n",
            "\n",
            "[100000 rows x 4 columns]\n"
          ]
        }
      ]
    },
    {
      "cell_type": "markdown",
      "source": [
        "### ■ df.describe()"
      ],
      "metadata": {
        "id": "XR9mzqE2QorA"
      }
    },
    {
      "cell_type": "code",
      "source": [
        "# 요약 통계량 구하기 --> 변수.describe()\n",
        "# 숫자로 표현된 컬럼만 표시한다.\n",
        "df_stats = df_weather.describe()\n",
        "\n",
        "print(df_stats)\n"
      ],
      "metadata": {
        "colab": {
          "base_uri": "https://localhost:8080/"
        },
        "id": "uomClcj_QuAY",
        "outputId": "ec3c02d3-d6c9-47f7-b6f3-dc64ea70da08"
      },
      "execution_count": null,
      "outputs": [
        {
          "output_type": "stream",
          "name": "stdout",
          "text": [
            "                temp            hum            atm          speed\n",
            "count  100000.000000  100000.000000  100000.000000  100000.000000\n",
            "mean       16.909460      78.159290    1005.071590       3.315666\n",
            "std         3.840548      21.021064       5.657643       1.915367\n",
            "min         9.000000      17.000000     993.000000       0.500000\n",
            "25%        15.000000      66.000000    1002.000000       1.500000\n",
            "50%        16.000000      87.000000    1006.000000       3.100000\n",
            "75%        19.000000      93.000000    1007.000000       4.600000\n",
            "max        27.000000     100.000000    1028.000000      10.300000\n"
          ]
        }
      ]
    },
    {
      "cell_type": "markdown",
      "source": [
        "#### → temp 컬럼 이상치 제거"
      ],
      "metadata": {
        "id": "Vdvm2J13TPnA"
      }
    },
    {
      "cell_type": "code",
      "source": [
        "# 온도 컬럼의 첫번째 이상치 판단\n",
        "\"\"\"\n",
        "1. IQR = Q3 - Q1\n",
        "2. 정상 범위의 최소 : Q1 - (IQR*1.5)\n",
        "3. 정상 범위의 최대 : Q3 + (IQR*1.5)\n",
        "\"\"\"\n",
        "temp1_q1 = df_stats.loc['25%','temp']\n",
        "temp1_q3 = df_stats.loc['75%','temp']\n",
        "temp1_min = df_stats.loc['min','temp']\n",
        "temp1_max = df_stats.loc['max','temp']\n",
        "temp1_IQR = temp1_q3-temp1_q1\n",
        "# print(temp_IQR)\n",
        "temp1_min_outlier = temp1_q1-(1.5*temp1_IQR)\n",
        "temp1_max_outlier = temp1_q3+(1.5*temp1_IQR)\n",
        "\n",
        "print(f'온도 컬럼의 첫번째 1사분위 값 = {temp1_q1}')\n",
        "print(f'온도 컬럼의 첫번째 3사분위 값 = {temp1_q3}')\n",
        "print(f'온도 컬럼의 첫번째 IQR = {temp1_IQR}')\n",
        "print(f'온도 컬럼의 첫번째 정상범위의 최소값 = {temp1_min_outlier}')\n",
        "print(f'온도 컬럼의 첫번째 정상범위의 최대값 = {temp1_max_outlier}')"
      ],
      "metadata": {
        "colab": {
          "base_uri": "https://localhost:8080/"
        },
        "id": "F5WVTcJiTXxh",
        "outputId": "53077ec9-140d-48bb-f6eb-70d089c96c78"
      },
      "execution_count": null,
      "outputs": [
        {
          "output_type": "stream",
          "name": "stdout",
          "text": [
            "온도 컬럼의 첫번째 1사분위 값 = 15.0\n",
            "온도 컬럼의 첫번째 3사분위 값 = 19.0\n",
            "온도 컬럼의 첫번째 IQR = 4.0\n",
            "온도 컬럼의 첫번째 정상범위의 최소값 = 9.0\n",
            "온도 컬럼의 첫번째 정상범위의 최대값 = 25.0\n"
          ]
        }
      ]
    },
    {
      "cell_type": "code",
      "source": [
        "# 이상치 추출\n",
        "cond = (df_weather.temp < temp1_min_outlier) | (df_weather.temp > temp1_max_outlier)\n",
        "print(f'온도 컬럼의 이상치에 대한 첫번째 불리언 배열 :\\n{cond}\\n')\n",
        "\n",
        "s_outlier = df_weather.temp.loc[cond]\n",
        "s_outlier_index = df_weather.temp.loc[cond].index\n",
        "print(f'온도 컬럼의 첫번째 이상치 데이터의 인덱스 : \\n{s_outlier_index}\\n')\n",
        "\n",
        "# 이상치 삭제 --> df.col.drop(index=[이상치 행의 인덱스])\n",
        "cleaned_temp = df_weather.temp.drop(index=s_outlier_index)\n",
        "\n",
        "# 결과 확인\n",
        "print(f'온도 컬럼의 이상치를 제거한 결과 확인하기 :\\n{cleaned_temp}\\n')\n",
        "# cond = ~cond\n",
        "# print(f'온도 컬럼의 이상치에 대한 첫번째 불리언 배열 :\\n{df_weather.temp.loc[cond]}\\n')\n"
      ],
      "metadata": {
        "id": "imJ4CTJeZ17x"
      },
      "execution_count": null,
      "outputs": []
    },
    {
      "cell_type": "code",
      "source": [
        "# 온도 컬럼의 두번째 이상치 판단\n",
        "\"\"\"\n",
        "1. IQR = Q3 - Q1\n",
        "2. 정상 범위의 최소 : Q1 - (IQR*1.5)\n",
        "3. 정상 범위의 최대 : Q3 + (IQR*1.5)\n",
        "\"\"\"\n",
        "stats_temp = cleaned_temp.describe()\n",
        "print(f'온도 컬럼의 두번째 요약 통계량 :\\n{stats_temp}\\n')\n",
        "\n",
        "temp2_q1 = stats_temp.loc['25%']\n",
        "temp2_q3 = stats_temp.loc['75%']\n",
        "temp2_min = stats_temp.loc['min']\n",
        "temp2_max = stats_temp.loc['max']\n",
        "temp2_IQR = temp2_q3-temp2_q1\n",
        "# print(temp_IQR)\n",
        "temp2_min_outlier = temp2_q1-(1.5*temp2_IQR)\n",
        "temp2_max_outlier = temp2_q3+(1.5*temp2_IQR)\n",
        "\n",
        "print(f'온도 컬럼의 두번째 1사분위 값 = {temp2_q1}')\n",
        "print(f'온도 컬럼의 두번째 3사분위 값 = {temp2_q3}')\n",
        "print(f'온도 컬럼의 두번째 IQR = {temp2_IQR}')\n",
        "print(f'온도 컬럼의 두번째 정상범위의 최소값 = {temp2_min_outlier}')\n",
        "print(f'온도 컬럼의 두번째 정상범위의 최대값 = {temp2_max_outlier}')"
      ],
      "metadata": {
        "colab": {
          "base_uri": "https://localhost:8080/"
        },
        "id": "s-NRR4CDgpl6",
        "outputId": "c6d04197-89bb-4d76-e6c4-14be01f70c07"
      },
      "execution_count": null,
      "outputs": [
        {
          "output_type": "stream",
          "name": "stdout",
          "text": [
            "온도 컬럼의 두번째 요약 통계량 :\n",
            "count    97484.000000\n",
            "mean        16.665627\n",
            "std          3.572323\n",
            "min          9.000000\n",
            "25%         15.000000\n",
            "50%         16.000000\n",
            "75%         19.000000\n",
            "max         25.000000\n",
            "Name: temp, dtype: float64\n",
            "\n",
            "온도 컬럼의 첫번째 1사분위 값 = 15.0\n",
            "온도 컬럼의 첫번째 3사분위 값 = 19.0\n",
            "온도 컬럼의 첫번째 IQR = 4.0\n",
            "온도 컬럼의 첫번째 정상범위의 최소값 = 9.0\n",
            "온도 컬럼의 첫번째 정상범위의 최대값 = 25.0\n"
          ]
        }
      ]
    },
    {
      "cell_type": "code",
      "source": [
        "# 온도 컬럼의 두번째 이상치 추출\n",
        "cond = (cleaned_temp < temp2_min_outlier) | (cleaned_temp > temp2_max_outlier)\n",
        "print(f'온도 컬럼의 이상치에 대한 첫번째 불리언 배열 :\\n{cond}\\n')\n",
        "\n",
        "s_outlier = cleaned_temp.loc[cond]\n",
        "s_outlier_index = cleaned_temp.loc[cond].index\n",
        "print(f'온도 컬럼의 첫번째 이상치 데이터의 인덱스 : \\n{s_outlier_index}\\n')\n",
        "\n",
        "# 인덱스 확인결과 : Int64Index([], dtype='int64') <<<--- 결과값이 없다.\n",
        "# 따라서, 더이상 이상치를 구하지 않아도 된다."
      ],
      "metadata": {
        "colab": {
          "base_uri": "https://localhost:8080/"
        },
        "id": "gbA4K1aQliP6",
        "outputId": "1d9d9211-60ef-45ce-b7d5-a69a7ed3b3e7"
      },
      "execution_count": null,
      "outputs": [
        {
          "output_type": "stream",
          "name": "stdout",
          "text": [
            "온도 컬럼의 이상치에 대한 첫번째 불리언 배열 :\n",
            "0        False\n",
            "1        False\n",
            "2        False\n",
            "3        False\n",
            "4        False\n",
            "         ...  \n",
            "99995    False\n",
            "99996    False\n",
            "99997    False\n",
            "99998    False\n",
            "99999    False\n",
            "Name: temp, Length: 97484, dtype: bool\n",
            "\n",
            "온도 컬럼의 첫번째 이상치 데이터의 인덱스 : \n",
            "Int64Index([], dtype='int64')\n",
            "\n",
            "온도 컬럼의 이상치를 제거한 결과 확인하기 :\n",
            "0        17\n",
            "1        17\n",
            "2        17\n",
            "3        17\n",
            "4        17\n",
            "         ..\n",
            "99995     9\n",
            "99996     9\n",
            "99997     9\n",
            "99998     9\n",
            "99999     9\n",
            "Name: temp, Length: 97484, dtype: int64\n",
            "\n"
          ]
        }
      ]
    },
    {
      "cell_type": "markdown",
      "source": [
        "#### → hum 컬럼 이상치 제거"
      ],
      "metadata": {
        "id": "9oi6eb5IZaFi"
      }
    },
    {
      "cell_type": "code",
      "source": [
        "# 습도 컬럼의 첫번째 이상치 판단\n",
        "\"\"\"\n",
        "1. IQR = Q3 - Q1\n",
        "2. 정상 범위의 최소 : Q1 - (IQR*1.5)\n",
        "3. 정상 범위의 최대 : Q3 + (IQR*1.5)\n",
        "\"\"\"\n",
        "hum1_q1 = df_stats.loc['25%','hum']\n",
        "hum1_q3 = df_stats.loc['75%','hum']\n",
        "hum1_min = df_stats.loc['min','hum']\n",
        "hum1_max = df_stats.loc['max','hum']\n",
        "hum1_IQR = hum1_q3-hum1_q1\n",
        "# print(hum_IQR)\n",
        "hum1_min_outlier = hum1_q1-(1.5*hum1_IQR)\n",
        "hum1_max_outlier = hum1_q3+(1.5*hum1_IQR)\n",
        "\n",
        "print(f'습도 컬럼의 첫번째 1사분위 값 = {hum1_q1}')\n",
        "print(f'습도 컬럼의 첫번째 3사분위 값 = {hum1_q3}')\n",
        "print(f'습도 컬럼의 첫번째 IQR = {hum1_IQR}')\n",
        "print(f'습도 컬럼의 첫번째 정상범위의 최소값 = {hum1_min_outlier}')\n",
        "print(f'습도 컬럼의 첫번째 정상범위의 최대값 = {hum1_max_outlier}')"
      ],
      "metadata": {
        "colab": {
          "base_uri": "https://localhost:8080/"
        },
        "id": "IAlL_62wY9iA",
        "outputId": "d5ff8b4d-b5ee-46b4-996b-e700d8f7efef"
      },
      "execution_count": null,
      "outputs": [
        {
          "output_type": "stream",
          "name": "stdout",
          "text": [
            "습도 컬럼의 첫번째 1사분위 값 = 66.0\n",
            "습도 컬럼의 첫번째 3사분위 값 = 93.0\n",
            "습도 컬럼의 첫번째 IQR = 27.0\n",
            "습도 컬럼의 첫번째 정상범위의 최소값 = 25.5\n",
            "습도 컬럼의 첫번째 정상범위의 최대값 = 133.5\n"
          ]
        }
      ]
    },
    {
      "cell_type": "code",
      "source": [
        "# 이상치 추출\n",
        "cond = (df_weather.hum < hum1_min_outlier) | (df_weather.hum > hum1_max_outlier)\n",
        "print(f'습도 컬럼의 이상치에 대한 첫번째 불리언 배열 :\\n{cond}\\n')\n",
        "\n",
        "s_outlier = df_weather.hum.loc[cond]\n",
        "s_outlier_index = df_weather.hum.loc[cond].index\n",
        "print(f'습도 컬럼의 첫번째 이상치 데이터의 인덱스 : \\n{s_outlier_index}\\n')\n",
        "\n",
        "# 이상치 삭제 --> df.col.drop(index=[이상치 행의 인덱스])\n",
        "cleaned_hum = df_weather.hum.drop(index=s_outlier_index)\n",
        "\n",
        "# 결과 확인\n",
        "print(f'습도 컬럼의 이상치를 제거한 결과 확인하기 :\\n{cleaned_hum}\\n')\n",
        "# cond = ~cond\n",
        "# print(f'온도 컬럼의 이상치에 대한 첫번째 불리언 배열 :\\n{df_weather.temp.loc[cond]}\\n')\n"
      ],
      "metadata": {
        "colab": {
          "base_uri": "https://localhost:8080/"
        },
        "id": "mWGMcMJIoMET",
        "outputId": "0247ef57-b888-43a4-be33-80bea1dbe1ee"
      },
      "execution_count": null,
      "outputs": [
        {
          "output_type": "stream",
          "name": "stdout",
          "text": [
            "온도 컬럼의 이상치에 대한 첫번째 불리언 배열 :\n",
            "0        False\n",
            "1        False\n",
            "2        False\n",
            "3        False\n",
            "4        False\n",
            "         ...  \n",
            "99995    False\n",
            "99996    False\n",
            "99997    False\n",
            "99998    False\n",
            "99999    False\n",
            "Name: hum, Length: 100000, dtype: bool\n",
            "\n",
            "온도 컬럼의 첫번째 이상치 데이터의 인덱스 : \n",
            "Int64Index([ 899,  900,  901,  902,  903,  904,  905,  906,  907,  908,\n",
            "            ...\n",
            "            4464, 4465, 4466, 4467, 4468, 4469, 4470, 4471, 4472, 4473],\n",
            "           dtype='int64', length=3575)\n",
            "\n",
            "온도 컬럼의 이상치를 제거한 결과 확인하기 :\n",
            "0        34\n",
            "1        34\n",
            "2        34\n",
            "3        34\n",
            "4        34\n",
            "         ..\n",
            "99995    71\n",
            "99996    71\n",
            "99997    71\n",
            "99998    71\n",
            "99999    71\n",
            "Name: hum, Length: 96425, dtype: int64\n",
            "\n"
          ]
        }
      ]
    },
    {
      "cell_type": "code",
      "source": [
        "# 온도 컬럼의 두번째 이상치 판단\n",
        "\"\"\"\n",
        "1. IQR = Q3 - Q1\n",
        "2. 정상 범위의 최소 : Q1 - (IQR*1.5)\n",
        "3. 정상 범위의 최대 : Q3 + (IQR*1.5)\n",
        "\"\"\"\n",
        "stats_hum = cleaned_hum.describe()\n",
        "print(f'온도 컬럼의 두번째 요약 통계량 :\\n{stats_hum}\\n')\n",
        "\n",
        "hum2_q1 = stats_hum.loc['25%']\n",
        "hum2_q3 = stats_hum.loc['75%']\n",
        "hum2_min = stats_hum.loc['min']\n",
        "hum2_max = stats_hum.loc['max']\n",
        "hum2_IQR = hum2_q3-hum2_q1\n",
        "# print(temp_IQR)\n",
        "hum2_min_outlier = hum2_q1-(1.5*hum2_IQR)\n",
        "hum2_max_outlier = hum2_q3+(1.5*hum2_IQR)\n",
        "\n",
        "print(f'습도 컬럼의 두번째 1사분위 값 = {hum2_q1}')\n",
        "print(f'습도 컬럼의 두번째 3사분위 값 = {hum2_q3}')\n",
        "print(f'습도 컬럼의 두번째 IQR = {hum2_IQR}')\n",
        "print(f'습도 컬럼의 두번째 정상범위의 최소값 = {hum2_min_outlier}')\n",
        "print(f'습도 컬럼의 두번째 정상범위의 최대값 = {hum2_max_outlier}')"
      ],
      "metadata": {
        "colab": {
          "base_uri": "https://localhost:8080/"
        },
        "id": "4EgN39z1omDK",
        "outputId": "dd5e755f-c4c0-43d3-8849-656c414f2e5f"
      },
      "execution_count": null,
      "outputs": [
        {
          "output_type": "stream",
          "name": "stdout",
          "text": [
            "온도 컬럼의 두번째 요약 통계량 :\n",
            "count    97484.000000\n",
            "mean        16.665627\n",
            "std          3.572323\n",
            "min          9.000000\n",
            "25%         15.000000\n",
            "50%         16.000000\n",
            "75%         19.000000\n",
            "max         25.000000\n",
            "Name: temp, dtype: float64\n",
            "\n",
            "습도 컬럼의 두번째 1사분위 값 = 69.0\n",
            "습도 컬럼의 두번째 3사분위 값 = 93.0\n",
            "습도 컬럼의 두번째 IQR = 24.0\n",
            "습도 컬럼의 두번째 정상범위의 최소값 = 33.0\n",
            "습도 컬럼의 두번째 정상범위의 최대값 = 129.0\n"
          ]
        }
      ]
    },
    {
      "cell_type": "code",
      "source": [
        "# 온도 컬럼의 두번째 이상치 추출\n",
        "cond = (cleaned_hum < hum2_min_outlier) | (cleaned_hum > hum2_max_outlier)\n",
        "print(f'습도 컬럼의 이상치에 대한 첫번째 불리언 배열 :\\n{cond}\\n')\n",
        "\n",
        "s_outlier = cleaned_hum.loc[cond]\n",
        "s_outlier_index = cleaned_hum.loc[cond].index\n",
        "print(f'습도 컬럼의 첫번째 이상치 데이터의 인덱스 : \\n{s_outlier_index}\\n')\n",
        "\n",
        "# 이상치 삭제 --> df.col.drop(index=[이상치 행의 인덱스])\n",
        "cleaned_hum = cleaned_hum.drop(index=s_outlier_index)\n",
        "\n",
        "# 결과 확인\n",
        "print(f'습도 컬럼의 이상치를 제거한 결과 확인하기 :\\n{cleaned_hum}\\n')\n",
        "\n",
        "# 인덱스 확인결과 : Int64Index([], dtype='int64') <<<--- 결과값이 없다.\n",
        "# 따라서, 더이상 이상치를 구하지 않아도 된다."
      ],
      "metadata": {
        "colab": {
          "base_uri": "https://localhost:8080/"
        },
        "id": "KFI0volUoplN",
        "outputId": "68139ba1-6781-4d7b-d2c2-08720be26f02"
      },
      "execution_count": null,
      "outputs": [
        {
          "output_type": "stream",
          "name": "stdout",
          "text": [
            "습도 컬럼의 이상치에 대한 첫번째 불리언 배열 :\n",
            "0        False\n",
            "1        False\n",
            "2        False\n",
            "3        False\n",
            "4        False\n",
            "         ...  \n",
            "99995    False\n",
            "99996    False\n",
            "99997    False\n",
            "99998    False\n",
            "99999    False\n",
            "Name: hum, Length: 97841, dtype: bool\n",
            "\n",
            "습도 컬럼의 첫번째 이상치 데이터의 인덱스 : \n",
            "Int64Index([ 899,  900,  901,  902,  903,  904,  905,  906,  907,  908,\n",
            "            ...\n",
            "            4464, 4465, 4466, 4467, 4468, 4469, 4470, 4471, 4472, 4473],\n",
            "           dtype='int64', length=3575)\n",
            "\n",
            "습도 컬럼의 이상치를 제거한 결과 확인하기 :\n",
            "0        34\n",
            "1        34\n",
            "2        34\n",
            "3        34\n",
            "4        34\n",
            "         ..\n",
            "99995    71\n",
            "99996    71\n",
            "99997    71\n",
            "99998    71\n",
            "99999    71\n",
            "Name: hum, Length: 94266, dtype: int64\n",
            "\n"
          ]
        }
      ]
    },
    {
      "cell_type": "code",
      "source": [
        "# 온도 컬럼의 세번째 이상치 판단\n",
        "\"\"\"\n",
        "1. IQR = Q3 - Q1\n",
        "2. 정상 범위의 최소 : Q1 - (IQR*1.5)\n",
        "3. 정상 범위의 최대 : Q3 + (IQR*1.5)\n",
        "\"\"\"\n",
        "stats_hum = cleaned_hum.describe()\n",
        "print(f'온도 컬럼의 세번째 요약 통계량 :\\n{stats_hum}\\n')\n",
        "\n",
        "hum3_q1 = stats_hum.loc['25%']\n",
        "hum3_q3 = stats_hum.loc['75%']\n",
        "hum3_min = stats_hum.loc['min']\n",
        "hum3_max = stats_hum.loc['max']\n",
        "hum3_IQR = hum3_q3-hum3_q1\n",
        "# print(temp_IQR)\n",
        "hum3_min_outlier = hum3_q1-(1.5*hum3_IQR)\n",
        "hum3_max_outlier = hum3_q3+(1.5*hum3_IQR)\n",
        "\n",
        "print(f'습도 컬럼의 세번째 1사분위 값 = {hum3_q1}')\n",
        "print(f'습도 컬럼의 세번째 3사분위 값 = {hum3_q3}')\n",
        "print(f'습도 컬럼의 세번째 IQR = {hum3_IQR}')\n",
        "print(f'습도 컬럼의 세번째 정상범위의 최소값 = {hum3_min_outlier}')\n",
        "print(f'습도 컬럼의 세번째 정상범위의 최대값 = {hum3_max_outlier}')"
      ],
      "metadata": {
        "colab": {
          "base_uri": "https://localhost:8080/"
        },
        "id": "uI8STvNErJpt",
        "outputId": "a8e32d60-40a0-4159-a43e-303d7fc41c78"
      },
      "execution_count": null,
      "outputs": [
        {
          "output_type": "stream",
          "name": "stdout",
          "text": [
            "온도 컬럼의 두번째 요약 통계량 :\n",
            "count    97484.000000\n",
            "mean        16.665627\n",
            "std          3.572323\n",
            "min          9.000000\n",
            "25%         15.000000\n",
            "50%         16.000000\n",
            "75%         19.000000\n",
            "max         25.000000\n",
            "Name: temp, dtype: float64\n",
            "\n",
            "습도 컬럼의 두번째 1사분위 값 = 71.0\n",
            "습도 컬럼의 두번째 3사분위 값 = 93.0\n",
            "습도 컬럼의 두번째 IQR = 22.0\n",
            "습도 컬럼의 두번째 정상범위의 최소값 = 38.0\n",
            "습도 컬럼의 두번째 정상범위의 최대값 = 126.0\n"
          ]
        }
      ]
    },
    {
      "cell_type": "code",
      "source": [
        "# 온도 컬럼의 세번째 이상치 추출\n",
        "cond = (cleaned_hum < hum3_min_outlier) | (cleaned_hum > hum3_max_outlier)\n",
        "print(f'습도 컬럼의 이상치에 대한 세번째 불리언 배열 :\\n{cond}\\n')\n",
        "\n",
        "s_outlier = cleaned_hum.loc[cond]\n",
        "s_outlier_index = cleaned_hum.loc[cond].index\n",
        "print(f'습도 컬럼의 세번째 이상치 데이터의 인덱스 : \\n{s_outlier_index}\\n')\n",
        "\n",
        "# 이상치 삭제 --> df.col.drop(index=[이상치 행의 인덱스])\n",
        "cleaned_hum = cleaned_hum.drop(index=s_outlier_index)\n",
        "\n",
        "# 결과 확인\n",
        "print(f'습도 컬럼의 이상치를 제거한 결과 확인하기 :\\n{cleaned_hum}\\n')\n",
        "\n",
        "# 인덱스 확인결과 : Int64Index([], dtype='int64') <<<--- 결과값이 없다.\n",
        "# 따라서, 더이상 이상치를 구하지 않아도 된다."
      ],
      "metadata": {
        "colab": {
          "base_uri": "https://localhost:8080/"
        },
        "id": "UZLUdk90rsMa",
        "outputId": "52c55c40-a27f-4bda-b7b3-a7f07fbb21b3"
      },
      "execution_count": null,
      "outputs": [
        {
          "output_type": "stream",
          "name": "stdout",
          "text": [
            "습도 컬럼의 이상치에 대한 첫번째 불리언 배열 :\n",
            "0         True\n",
            "1         True\n",
            "2         True\n",
            "3         True\n",
            "4         True\n",
            "         ...  \n",
            "99995    False\n",
            "99996    False\n",
            "99997    False\n",
            "99998    False\n",
            "99999    False\n",
            "Name: hum, Length: 94266, dtype: bool\n",
            "\n",
            "습도 컬럼의 첫번째 이상치 데이터의 인덱스 : \n",
            "Int64Index([   0,    1,    2,    3,    4,    5,    6,    7,    8,    9,\n",
            "            ...\n",
            "            7340, 7341, 7342, 7343, 7344, 7345, 7346, 7347, 7348, 7349],\n",
            "           dtype='int64', length=1616)\n",
            "\n",
            "습도 컬럼의 이상치를 제거한 결과 확인하기 :\n",
            "7350     45\n",
            "7351     45\n",
            "7352     45\n",
            "7353     45\n",
            "7354     45\n",
            "         ..\n",
            "99995    71\n",
            "99996    71\n",
            "99997    71\n",
            "99998    71\n",
            "99999    71\n",
            "Name: hum, Length: 92650, dtype: int64\n",
            "\n"
          ]
        }
      ]
    },
    {
      "cell_type": "code",
      "source": [
        "# 온도 컬럼의 네번째 이상치 판단\n",
        "\"\"\"\n",
        "1. IQR = Q3 - Q1\n",
        "2. 정상 범위의 최소 : Q1 - (IQR*1.5)\n",
        "3. 정상 범위의 최대 : Q3 + (IQR*1.5)\n",
        "\"\"\"\n",
        "stats_hum = cleaned_hum.describe()\n",
        "print(f'온도 컬럼의 세번째 요약 통계량 :\\n{stats_hum}\\n')\n",
        "\n",
        "hum4_q1 = stats_hum.loc['25%']\n",
        "hum4_q3 = stats_hum.loc['75%']\n",
        "hum4_min = stats_hum.loc['min']\n",
        "hum4_max = stats_hum.loc['max']\n",
        "hum4_IQR = hum4_q3-hum4_q1\n",
        "# print(temp_IQR)\n",
        "hum4_min_outlier = hum4_q1-(1.5*hum4_IQR)\n",
        "hum4_max_outlier = hum4_q3+(1.5*hum4_IQR)\n",
        "\n",
        "print(f'습도 컬럼의 네번째 1사분위 값 = {hum4_q1}')\n",
        "print(f'습도 컬럼의 네번째 3사분위 값 = {hum4_q3}')\n",
        "print(f'습도 컬럼의 네번째 IQR = {hum4_IQR}')\n",
        "print(f'습도 컬럼의 네번째 정상범위의 최소값 = {hum4_min_outlier}')\n",
        "print(f'습도 컬럼의 네번째 정상범위의 최대값 = {hum4_max_outlier}')"
      ],
      "metadata": {
        "colab": {
          "base_uri": "https://localhost:8080/"
        },
        "id": "0Qrd22c6stZj",
        "outputId": "e8a09053-8647-4328-c034-705d978e74a2"
      },
      "execution_count": null,
      "outputs": [
        {
          "output_type": "stream",
          "name": "stdout",
          "text": [
            "온도 컬럼의 세번째 요약 통계량 :\n",
            "count    97484.000000\n",
            "mean        16.665627\n",
            "std          3.572323\n",
            "min          9.000000\n",
            "25%         15.000000\n",
            "50%         16.000000\n",
            "75%         19.000000\n",
            "max         25.000000\n",
            "Name: temp, dtype: float64\n",
            "\n",
            "습도 컬럼의 네번째 1사분위 값 = 71.0\n",
            "습도 컬럼의 네번째 3사분위 값 = 93.0\n",
            "습도 컬럼의 네번째 IQR = 22.0\n",
            "습도 컬럼의 네번째 정상범위의 최소값 = 38.0\n",
            "습도 컬럼의 네번째 정상범위의 최대값 = 126.0\n"
          ]
        }
      ]
    },
    {
      "cell_type": "code",
      "source": [
        "# 온도 컬럼의 세번째 이상치 추출\n",
        "cond = (cleaned_hum < hum4_min_outlier) | (cleaned_hum > hum4_max_outlier)\n",
        "print(f'습도 컬럼의 이상치에 대한 네번째 불리언 배열 :\\n{cond}\\n')\n",
        "\n",
        "s_outlier = cleaned_hum.loc[cond]\n",
        "s_outlier_index = cleaned_hum.loc[cond].index\n",
        "print(f'습도 컬럼의 네번째 이상치 데이터의 인덱스 : \\n{s_outlier_index}\\n')\n",
        "\n",
        "# 인덱스 확인결과 : Int64Index([], dtype='int64') <<<--- 결과값이 없다.\n",
        "# 따라서, 더이상 이상치를 구하지 않아도 된다."
      ],
      "metadata": {
        "colab": {
          "base_uri": "https://localhost:8080/"
        },
        "id": "HagpCE2PtDkU",
        "outputId": "d35044c3-1ed4-4bd2-b6a1-278260578c4f"
      },
      "execution_count": null,
      "outputs": [
        {
          "output_type": "stream",
          "name": "stdout",
          "text": [
            "습도 컬럼의 이상치에 대한 네번째 불리언 배열 :\n",
            "7350     False\n",
            "7351     False\n",
            "7352     False\n",
            "7353     False\n",
            "7354     False\n",
            "         ...  \n",
            "99995    False\n",
            "99996    False\n",
            "99997    False\n",
            "99998    False\n",
            "99999    False\n",
            "Name: hum, Length: 92650, dtype: bool\n",
            "\n",
            "습도 컬럼의 네번째 이상치 데이터의 인덱스 : \n",
            "Int64Index([], dtype='int64')\n",
            "\n"
          ]
        }
      ]
    },
    {
      "cell_type": "markdown",
      "source": [
        "#### → atm 컬럼 이상치 제거"
      ],
      "metadata": {
        "id": "CCVe0Is-vQFS"
      }
    },
    {
      "cell_type": "code",
      "source": [
        "# 기압 컬럼의 첫번째 이상치 판단\n",
        "\"\"\"\n",
        "1. IQR = Q3 - Q1\n",
        "2. 정상 범위의 최소 : Q1 - (IQR*1.5)\n",
        "3. 정상 범위의 최대 : Q3 + (IQR*1.5)\n",
        "\"\"\"\n",
        "atm1_q1 = df_stats.loc['25%','atm']\n",
        "atm1_q3 = df_stats.loc['75%','atm']\n",
        "atm1_min = df_stats.loc['min','atm']\n",
        "atm1_max = df_stats.loc['max','atm']\n",
        "atm1_IQR = atm1_q3-atm1_q1\n",
        "# print(hum_IQR)\n",
        "atm1_min_outlier = atm1_q1-(1.5*atm1_IQR)\n",
        "atm1_max_outlier = atm1_q3+(1.5*atm1_IQR)\n",
        "\n",
        "print(f'기압 컬럼의 첫번째 1사분위 값 = {atm1_q1}')\n",
        "print(f'기압 컬럼의 첫번째 3사분위 값 = {atm1_q3}')\n",
        "print(f'기압 컬럼의 첫번째 IQR = {atm1_IQR}')\n",
        "print(f'기압 컬럼의 첫번째 정상범위의 최소값 = {atm1_min_outlier}')\n",
        "print(f'기압 컬럼의 첫번째 정상범위의 최대값 = {atm1_max_outlier}')"
      ],
      "metadata": {
        "colab": {
          "base_uri": "https://localhost:8080/"
        },
        "id": "B06nLsJPvSDK",
        "outputId": "fe0f7dab-9c98-4743-dd0c-d68f60e06c87"
      },
      "execution_count": null,
      "outputs": [
        {
          "output_type": "stream",
          "name": "stdout",
          "text": [
            "기압 컬럼의 첫번째 1사분위 값 = 1002.0\n",
            "기압 컬럼의 첫번째 3사분위 값 = 1007.0\n",
            "기압 컬럼의 첫번째 IQR = 5.0\n",
            "기압 컬럼의 첫번째 정상범위의 최소값 = 994.5\n",
            "기압 컬럼의 첫번째 정상범위의 최대값 = 1014.5\n"
          ]
        }
      ]
    },
    {
      "cell_type": "code",
      "source": [
        "# 이상치 추출\n",
        "cond = (df_weather.atm < atm1_min_outlier) | (df_weather.atm > atm1_max_outlier)\n",
        "print(f'기압 컬럼의 이상치에 대한 첫번째 불리언 배열 :\\n{cond}\\n')\n",
        "\n",
        "s_outlier = df_weather.atm.loc[cond]\n",
        "s_outlier_index = df_weather.atm.loc[cond].index\n",
        "print(f'기압 컬럼의 첫번째 이상치 데이터의 인덱스 : \\n{s_outlier_index}\\n')\n",
        "\n",
        "# 이상치 삭제 --> df.col.drop(index=[이상치 행의 인덱스])\n",
        "cleaned_atm = df_weather.atm.drop(index=s_outlier_index)\n",
        "\n",
        "# 결과 확인\n",
        "print(f'습도 컬럼의 이상치를 제거한 결과 확인하기 :\\n{cleaned_atm}\\n')\n",
        "# cond = ~cond\n",
        "# print(f'온도 컬럼의 이상치에 대한 첫번째 불리언 배열 :\\n{df_weather.temp.loc[cond]}\\n')\n"
      ],
      "metadata": {
        "colab": {
          "base_uri": "https://localhost:8080/"
        },
        "id": "ZlCpcq6_xFZ_",
        "outputId": "b8c03877-e7dc-402e-bd29-1b14ba92e53c"
      },
      "execution_count": null,
      "outputs": [
        {
          "output_type": "stream",
          "name": "stdout",
          "text": [
            "기압 컬럼의 이상치에 대한 첫번째 불리언 배열 :\n",
            "0         True\n",
            "1         True\n",
            "2         True\n",
            "3         True\n",
            "4         True\n",
            "         ...  \n",
            "99995    False\n",
            "99996    False\n",
            "99997    False\n",
            "99998    False\n",
            "99999    False\n",
            "Name: atm, Length: 100000, dtype: bool\n",
            "\n",
            "기압 컬럼의 첫번째 이상치 데이터의 인덱스 : \n",
            "Int64Index([    0,     1,     2,     3,     4,     5,     6,     7,     8,\n",
            "                9,\n",
            "            ...\n",
            "            73730, 73731, 73732, 73733, 73734, 73735, 73736, 73737, 73738,\n",
            "            73739],\n",
            "           dtype='int64', length=6811)\n",
            "\n",
            "습도 컬럼의 이상치를 제거한 결과 확인하기 :\n",
            "5193     1014\n",
            "5194     1014\n",
            "5195     1014\n",
            "5196     1014\n",
            "5197     1014\n",
            "         ... \n",
            "99995    1009\n",
            "99996    1009\n",
            "99997    1009\n",
            "99998    1009\n",
            "99999    1009\n",
            "Name: atm, Length: 93189, dtype: int64\n",
            "\n"
          ]
        }
      ]
    },
    {
      "cell_type": "code",
      "source": [
        "# 기압 컬럼의 두번째 이상치 판단\n",
        "\"\"\"\n",
        "1. IQR = Q3 - Q1\n",
        "2. 정상 범위의 최소 : Q1 - (IQR*1.5)\n",
        "3. 정상 범위의 최대 : Q3 + (IQR*1.5)\n",
        "\"\"\"\n",
        "stats_atm = cleaned_atm.describe()\n",
        "print(f'기압 컬럼의 두번째 요약 통계량 :\\n{stats_atm}\\n')\n",
        "\n",
        "atm2_q1 = stats_atm.loc['25%']\n",
        "atm2_q3 = stats_atm.loc['75%']\n",
        "atm2_min = stats_atm.loc['min']\n",
        "atm2_max = stats_atm.loc['max']\n",
        "atm2_IQR = atm2_q3-atm2_q1\n",
        "# print(temp_IQR)\n",
        "atm2_min_outlier = atm2_q1-(1.5*atm2_IQR)\n",
        "atm2_max_outlier = atm2_q3+(1.5*atm2_IQR)\n",
        "\n",
        "print(f'기압 컬럼의 두번째 1사분위 값 = {atm2_q1}')\n",
        "print(f'기압 컬럼의 두번째 3사분위 값 = {atm2_q3}')\n",
        "print(f'기압 컬럼의 두번째 IQR = {atm2_IQR}')\n",
        "print(f'기압 컬럼의 두번째 정상범위의 최소값 = {atm2_min_outlier}')\n",
        "print(f'기압 컬럼의 두번째 정상범위의 최대값 = {atm2_max_outlier}')"
      ],
      "metadata": {
        "colab": {
          "base_uri": "https://localhost:8080/"
        },
        "id": "2cw_innQyYJb",
        "outputId": "273f80a2-4898-447c-ff2f-a58eb2fe4bfb"
      },
      "execution_count": null,
      "outputs": [
        {
          "output_type": "stream",
          "name": "stdout",
          "text": [
            "기압 컬럼의 두번째 요약 통계량 :\n",
            "count    93189.000000\n",
            "mean      1004.585509\n",
            "std          4.868920\n",
            "min        995.000000\n",
            "25%       1002.000000\n",
            "50%       1006.000000\n",
            "75%       1007.000000\n",
            "max       1014.000000\n",
            "Name: atm, dtype: float64\n",
            "\n",
            "기압 컬럼의 두번째 1사분위 값 = 1002.0\n",
            "기압 컬럼의 두번째 3사분위 값 = 1007.0\n",
            "기압 컬럼의 두번째 IQR = 5.0\n",
            "기압 컬럼의 두번째 정상범위의 최소값 = 994.5\n",
            "기압 컬럼의 두번째 정상범위의 최대값 = 1014.5\n"
          ]
        }
      ]
    },
    {
      "cell_type": "code",
      "source": [
        "# 기압 컬럼의 두번째 이상치 추출\n",
        "cond = (cleaned_atm < atm2_min_outlier) | (cleaned_atm > atm2_max_outlier)\n",
        "print(f'기압 컬럼의 이상치에 대한 세번째 불리언 배열 :\\n{cond}\\n')\n",
        "\n",
        "s_outlier = cleaned_atm.loc[cond]\n",
        "s_outlier_index = cleaned_atm.loc[cond].index\n",
        "print(f'기압 컬럼의 세번째 이상치 데이터의 인덱스 : \\n{s_outlier_index}\\n')\n",
        "\n",
        "# 인덱스 확인결과 : Int64Index([], dtype='int64') <<<--- 결과값이 없다.\n",
        "# 따라서, 더이상 이상치를 구하지 않아도 된다."
      ],
      "metadata": {
        "colab": {
          "base_uri": "https://localhost:8080/"
        },
        "id": "aDGnkpe_zOKy",
        "outputId": "5af57b87-3f72-4396-eca3-8786906b7267"
      },
      "execution_count": null,
      "outputs": [
        {
          "output_type": "stream",
          "name": "stdout",
          "text": [
            "기압 컬럼의 이상치에 대한 세번째 불리언 배열 :\n",
            "5193     False\n",
            "5194     False\n",
            "5195     False\n",
            "5196     False\n",
            "5197     False\n",
            "         ...  \n",
            "99995    False\n",
            "99996    False\n",
            "99997    False\n",
            "99998    False\n",
            "99999    False\n",
            "Name: atm, Length: 93189, dtype: bool\n",
            "\n",
            "기압 컬럼의 세번째 이상치 데이터의 인덱스 : \n",
            "Int64Index([], dtype='int64')\n",
            "\n",
            "습도 컬럼의 이상치를 제거한 결과 확인하기 :\n",
            "5193     1014\n",
            "5194     1014\n",
            "5195     1014\n",
            "5196     1014\n",
            "5197     1014\n",
            "         ... \n",
            "99995    1009\n",
            "99996    1009\n",
            "99997    1009\n",
            "99998    1009\n",
            "99999    1009\n",
            "Name: atm, Length: 93189, dtype: int64\n",
            "\n"
          ]
        }
      ]
    },
    {
      "cell_type": "markdown",
      "source": [
        "#### → speed 컬럼 이상치 제거"
      ],
      "metadata": {
        "id": "oPQ6nuvRvVUC"
      }
    },
    {
      "cell_type": "code",
      "source": [
        "# 풍속 컬럼의 첫번째 이상치 판단\n",
        "\"\"\"\n",
        "1. IQR = Q3 - Q1\n",
        "2. 정상 범위의 최소 : Q1 - (IQR*1.5)\n",
        "3. 정상 범위의 최대 : Q3 + (IQR*1.5)\n",
        "\"\"\"\n",
        "speed1_q1 = df_stats.loc['25%','speed']\n",
        "speed1_q3 = df_stats.loc['75%','speed']\n",
        "speed1_min = df_stats.loc['min','speed']\n",
        "speed1_max = df_stats.loc['max','speed']\n",
        "speed1_IQR = speed1_q3-speed1_q1\n",
        "# print(hum_IQR)\n",
        "speed1_min_outlier = speed1_q1-(1.5*speed1_IQR)\n",
        "speed1_max_outlier = speed1_q3+(1.5*speed1_IQR)\n",
        "\n",
        "print(f'풍속 컬럼의 첫번째 1사분위 값 = {speed1_q1}')\n",
        "print(f'풍속 컬럼의 첫번째 3사분위 값 = {speed1_q3}')\n",
        "print(f'풍속 컬럼의 첫번째 IQR = {speed1_IQR}')\n",
        "print(f'풍속 컬럼의 첫번째 정상범위의 최소값 = {speed1_min_outlier}')\n",
        "print(f'풍속 컬럼의 첫번째 정상범위의 최대값 = {speed1_max_outlier}')"
      ],
      "metadata": {
        "colab": {
          "base_uri": "https://localhost:8080/"
        },
        "id": "Qv20vHSBvW2K",
        "outputId": "1e2c709b-c2d1-43f1-b570-f2ba05d9a442"
      },
      "execution_count": null,
      "outputs": [
        {
          "output_type": "stream",
          "name": "stdout",
          "text": [
            "풍속 컬럼의 첫번째 1사분위 값 = 1.5\n",
            "풍속 컬럼의 첫번째 3사분위 값 = 4.6\n",
            "풍속 컬럼의 첫번째 IQR = 3.0999999999999996\n",
            "풍속 컬럼의 첫번째 정상범위의 최소값 = -3.1499999999999995\n",
            "풍속 컬럼의 첫번째 정상범위의 최대값 = 9.25\n"
          ]
        }
      ]
    },
    {
      "cell_type": "code",
      "source": [
        "# 이상치 추출\n",
        "cond = (df_weather.speed < speed1_min_outlier) | (df_weather.speed > speed1_max_outlier)\n",
        "print(f'풍속 컬럼의 이상치에 대한 첫번째 불리언 배열 :\\n{cond}\\n')\n",
        "\n",
        "s_outlier = df_weather.speed.loc[cond]\n",
        "s_outlier_index = df_weather.speed.loc[cond].index\n",
        "print(f'풍속 컬럼의 첫번째 이상치 데이터의 인덱스 : \\n{s_outlier_index}\\n')\n",
        "\n",
        "# 이상치 삭제 --> df.col.drop(index=[이상치 행의 인덱스])\n",
        "cleaned_speed = df_weather.speed.drop(index=s_outlier_index)\n",
        "\n",
        "# 결과 확인\n",
        "print(f'풍속 컬럼의 이상치를 제거한 결과 확인하기 :\\n{cleaned_speed}\\n')\n",
        "# cond = ~cond\n",
        "# print(f'온도 컬럼의 이상치에 대한 첫번째 불리언 배열 :\\n{df_weather.temp.loc[cond]}\\n')\n"
      ],
      "metadata": {
        "colab": {
          "base_uri": "https://localhost:8080/"
        },
        "id": "RK-GLOUz0ADv",
        "outputId": "f8c514f8-bb38-4bf2-d95d-bae63eb4ccae"
      },
      "execution_count": null,
      "outputs": [
        {
          "output_type": "stream",
          "name": "stdout",
          "text": [
            "풍속 컬럼의 이상치에 대한 첫번째 불리언 배열 :\n",
            "0        False\n",
            "1        False\n",
            "2        False\n",
            "3        False\n",
            "4        False\n",
            "         ...  \n",
            "99995    False\n",
            "99996    False\n",
            "99997    False\n",
            "99998    False\n",
            "99999    False\n",
            "Name: speed, Length: 100000, dtype: bool\n",
            "\n",
            "풍속 컬럼의 첫번째 이상치 데이터의 인덱스 : \n",
            "Int64Index([71403, 71404, 71405, 71406, 71407, 71408, 71409, 71410, 71411,\n",
            "            71412,\n",
            "            ...\n",
            "            90267, 90268, 90269, 90270, 90271, 90272, 90273, 90274, 90275,\n",
            "            90276],\n",
            "           dtype='int64', length=2157)\n",
            "\n",
            "풍속 컬럼의 이상치를 제거한 결과 확인하기 :\n",
            "0        3.1\n",
            "1        3.1\n",
            "2        3.1\n",
            "3        3.1\n",
            "4        3.1\n",
            "        ... \n",
            "99995    2.6\n",
            "99996    2.6\n",
            "99997    2.6\n",
            "99998    2.6\n",
            "99999    2.6\n",
            "Name: speed, Length: 97843, dtype: float64\n",
            "\n"
          ]
        }
      ]
    },
    {
      "cell_type": "code",
      "source": [
        "# 풍속 컬럼의 두번째 이상치 판단\n",
        "\"\"\"\n",
        "1. IQR = Q3 - Q1\n",
        "2. 정상 범위의 최소 : Q1 - (IQR*1.5)\n",
        "3. 정상 범위의 최대 : Q3 + (IQR*1.5)\n",
        "\"\"\"\n",
        "stats_speed = cleaned_speed.describe()\n",
        "print(f'기압 컬럼의 두번째 요약 통계량 :\\n{stats_atm}\\n')\n",
        "\n",
        "speed2_q1 = stats_speed.loc['25%']\n",
        "speed2_q3 = stats_speed.loc['75%']\n",
        "speed2_min = stats_speed.loc['min']\n",
        "speed2_max = stats_speed.loc['max']\n",
        "speed2_IQR = speed2_q3-speed2_q1\n",
        "# print(temp_IQR)\n",
        "speed2_min_outlier = speed2_q1-(1.5*speed2_IQR)\n",
        "speed2_max_outlier = speed2_q3+(1.5*speed2_IQR)\n",
        "\n",
        "print(f'풍속 컬럼의 두번째 1사분위 값 = {speed2_q1}')\n",
        "print(f'풍속 컬럼의 두번째 3사분위 값 = {speed2_q3}')\n",
        "print(f'풍속 컬럼의 두번째 IQR = {speed2_IQR}')\n",
        "print(f'풍속 컬럼의 두번째 정상범위의 최소값 = {speed2_min_outlier}')\n",
        "print(f'풍속 컬럼의 두번째 정상범위의 최대값 = {speed2_max_outlier}')"
      ],
      "metadata": {
        "colab": {
          "base_uri": "https://localhost:8080/"
        },
        "id": "oDXv25Yh0adN",
        "outputId": "96e69367-0ea6-4b07-d212-05829176c781"
      },
      "execution_count": null,
      "outputs": [
        {
          "output_type": "stream",
          "name": "stdout",
          "text": [
            "기압 컬럼의 두번째 요약 통계량 :\n",
            "count    93189.000000\n",
            "mean      1004.585509\n",
            "std          4.868920\n",
            "min        995.000000\n",
            "25%       1002.000000\n",
            "50%       1006.000000\n",
            "75%       1007.000000\n",
            "max       1014.000000\n",
            "Name: atm, dtype: float64\n",
            "\n",
            "풍속 컬럼의 두번째 1사분위 값 = 1.5\n",
            "풍속 컬럼의 두번째 3사분위 값 = 4.6\n",
            "풍속 컬럼의 두번째 IQR = 3.0999999999999996\n",
            "풍속 컬럼의 두번째 정상범위의 최소값 = -3.1499999999999995\n",
            "풍속 컬럼의 두번째 정상범위의 최대값 = 9.25\n"
          ]
        }
      ]
    },
    {
      "cell_type": "code",
      "source": [
        "# 풍속 컬럼의 두번째 이상치 추출\n",
        "cond = (cleaned_speed < speed2_min_outlier) | (cleaned_speed > speed2_max_outlier)\n",
        "print(f'풍속 컬럼의 이상치에 대한 세번째 불리언 배열 :\\n{cond}\\n')\n",
        "\n",
        "s_outlier = cleaned_speed.loc[cond]\n",
        "s_outlier_index = cleaned_speed.loc[cond].index\n",
        "print(f'풍속 컬럼의 세번째 이상치 데이터의 인덱스 : \\n{s_outlier_index}\\n')\n",
        "\n",
        "# 인덱스 확인결과 : Int64Index([], dtype='int64') <<<--- 결과값이 없다.\n",
        "# 따라서, 더이상 이상치를 구하지 않아도 된다."
      ],
      "metadata": {
        "colab": {
          "base_uri": "https://localhost:8080/"
        },
        "id": "ThrhMcjj08Nb",
        "outputId": "0349b91e-6c60-4896-f9a4-884ac58519f9"
      },
      "execution_count": null,
      "outputs": [
        {
          "output_type": "stream",
          "name": "stdout",
          "text": [
            "풍속 컬럼의 이상치에 대한 세번째 불리언 배열 :\n",
            "0        False\n",
            "1        False\n",
            "2        False\n",
            "3        False\n",
            "4        False\n",
            "         ...  \n",
            "99995    False\n",
            "99996    False\n",
            "99997    False\n",
            "99998    False\n",
            "99999    False\n",
            "Name: speed, Length: 97843, dtype: bool\n",
            "\n",
            "풍속 컬럼의 세번째 이상치 데이터의 인덱스 : \n",
            "Int64Index([], dtype='int64')\n",
            "\n"
          ]
        }
      ]
    },
    {
      "cell_type": "markdown",
      "source": [
        "### ■ pd.concat() : 데이터 통합"
      ],
      "metadata": {
        "id": "WuIGwI4A1MRT"
      }
    },
    {
      "cell_type": "code",
      "source": [
        "# print(f'온도 = \\n{cleaned_temp}')\n",
        "# print(f'습도 = \\n{cleaned_hum}')\n",
        "# print(f'기압 = \\n{cleaned_atm}')\n",
        "# print(f'풍속 = \\n{cleaned_speed}')\n"
      ],
      "metadata": {
        "id": "q5XO2oUB1N_r"
      },
      "execution_count": null,
      "outputs": []
    },
    {
      "cell_type": "code",
      "source": [
        "# 원본 데이터(df_weather) --> 데이터 확인\n",
        "print(df_weather)"
      ],
      "metadata": {
        "id": "sOLMAEy66qKk"
      },
      "execution_count": null,
      "outputs": []
    },
    {
      "cell_type": "code",
      "source": [
        "# 각 컬럼 병합 --> 데이터프레임 생성\n",
        "# concat는 데이터를 순서대로 통합(순서 중요)\n",
        "\n",
        "df_total = pd.concat([cleaned_temp,cleaned_hum,cleaned_atm,cleaned_speed],\n",
        "                     axis=1, join='inner')\n",
        "# ignore_index=True : 동작하지 않음\n",
        "\n",
        "# 결과 확인하기\n",
        "print(df_total)\n",
        "\n",
        "# 누락 제거 --> dropna()\n",
        "df_remain = df_total.dropna()\n",
        "print(df_remain)\n",
        "\n",
        "# concat을 join=outer로 하고 df.dropna() 해준 결과 == concat을 join=inner로 했을때와 동일한 결과"
      ],
      "metadata": {
        "colab": {
          "base_uri": "https://localhost:8080/"
        },
        "id": "dsPEYH2U663L",
        "outputId": "0d927180-7e1e-4324-8ff8-94684b7c6147"
      },
      "execution_count": null,
      "outputs": [
        {
          "output_type": "stream",
          "name": "stdout",
          "text": [
            "       temp  hum   atm  speed\n",
            "7350     19   45  1013    1.0\n",
            "7351     19   45  1013    1.0\n",
            "7352     19   45  1013    1.0\n",
            "7353     19   45  1013    1.0\n",
            "7354     19   45  1013    1.0\n",
            "...     ...  ...   ...    ...\n",
            "99995     9   71  1009    2.6\n",
            "99996     9   71  1009    2.6\n",
            "99997     9   71  1009    2.6\n",
            "99998     9   71  1009    2.6\n",
            "99999     9   71  1009    2.6\n",
            "\n",
            "[89594 rows x 4 columns]\n",
            "       temp  hum   atm  speed\n",
            "7350     19   45  1013    1.0\n",
            "7351     19   45  1013    1.0\n",
            "7352     19   45  1013    1.0\n",
            "7353     19   45  1013    1.0\n",
            "7354     19   45  1013    1.0\n",
            "...     ...  ...   ...    ...\n",
            "99995     9   71  1009    2.6\n",
            "99996     9   71  1009    2.6\n",
            "99997     9   71  1009    2.6\n",
            "99998     9   71  1009    2.6\n",
            "99999     9   71  1009    2.6\n",
            "\n",
            "[89594 rows x 4 columns]\n"
          ]
        }
      ]
    },
    {
      "cell_type": "markdown",
      "source": [
        "### ■ df.reset_index()"
      ],
      "metadata": {
        "id": "giY0__u2-bz4"
      }
    },
    {
      "cell_type": "code",
      "source": [
        "# concat() 할때 ignore_index가 제대로 동작하지 않기 때문에, reset_index()로 인덱스를 재설정해준다.\n",
        "\n",
        "# 인덱스 재설정\n",
        "df_total.reset_index(drop=True,inplace=True)\n",
        "\n",
        "# 결과 확인하기\n",
        "print(df_total)"
      ],
      "metadata": {
        "colab": {
          "base_uri": "https://localhost:8080/"
        },
        "id": "gRc6gV569G29",
        "outputId": "f6129b9e-8ca2-485a-e2cd-9cc2f4b3f381"
      },
      "execution_count": null,
      "outputs": [
        {
          "output_type": "stream",
          "name": "stdout",
          "text": [
            "       index  temp  hum   atm  speed\n",
            "0          0    19   45  1013    1.0\n",
            "1          1    19   45  1013    1.0\n",
            "2          2    19   45  1013    1.0\n",
            "3          3    19   45  1013    1.0\n",
            "4          4    19   45  1013    1.0\n",
            "...      ...   ...  ...   ...    ...\n",
            "89589  89589     9   71  1009    2.6\n",
            "89590  89590     9   71  1009    2.6\n",
            "89591  89591     9   71  1009    2.6\n",
            "89592  89592     9   71  1009    2.6\n",
            "89593  89593     9   71  1009    2.6\n",
            "\n",
            "[89594 rows x 5 columns]\n"
          ]
        }
      ]
    },
    {
      "cell_type": "code",
      "source": [
        "# 누락이 존재하는 경우 (NaN)데이터타입  --> float64\n",
        "# join='outer'로 했을 경우, NaN이 존재하는데 이럴때 데이터타입이 float로 바뀐다."
      ],
      "metadata": {
        "id": "kJxXQWVdPPhW"
      },
      "execution_count": null,
      "outputs": []
    },
    {
      "cell_type": "markdown",
      "source": [
        "### ■ 처리하면 안되는 이상치"
      ],
      "metadata": {
        "id": "EJLpfY9XQrjF"
      }
    },
    {
      "cell_type": "code",
      "source": [
        "# 의료 Data는 이상치를 처리하면 안된다.\n",
        "# 이상치 Data = 환자 데이타"
      ],
      "metadata": {
        "id": "5sd7R-JQQvbQ"
      },
      "execution_count": null,
      "outputs": []
    },
    {
      "cell_type": "markdown",
      "source": [
        "## § Feature Engineering"
      ],
      "metadata": {
        "id": "sjnGiyUAZd3F"
      }
    },
    {
      "cell_type": "code",
      "source": [
        "# 붓꽃 데이터 불러오기\n",
        "file_path = '/content/drive/MyDrive/KDT/정형데이터분석시각화/iris_dataset.csv'\n",
        "df_iris = pd.read_csv(file_path)\n",
        "\n",
        "# print(df_iris)"
      ],
      "metadata": {
        "colab": {
          "base_uri": "https://localhost:8080/"
        },
        "id": "dQ5ltx8HZofo",
        "outputId": "66c1cec6-e834-46de-a8f5-e4ce483c3361"
      },
      "execution_count": null,
      "outputs": [
        {
          "output_type": "execute_result",
          "data": {
            "text/plain": [
              "setosa        50\n",
              "versicolor    50\n",
              "virginica     50\n",
              "Name: label, dtype: int64"
            ]
          },
          "metadata": {},
          "execution_count": 99
        }
      ]
    },
    {
      "cell_type": "markdown",
      "source": [
        "### ■ Label Encoding : df.replace()"
      ],
      "metadata": {
        "id": "Gvof8FR4ZhYv"
      }
    },
    {
      "cell_type": "code",
      "source": [
        "# 붓꽃 품종의 종류 확인 --> value_counts()\n",
        "print(df_iris.label.value_counts())\n",
        "\n",
        "# Label Encoding 실행\n",
        "\n",
        "# replace() 사용\n",
        "df_iris_label_encoding = df_iris.replace({'setosa':0,'versicolor':1,'virginica':2})\n",
        "\n",
        "# 결과 확인\n",
        "# print(df_iris_label_encoding)\n",
        "print(df_iris_label_encoding.label.value_counts())"
      ],
      "metadata": {
        "colab": {
          "base_uri": "https://localhost:8080/"
        },
        "id": "RWU4CX22eSmH",
        "outputId": "25730af8-5c95-4130-8647-fc0e82f2c54c"
      },
      "execution_count": null,
      "outputs": [
        {
          "output_type": "stream",
          "name": "stdout",
          "text": [
            "0    50\n",
            "1    50\n",
            "2    50\n",
            "Name: label, dtype: int64\n"
          ]
        }
      ]
    },
    {
      "cell_type": "markdown",
      "source": [
        "### ■ One-Hot Encoding : pd.get_dummies()"
      ],
      "metadata": {
        "id": "shhMSjQYh-oC"
      }
    },
    {
      "cell_type": "code",
      "source": [
        "# pd.get_dummies(df, columns=[])\n",
        "df_iris_one_hot = pd.get_dummies(df_iris, columns=['label'])\n",
        "\n",
        "# 결과 확인하기\n",
        "print(df_iris_one_hot)"
      ],
      "metadata": {
        "colab": {
          "base_uri": "https://localhost:8080/"
        },
        "id": "L7VsX4JFiLrx",
        "outputId": "49da7a0c-539a-41ea-9b5c-2134b70d7c56"
      },
      "execution_count": null,
      "outputs": [
        {
          "output_type": "stream",
          "name": "stdout",
          "text": [
            "     sepal length (cm)  sepal width (cm)  petal length (cm)  petal width (cm)  \\\n",
            "0                  5.1               3.5                1.4               0.2   \n",
            "1                  4.9               3.0                1.4               0.2   \n",
            "2                  4.7               3.2                1.3               0.2   \n",
            "3                  4.6               3.1                1.5               0.2   \n",
            "4                  5.0               3.6                1.4               0.2   \n",
            "..                 ...               ...                ...               ...   \n",
            "145                6.7               3.0                5.2               2.3   \n",
            "146                6.3               2.5                5.0               1.9   \n",
            "147                6.5               3.0                5.2               2.0   \n",
            "148                6.2               3.4                5.4               2.3   \n",
            "149                5.9               3.0                5.1               1.8   \n",
            "\n",
            "     label_setosa  label_versicolor  label_virginica  \n",
            "0               1                 0                0  \n",
            "1               1                 0                0  \n",
            "2               1                 0                0  \n",
            "3               1                 0                0  \n",
            "4               1                 0                0  \n",
            "..            ...               ...              ...  \n",
            "145             0                 0                1  \n",
            "146             0                 0                1  \n",
            "147             0                 0                1  \n",
            "148             0                 0                1  \n",
            "149             0                 0                1  \n",
            "\n",
            "[150 rows x 7 columns]\n"
          ]
        }
      ]
    },
    {
      "cell_type": "markdown",
      "source": [
        "### ■ 구간화(Binning) : pd.cut()"
      ],
      "metadata": {
        "id": "vbnEzuP6qvWB"
      }
    },
    {
      "cell_type": "code",
      "source": [
        "# pd.cut(x, bins, labels)\n",
        "# 데이터 생성\n",
        "custom_ages = [1, 10, 15, 13, 21, 23, 37, 31, 43, 80, 61, 20, 41, 32, 100]\n",
        "custom_bins = [0,15,25,35,60,100]\n",
        "custom_labels = ['어린이','청년','장년','중년','노년']\n",
        "\n",
        "# pd.cut() 사용\n",
        "age_data = pd.cut(x=custom_ages, bins=custom_bins, labels=custom_labels)\n",
        "\n",
        "# 결과 확인하기\n",
        "# print(f'구간화의 결과 :\\n{age_data}\\n')\n",
        "\n",
        "# DataFrame 자료형 생성\n",
        "# df_age = pd.DataFrame(data=custom_ages, columns=['age'])  # 아래와 동일한 결과\n",
        "df_age = pd.DataFrame(data={'age':custom_ages})\n",
        "print(df_age)\n",
        "\n",
        "# DataFrame 자료형 데이터 : 컬럼 값 수정 --> 숫자형 --> 범주형으로 변환\n",
        "# df_age.loc[:,'age'] = age_data          # <-- 기존의 age 컬럼을 업데이트\n",
        "# df_age.loc[:,'age2'] = age_data          # <-- 새로운 age22 컬럼을 인서트\n",
        "# print(f'구간화의 결과 : \\n{df_age}')"
      ],
      "metadata": {
        "colab": {
          "base_uri": "https://localhost:8080/"
        },
        "id": "P_6YK4pTqyaK",
        "outputId": "f282a8e1-3fac-4afb-805b-c2f0ff447d3e"
      },
      "execution_count": null,
      "outputs": [
        {
          "output_type": "stream",
          "name": "stdout",
          "text": [
            "    age\n",
            "0     1\n",
            "1    10\n",
            "2    15\n",
            "3    13\n",
            "4    21\n",
            "5    23\n",
            "6    37\n",
            "7    31\n",
            "8    43\n",
            "9    80\n",
            "10   61\n",
            "11   20\n",
            "12   41\n",
            "13   32\n",
            "14  100\n"
          ]
        }
      ]
    },
    {
      "cell_type": "code",
      "source": [
        "custom_ages = [1, 10, 15, 13, 21, 23, 37, 31, 43, 80, 61, 20, 41, 32, 100]\n",
        "custom_bins = [0,15,25,35,60,100]\n",
        "custom_labels = ['어린이','청년','장년','중년','노년']\n",
        "\n",
        "# pd.cut() 사용\n",
        "# age_data = pd.cut(x=custom_ages, bins=custom_bins, labels=custom_labels)\n",
        "age_data = pd.cut(x=custom_ages, bins=custom_bins)\n",
        "\n",
        "# 결과 확인하기\n",
        "print(f'구간화의 결과 :\\n{age_data}\\n')\n"
      ],
      "metadata": {
        "colab": {
          "base_uri": "https://localhost:8080/"
        },
        "id": "-mH5CWrRwRZH",
        "outputId": "d1fbf974-5be2-4c1c-a6d7-3df319a5d331"
      },
      "execution_count": null,
      "outputs": [
        {
          "output_type": "stream",
          "name": "stdout",
          "text": [
            "구간화의 결과 :\n",
            "[(0, 15], (0, 15], (0, 15], (0, 15], (15, 25], ..., (60, 100], (15, 25], (35, 60], (25, 35], (60, 100]]\n",
            "Length: 15\n",
            "Categories (5, interval[int64, right]): [(0, 15] < (15, 25] < (25, 35] < (35, 60] < (60, 100]]\n",
            "\n"
          ]
        }
      ]
    },
    {
      "cell_type": "code",
      "source": [
        "# 추가사항 =====================================================================\n",
        "import pandas as pd\n",
        "\n",
        "# pd.cut(x, bins, labels)\n",
        "# 데이터 생성\n",
        "custom_ages = [1, 10, 15, 13, 21, 23, 37, 31, 43, 80, 61, 20, 41, 32, 100]\n",
        "custom_bins = [0,15,25,35,60,100]\n",
        "custom_labels = ['어린이','청년','장년','중년','노년']\n",
        "\n",
        "# DataFrame 자료형 생성\n",
        "df_age = pd.DataFrame(data=custom_ages, columns=['age'])  # 아래와 동일한 결과\n",
        "# df_age = pd.DataFrame(data={'age':custom_ages})\n",
        "print(f'{df_age}\\n')\n",
        "\n",
        "# age 컬럼 --> 값 추출\n",
        "# df_age.loc[:,'age']\n",
        "vals = df_age.age.values\n",
        "print(vals)\n",
        "\n",
        "# pd.cut() 사용\n",
        "age_data = pd.cut(x=vals, bins=custom_bins, labels=custom_labels)\n",
        "\n",
        "# 결과 확인하기\n",
        "print(f'구간화의 결과 :\\n{age_data}\\n')\n",
        "\n",
        "\n",
        "# DataFrame 자료형 데이터 : 컬럼 값 수정 --> 숫자형 --> 범주형으로 변환\n",
        "# df_age.loc[:,'age'] = age_data          # <-- 기존의 age 컬럼을 업데이트\n",
        "# df_age.loc[:,'age2'] = age_data          # <-- 새로운 age2 컬럼을 인서트\n",
        "df_age.age2 = age_data          # <-- 이렇게 표현하면 에러는 안나지만 적용도 안됨\n",
        "print(f'구간화의 결과 : \\n{df_age}')"
      ],
      "metadata": {
        "colab": {
          "base_uri": "https://localhost:8080/"
        },
        "id": "2m6ZswPb-fna",
        "outputId": "fb92519f-30d7-4bc7-c88d-2f624d85b4f1"
      },
      "execution_count": null,
      "outputs": [
        {
          "output_type": "stream",
          "name": "stdout",
          "text": [
            "    age\n",
            "0     1\n",
            "1    10\n",
            "2    15\n",
            "3    13\n",
            "4    21\n",
            "5    23\n",
            "6    37\n",
            "7    31\n",
            "8    43\n",
            "9    80\n",
            "10   61\n",
            "11   20\n",
            "12   41\n",
            "13   32\n",
            "14  100\n",
            "\n",
            "[  1  10  15  13  21  23  37  31  43  80  61  20  41  32 100]\n",
            "구간화의 결과 :\n",
            "['어린이', '어린이', '어린이', '어린이', '청년', ..., '노년', '청년', '중년', '장년', '노년']\n",
            "Length: 15\n",
            "Categories (5, object): ['어린이' < '청년' < '장년' < '중년' < '노년']\n",
            "\n",
            "구간화의 결과 : \n",
            "    age\n",
            "0     1\n",
            "1    10\n",
            "2    15\n",
            "3    13\n",
            "4    21\n",
            "5    23\n",
            "6    37\n",
            "7    31\n",
            "8    43\n",
            "9    80\n",
            "10   61\n",
            "11   20\n",
            "12   41\n",
            "13   32\n",
            "14  100\n"
          ]
        },
        {
          "output_type": "stream",
          "name": "stderr",
          "text": [
            "<ipython-input-6-2baf4c65ab02>:30: UserWarning: Pandas doesn't allow columns to be created via a new attribute name - see https://pandas.pydata.org/pandas-docs/stable/indexing.html#attribute-access\n",
            "  df_age.age2 = age_data          # <-- 새로운 age22 컬럼을 인서트\n"
          ]
        }
      ]
    },
    {
      "cell_type": "markdown",
      "source": [
        "### ■ Scaling"
      ],
      "metadata": {
        "id": "RD9CMclfSHCD"
      }
    }
  ]
}
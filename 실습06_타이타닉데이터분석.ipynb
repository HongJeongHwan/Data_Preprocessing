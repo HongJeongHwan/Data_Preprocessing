{
  "nbformat": 4,
  "nbformat_minor": 0,
  "metadata": {
    "colab": {
      "provenance": [],
      "toc_visible": true,
      "mount_file_id": "10_49AAv58kNlTLQr65mqdFjgJsALBKuK",
      "authorship_tag": "ABX9TyNd1Wtg0Nft8QU/G440gsOs",
      "include_colab_link": true
    },
    "kernelspec": {
      "name": "python3",
      "display_name": "Python 3"
    },
    "language_info": {
      "name": "python"
    }
  },
  "cells": [
    {
      "cell_type": "markdown",
      "metadata": {
        "id": "view-in-github",
        "colab_type": "text"
      },
      "source": [
        "<a href=\"https://colab.research.google.com/github/HongJeongHwan/Data_Preprocessing/blob/main/%EC%8B%A4%EC%8A%B506_%ED%83%80%EC%9D%B4%ED%83%80%EB%8B%89%EB%8D%B0%EC%9D%B4%ED%84%B0%EB%B6%84%EC%84%9D.ipynb\" target=\"_parent\"><img src=\"https://colab.research.google.com/assets/colab-badge.svg\" alt=\"Open In Colab\"/></a>"
      ]
    },
    {
      "cell_type": "code",
      "source": [
        "from google.colab import drive\n",
        "drive.mount('/content/drive', force_remount=True)"
      ],
      "metadata": {
        "colab": {
          "base_uri": "https://localhost:8080/"
        },
        "id": "l_rwjdGQI8WP",
        "outputId": "1debaa47-b68f-47fd-9143-03f58824d7e6"
      },
      "execution_count": null,
      "outputs": [
        {
          "output_type": "stream",
          "name": "stdout",
          "text": [
            "Mounted at /content/drive\n"
          ]
        }
      ]
    },
    {
      "cell_type": "markdown",
      "source": [
        "#§ 타이타닉 데이터 분석"
      ],
      "metadata": {
        "id": "ye5DL4IXJGkd"
      }
    },
    {
      "cell_type": "markdown",
      "source": [
        "##■ 함수 정리"
      ],
      "metadata": {
        "id": "LfLf9167JLh2"
      }
    },
    {
      "cell_type": "markdown",
      "source": [
        "###→ value_counts(normalize=True)"
      ],
      "metadata": {
        "id": "l2ILtfafJmbf"
      }
    },
    {
      "cell_type": "code",
      "source": [
        "# value_counts(normalize=True) : 항목별 비율 추출\n",
        "\n",
        "# 필요한 라이브러리 임포트\n",
        "import seaborn as sns\n",
        "import pandas as pd\n",
        "\n",
        "# 데이터 생성\n",
        "df_tips = sns.load_dataset('tips')\n",
        "\n",
        "# 결과 확인\n",
        "print(df_tips)\n",
        "\n",
        "# day 컬럼 : 항목별 개수 추출\n",
        "day_counts = df_tips.loc[:,'day'].value_counts()\n",
        "print(f'day컬럼의 항목별 빈도수 :\\n{day_counts}\\n')\n",
        "\n",
        "# day 컬럼 : 항목별 비율 추출\n",
        "day_ratio = df_tips.loc[:,'day'].value_counts(normalize=True)\n",
        "print(f'day컬럼의 항목별 비율 :\\n{day_ratio}\\n')\n",
        "\n",
        "df_tips.size\n",
        "df_tips.size == 244*7"
      ],
      "metadata": {
        "colab": {
          "base_uri": "https://localhost:8080/"
        },
        "id": "xofs8kjMJryt",
        "outputId": "7408faf4-2568-4aa3-975f-e346a7bedaf1"
      },
      "execution_count": null,
      "outputs": [
        {
          "output_type": "stream",
          "name": "stdout",
          "text": [
            "     total_bill   tip     sex smoker   day    time  size\n",
            "0         16.99  1.01  Female     No   Sun  Dinner     2\n",
            "1         10.34  1.66    Male     No   Sun  Dinner     3\n",
            "2         21.01  3.50    Male     No   Sun  Dinner     3\n",
            "3         23.68  3.31    Male     No   Sun  Dinner     2\n",
            "4         24.59  3.61  Female     No   Sun  Dinner     4\n",
            "..          ...   ...     ...    ...   ...     ...   ...\n",
            "239       29.03  5.92    Male     No   Sat  Dinner     3\n",
            "240       27.18  2.00  Female    Yes   Sat  Dinner     2\n",
            "241       22.67  2.00    Male    Yes   Sat  Dinner     2\n",
            "242       17.82  1.75    Male     No   Sat  Dinner     2\n",
            "243       18.78  3.00  Female     No  Thur  Dinner     2\n",
            "\n",
            "[244 rows x 7 columns]\n",
            "day컬럼의 항목별 빈도수 :\n",
            "Sat     87\n",
            "Sun     76\n",
            "Thur    62\n",
            "Fri     19\n",
            "Name: day, dtype: int64\n",
            "\n",
            "day컬럼의 항목별 비율 :\n",
            "Sat     0.356557\n",
            "Sun     0.311475\n",
            "Thur    0.254098\n",
            "Fri     0.077869\n",
            "Name: day, dtype: float64\n",
            "\n"
          ]
        },
        {
          "output_type": "execute_result",
          "data": {
            "text/plain": [
              "True"
            ]
          },
          "metadata": {},
          "execution_count": 1
        }
      ]
    },
    {
      "cell_type": "markdown",
      "source": [
        "###→ apply()"
      ],
      "metadata": {
        "id": "HVrg18GmQj6I"
      }
    },
    {
      "cell_type": "code",
      "source": [
        "# 사용자 정의 함수 --> 데이터프레임/시리즈 데이터에 적용\n",
        "\"\"\"'\n",
        "1. df.apply(func)\n",
        "2. df.col.apply(func)\n",
        "\"\"\"\n",
        "# DataFrame 자료형 생성\n",
        "data_ = {'A':[4,1,5],'B':[9,4,6]}\n",
        "df = pd.DataFrame(data=data_)\n",
        "print(f'{df}\\n')\n",
        "\n",
        "# plus_one 함수 정의 --> 사용자 정의 함수\n",
        "def plus_one(x):\n",
        "    return x+1\n",
        "\n",
        "# 적용이 안되는 경우 --> pandas에서 제공하지 않는 함수를 df.함수() 사용\n",
        "# df = df.plus_one()\n",
        "# 이렇게 에러발생 : AttributeError: 'DataFrame' object has no attribute 'plus_one'\n",
        "\n",
        "# plus_one(x) --> 매개변수x --> 인수(argument)로서 df 전달\n",
        "# --> 함수의 성격에 따라 될수도 안될수도 있다. 숫자형:가능, 문자형이 들어가면 안됨.\n",
        "# df_test = plus_one(df)\n",
        "# print(df_test)\n",
        "\n",
        "# DataFrame --> plus_one 함수 적용 --> df.apply(plus_one)\n",
        "df_1 = df.apply(plus_one)\n",
        "print(f'{df_1}\\n')\n",
        "\n",
        "# Series --> plus_one 함수 적용 --> df.col.apply(plus_one)\n",
        "df.loc[:,'A'] = df.loc[:,'A'].apply(plus_one)\n",
        "print(f'{df}\\n')\n",
        "\n",
        "'''\n",
        "s_day = df_tips.loc[:,'day'].value_counts().apply(plus_one)\n",
        "print(s_day)\n",
        "'''"
      ],
      "metadata": {
        "colab": {
          "base_uri": "https://localhost:8080/",
          "height": 311
        },
        "id": "_5J2M0yvO4Io",
        "outputId": "b57b145a-a96e-44fc-e917-773b38e3c57e"
      },
      "execution_count": null,
      "outputs": [
        {
          "output_type": "stream",
          "name": "stdout",
          "text": [
            "   A  B\n",
            "0  4  9\n",
            "1  1  4\n",
            "2  5  6\n",
            "\n",
            "   A   B\n",
            "0  5  10\n",
            "1  2   5\n",
            "2  6   7\n",
            "\n",
            "   A  B\n",
            "0  5  9\n",
            "1  2  4\n",
            "2  6  6\n",
            "\n"
          ]
        },
        {
          "output_type": "execute_result",
          "data": {
            "text/plain": [
              "\"\\ns_day = df_tips.loc[:,'day'].value_counts().apply(plus_one)\\nprint(s_day)\\n\""
            ],
            "application/vnd.google.colaboratory.intrinsic+json": {
              "type": "string"
            }
          },
          "metadata": {},
          "execution_count": 2
        }
      ]
    },
    {
      "cell_type": "markdown",
      "source": [
        "###→ apply(lambda)"
      ],
      "metadata": {
        "id": "ku_6hG-KZPAg"
      }
    },
    {
      "cell_type": "code",
      "source": [
        "# apply(lambda)를 이용해서 plus_one 함수기능을 구현해보자.\n",
        "\n",
        "# 사용할 데이터 --> df\n",
        "print(f'{df}\\n')\n",
        "\n",
        "# DataFrame --> apply(lambda) 적용\n",
        "df_2 = df.apply(lambda x:x+1)\n",
        "\n",
        "print(f'{df_2}\\n')\n",
        "\n",
        "# 특정 컬럼 --> apply(lambda)\n",
        "df.loc[:,'B'] = df.loc[:,'B'].apply(lambda x:x+1)\n",
        "\n",
        "print(f'{df}\\n')"
      ],
      "metadata": {
        "colab": {
          "base_uri": "https://localhost:8080/"
        },
        "id": "heq7RvIYZqIA",
        "outputId": "0142fc79-755b-41b1-a227-29e8303a80d0"
      },
      "execution_count": null,
      "outputs": [
        {
          "output_type": "stream",
          "name": "stdout",
          "text": [
            "   A  B\n",
            "0  5  9\n",
            "1  2  4\n",
            "2  6  6\n",
            "\n",
            "   A   B\n",
            "0  6  10\n",
            "1  3   5\n",
            "2  7   7\n",
            "\n",
            "   A   B\n",
            "0  5  10\n",
            "1  2   5\n",
            "2  6   7\n",
            "\n"
          ]
        }
      ]
    },
    {
      "cell_type": "code",
      "source": [
        "# DataFrame 자료형 생성\n",
        "data_ = {'A':['banna','apple'],'B':['i am a boy','you are a girl']}\n",
        "df_str = pd.DataFrame(data=data_)\n",
        "print(f'{df_str}\\n')\n",
        "\n",
        "# df_str\n",
        "\n",
        "# def len_str(x):\n",
        "#     return len(x)\n",
        "\n",
        "df_test1 = df_str.apply(lambda x:len(x))\n",
        "print(f'{df_test1}')"
      ],
      "metadata": {
        "colab": {
          "base_uri": "https://localhost:8080/"
        },
        "id": "YK-rI8URiXEh",
        "outputId": "14a3cbe3-bd80-4ded-df62-2a8334408217"
      },
      "execution_count": null,
      "outputs": [
        {
          "output_type": "stream",
          "name": "stdout",
          "text": [
            "       A               B\n",
            "0  banna      i am a boy\n",
            "1  apple  you are a girl\n",
            "\n",
            "A    2\n",
            "B    2\n",
            "dtype: int64\n"
          ]
        }
      ]
    },
    {
      "cell_type": "markdown",
      "source": [
        "##■ 데이터 불러오기"
      ],
      "metadata": {
        "id": "qafFXRPNkOUH"
      }
    },
    {
      "cell_type": "code",
      "source": [
        "# 필요한 라이브러리 임포트\n",
        "import matplotlib.pyplot as plt\n",
        "import numpy as np"
      ],
      "metadata": {
        "id": "ht_haGYikq5C"
      },
      "execution_count": null,
      "outputs": []
    },
    {
      "cell_type": "code",
      "execution_count": null,
      "metadata": {
        "colab": {
          "base_uri": "https://localhost:8080/"
        },
        "id": "v3XH2SjgI9TV",
        "outputId": "31e2b59f-b16f-4c99-c138-27d025002679"
      },
      "outputs": [
        {
          "output_type": "stream",
          "name": "stdout",
          "text": [
            "     PassengerId  Survived  Pclass  \\\n",
            "0            892         0       3   \n",
            "1            893         1       3   \n",
            "2            894         0       2   \n",
            "3            895         0       3   \n",
            "4            896         1       3   \n",
            "..           ...       ...     ...   \n",
            "413         1305         0       3   \n",
            "414         1306         1       1   \n",
            "415         1307         0       3   \n",
            "416         1308         0       3   \n",
            "417         1309         0       3   \n",
            "\n",
            "                                             Name  Gender   Age  SibSp  Parch  \\\n",
            "0                                Kelly, Mr. James    male  34.5      0      0   \n",
            "1                Wilkes, Mrs. James (Ellen Needs)  female  47.0      1      0   \n",
            "2                       Myles, Mr. Thomas Francis    male  62.0      0      0   \n",
            "3                                Wirz, Mr. Albert    male  27.0      0      0   \n",
            "4    Hirvonen, Mrs. Alexander (Helga E Lindqvist)  female  22.0      1      1   \n",
            "..                                            ...     ...   ...    ...    ...   \n",
            "413                            Spector, Mr. Woolf    male   NaN      0      0   \n",
            "414                  Oliva y Ocana, Dona. Fermina  female  39.0      0      0   \n",
            "415                  Saether, Mr. Simon Sivertsen    male  38.5      0      0   \n",
            "416                           Ware, Mr. Frederick    male   NaN      0      0   \n",
            "417                      Peter, Master. Michael J    male   NaN      1      1   \n",
            "\n",
            "                 Ticket      Fare Cabin Embarked  \n",
            "0                330911    7.8292   NaN        Q  \n",
            "1                363272    7.0000   NaN        S  \n",
            "2                240276    9.6875   NaN        Q  \n",
            "3                315154    8.6625   NaN        S  \n",
            "4               3101298   12.2875   NaN        S  \n",
            "..                  ...       ...   ...      ...  \n",
            "413           A.5. 3236    8.0500   NaN        S  \n",
            "414            PC 17758  108.9000  C105        C  \n",
            "415  SOTON/O.Q. 3101262    7.2500   NaN        S  \n",
            "416              359309    8.0500   NaN        S  \n",
            "417                2668   22.3583   NaN        C  \n",
            "\n",
            "[418 rows x 12 columns]\n",
            "     PassengerId  Survived  Pclass  \\\n",
            "0              1         0       3   \n",
            "1              2         1       1   \n",
            "2              3         1       3   \n",
            "3              4         1       1   \n",
            "4              5         0       3   \n",
            "..           ...       ...     ...   \n",
            "886          887         0       2   \n",
            "887          888         1       1   \n",
            "888          889         0       3   \n",
            "889          890         1       1   \n",
            "890          891         0       3   \n",
            "\n",
            "                                                  Name  Gender   Age  SibSp  \\\n",
            "0                              Braund, Mr. Owen Harris    male  22.0      1   \n",
            "1    Cumings, Mrs. John Bradley (Florence Briggs Th...  female  38.0      1   \n",
            "2                               Heikkinen, Miss. Laina  female  26.0      0   \n",
            "3         Futrelle, Mrs. Jacques Heath (Lily May Peel)  female  35.0      1   \n",
            "4                             Allen, Mr. William Henry    male  35.0      0   \n",
            "..                                                 ...     ...   ...    ...   \n",
            "886                              Montvila, Rev. Juozas    male  27.0      0   \n",
            "887                       Graham, Miss. Margaret Edith  female  19.0      0   \n",
            "888           Johnston, Miss. Catherine Helen \"Carrie\"  female   NaN      1   \n",
            "889                              Behr, Mr. Karl Howell    male  26.0      0   \n",
            "890                                Dooley, Mr. Patrick    male  32.0      0   \n",
            "\n",
            "     Parch            Ticket     Fare Cabin Embarked  \n",
            "0        0         A/5 21171   7.2500   NaN        S  \n",
            "1        0          PC 17599  71.2833   C85        C  \n",
            "2        0  STON/O2. 3101282   7.9250   NaN        S  \n",
            "3        0            113803  53.1000  C123        S  \n",
            "4        0            373450   8.0500   NaN        S  \n",
            "..     ...               ...      ...   ...      ...  \n",
            "886      0            211536  13.0000   NaN        S  \n",
            "887      0            112053  30.0000   B42        S  \n",
            "888      2        W./C. 6607  23.4500   NaN        S  \n",
            "889      0            111369  30.0000  C148        C  \n",
            "890      0            370376   7.7500   NaN        Q  \n",
            "\n",
            "[891 rows x 12 columns]\n"
          ]
        }
      ],
      "source": [
        "# 파일 경로 설정\n",
        "test_file_path = '/content/drive/MyDrive/KDT/03. 정형데이터분석시각화/02. Data파일/titanic_test.csv'\n",
        "train_file_path = '/content/drive/MyDrive/KDT/03. 정형데이터분석시각화/02. Data파일/titanic_train.csv'\n",
        "\n",
        "# DataFrame 자료형 생성\n",
        "df_titanic_test = pd.read_csv(test_file_path)\n",
        "df_titanic_train = pd.read_csv(train_file_path)\n",
        "\n",
        "# 결과 확인하기\n",
        "print(df_titanic_test)\n",
        "print(df_titanic_train)"
      ]
    },
    {
      "cell_type": "code",
      "source": [
        "# 학습용 데이터와 평가용 데이터의 컬럼 비교\n",
        "print(df_titanic_test.columns == df_titanic_train.columns)"
      ],
      "metadata": {
        "colab": {
          "base_uri": "https://localhost:8080/"
        },
        "id": "3LZgZ_ssrtnB",
        "outputId": "9c4a9450-60a1-44d3-db44-474715a91c6d"
      },
      "execution_count": null,
      "outputs": [
        {
          "output_type": "stream",
          "name": "stdout",
          "text": [
            "[ True  True  True  True  True  True  True  True  True  True  True  True]\n"
          ]
        }
      ]
    },
    {
      "cell_type": "code",
      "source": [
        "# 데이터 병합하기\n",
        "# df_titanic = pd.concat([df_titanic_train,df_titanic_test], axis=0, join='inner', ignore_index=True)\n",
        "df_titanic = pd.concat([df_titanic_train,df_titanic_test], axis=0)\n",
        "\n",
        "# 인덱스 재설정 --> reset_index : ignore_index가 될때도 있고 안될때도 있으니 그냥하고 인덱스 재설정하자.\n",
        "df_titanic.reset_index(drop=True, inplace=True)\n",
        "\n",
        "# 결과 확인하기\n",
        "print(f'{df_titanic}\\n')\n",
        "df_titanic"
      ],
      "metadata": {
        "colab": {
          "base_uri": "https://localhost:8080/",
          "height": 1000
        },
        "id": "k0MzJ-77kWVA",
        "outputId": "89f68e17-ea13-439b-b71f-1be1164c5f9b"
      },
      "execution_count": null,
      "outputs": [
        {
          "output_type": "stream",
          "name": "stdout",
          "text": [
            "      PassengerId  Survived  Pclass  \\\n",
            "0               1         0       3   \n",
            "1               2         1       1   \n",
            "2               3         1       3   \n",
            "3               4         1       1   \n",
            "4               5         0       3   \n",
            "...           ...       ...     ...   \n",
            "1304         1305         0       3   \n",
            "1305         1306         1       1   \n",
            "1306         1307         0       3   \n",
            "1307         1308         0       3   \n",
            "1308         1309         0       3   \n",
            "\n",
            "                                                   Name  Gender   Age  SibSp  \\\n",
            "0                               Braund, Mr. Owen Harris    male  22.0      1   \n",
            "1     Cumings, Mrs. John Bradley (Florence Briggs Th...  female  38.0      1   \n",
            "2                                Heikkinen, Miss. Laina  female  26.0      0   \n",
            "3          Futrelle, Mrs. Jacques Heath (Lily May Peel)  female  35.0      1   \n",
            "4                              Allen, Mr. William Henry    male  35.0      0   \n",
            "...                                                 ...     ...   ...    ...   \n",
            "1304                                 Spector, Mr. Woolf    male   NaN      0   \n",
            "1305                       Oliva y Ocana, Dona. Fermina  female  39.0      0   \n",
            "1306                       Saether, Mr. Simon Sivertsen    male  38.5      0   \n",
            "1307                                Ware, Mr. Frederick    male   NaN      0   \n",
            "1308                           Peter, Master. Michael J    male   NaN      1   \n",
            "\n",
            "      Parch              Ticket      Fare Cabin Embarked  \n",
            "0         0           A/5 21171    7.2500   NaN        S  \n",
            "1         0            PC 17599   71.2833   C85        C  \n",
            "2         0    STON/O2. 3101282    7.9250   NaN        S  \n",
            "3         0              113803   53.1000  C123        S  \n",
            "4         0              373450    8.0500   NaN        S  \n",
            "...     ...                 ...       ...   ...      ...  \n",
            "1304      0           A.5. 3236    8.0500   NaN        S  \n",
            "1305      0            PC 17758  108.9000  C105        C  \n",
            "1306      0  SOTON/O.Q. 3101262    7.2500   NaN        S  \n",
            "1307      0              359309    8.0500   NaN        S  \n",
            "1308      1                2668   22.3583   NaN        C  \n",
            "\n",
            "[1309 rows x 12 columns]\n",
            "\n"
          ]
        },
        {
          "output_type": "execute_result",
          "data": {
            "text/plain": [
              "      PassengerId  Survived  Pclass  \\\n",
              "0               1         0       3   \n",
              "1               2         1       1   \n",
              "2               3         1       3   \n",
              "3               4         1       1   \n",
              "4               5         0       3   \n",
              "...           ...       ...     ...   \n",
              "1304         1305         0       3   \n",
              "1305         1306         1       1   \n",
              "1306         1307         0       3   \n",
              "1307         1308         0       3   \n",
              "1308         1309         0       3   \n",
              "\n",
              "                                                   Name  Gender   Age  SibSp  \\\n",
              "0                               Braund, Mr. Owen Harris    male  22.0      1   \n",
              "1     Cumings, Mrs. John Bradley (Florence Briggs Th...  female  38.0      1   \n",
              "2                                Heikkinen, Miss. Laina  female  26.0      0   \n",
              "3          Futrelle, Mrs. Jacques Heath (Lily May Peel)  female  35.0      1   \n",
              "4                              Allen, Mr. William Henry    male  35.0      0   \n",
              "...                                                 ...     ...   ...    ...   \n",
              "1304                                 Spector, Mr. Woolf    male   NaN      0   \n",
              "1305                       Oliva y Ocana, Dona. Fermina  female  39.0      0   \n",
              "1306                       Saether, Mr. Simon Sivertsen    male  38.5      0   \n",
              "1307                                Ware, Mr. Frederick    male   NaN      0   \n",
              "1308                           Peter, Master. Michael J    male   NaN      1   \n",
              "\n",
              "      Parch              Ticket      Fare Cabin Embarked  \n",
              "0         0           A/5 21171    7.2500   NaN        S  \n",
              "1         0            PC 17599   71.2833   C85        C  \n",
              "2         0    STON/O2. 3101282    7.9250   NaN        S  \n",
              "3         0              113803   53.1000  C123        S  \n",
              "4         0              373450    8.0500   NaN        S  \n",
              "...     ...                 ...       ...   ...      ...  \n",
              "1304      0           A.5. 3236    8.0500   NaN        S  \n",
              "1305      0            PC 17758  108.9000  C105        C  \n",
              "1306      0  SOTON/O.Q. 3101262    7.2500   NaN        S  \n",
              "1307      0              359309    8.0500   NaN        S  \n",
              "1308      1                2668   22.3583   NaN        C  \n",
              "\n",
              "[1309 rows x 12 columns]"
            ],
            "text/html": [
              "\n",
              "  <div id=\"df-1d0722df-d4e9-4308-b959-c6140bbae6be\" class=\"colab-df-container\">\n",
              "    <div>\n",
              "<style scoped>\n",
              "    .dataframe tbody tr th:only-of-type {\n",
              "        vertical-align: middle;\n",
              "    }\n",
              "\n",
              "    .dataframe tbody tr th {\n",
              "        vertical-align: top;\n",
              "    }\n",
              "\n",
              "    .dataframe thead th {\n",
              "        text-align: right;\n",
              "    }\n",
              "</style>\n",
              "<table border=\"1\" class=\"dataframe\">\n",
              "  <thead>\n",
              "    <tr style=\"text-align: right;\">\n",
              "      <th></th>\n",
              "      <th>PassengerId</th>\n",
              "      <th>Survived</th>\n",
              "      <th>Pclass</th>\n",
              "      <th>Name</th>\n",
              "      <th>Gender</th>\n",
              "      <th>Age</th>\n",
              "      <th>SibSp</th>\n",
              "      <th>Parch</th>\n",
              "      <th>Ticket</th>\n",
              "      <th>Fare</th>\n",
              "      <th>Cabin</th>\n",
              "      <th>Embarked</th>\n",
              "    </tr>\n",
              "  </thead>\n",
              "  <tbody>\n",
              "    <tr>\n",
              "      <th>0</th>\n",
              "      <td>1</td>\n",
              "      <td>0</td>\n",
              "      <td>3</td>\n",
              "      <td>Braund, Mr. Owen Harris</td>\n",
              "      <td>male</td>\n",
              "      <td>22.0</td>\n",
              "      <td>1</td>\n",
              "      <td>0</td>\n",
              "      <td>A/5 21171</td>\n",
              "      <td>7.2500</td>\n",
              "      <td>NaN</td>\n",
              "      <td>S</td>\n",
              "    </tr>\n",
              "    <tr>\n",
              "      <th>1</th>\n",
              "      <td>2</td>\n",
              "      <td>1</td>\n",
              "      <td>1</td>\n",
              "      <td>Cumings, Mrs. John Bradley (Florence Briggs Th...</td>\n",
              "      <td>female</td>\n",
              "      <td>38.0</td>\n",
              "      <td>1</td>\n",
              "      <td>0</td>\n",
              "      <td>PC 17599</td>\n",
              "      <td>71.2833</td>\n",
              "      <td>C85</td>\n",
              "      <td>C</td>\n",
              "    </tr>\n",
              "    <tr>\n",
              "      <th>2</th>\n",
              "      <td>3</td>\n",
              "      <td>1</td>\n",
              "      <td>3</td>\n",
              "      <td>Heikkinen, Miss. Laina</td>\n",
              "      <td>female</td>\n",
              "      <td>26.0</td>\n",
              "      <td>0</td>\n",
              "      <td>0</td>\n",
              "      <td>STON/O2. 3101282</td>\n",
              "      <td>7.9250</td>\n",
              "      <td>NaN</td>\n",
              "      <td>S</td>\n",
              "    </tr>\n",
              "    <tr>\n",
              "      <th>3</th>\n",
              "      <td>4</td>\n",
              "      <td>1</td>\n",
              "      <td>1</td>\n",
              "      <td>Futrelle, Mrs. Jacques Heath (Lily May Peel)</td>\n",
              "      <td>female</td>\n",
              "      <td>35.0</td>\n",
              "      <td>1</td>\n",
              "      <td>0</td>\n",
              "      <td>113803</td>\n",
              "      <td>53.1000</td>\n",
              "      <td>C123</td>\n",
              "      <td>S</td>\n",
              "    </tr>\n",
              "    <tr>\n",
              "      <th>4</th>\n",
              "      <td>5</td>\n",
              "      <td>0</td>\n",
              "      <td>3</td>\n",
              "      <td>Allen, Mr. William Henry</td>\n",
              "      <td>male</td>\n",
              "      <td>35.0</td>\n",
              "      <td>0</td>\n",
              "      <td>0</td>\n",
              "      <td>373450</td>\n",
              "      <td>8.0500</td>\n",
              "      <td>NaN</td>\n",
              "      <td>S</td>\n",
              "    </tr>\n",
              "    <tr>\n",
              "      <th>...</th>\n",
              "      <td>...</td>\n",
              "      <td>...</td>\n",
              "      <td>...</td>\n",
              "      <td>...</td>\n",
              "      <td>...</td>\n",
              "      <td>...</td>\n",
              "      <td>...</td>\n",
              "      <td>...</td>\n",
              "      <td>...</td>\n",
              "      <td>...</td>\n",
              "      <td>...</td>\n",
              "      <td>...</td>\n",
              "    </tr>\n",
              "    <tr>\n",
              "      <th>1304</th>\n",
              "      <td>1305</td>\n",
              "      <td>0</td>\n",
              "      <td>3</td>\n",
              "      <td>Spector, Mr. Woolf</td>\n",
              "      <td>male</td>\n",
              "      <td>NaN</td>\n",
              "      <td>0</td>\n",
              "      <td>0</td>\n",
              "      <td>A.5. 3236</td>\n",
              "      <td>8.0500</td>\n",
              "      <td>NaN</td>\n",
              "      <td>S</td>\n",
              "    </tr>\n",
              "    <tr>\n",
              "      <th>1305</th>\n",
              "      <td>1306</td>\n",
              "      <td>1</td>\n",
              "      <td>1</td>\n",
              "      <td>Oliva y Ocana, Dona. Fermina</td>\n",
              "      <td>female</td>\n",
              "      <td>39.0</td>\n",
              "      <td>0</td>\n",
              "      <td>0</td>\n",
              "      <td>PC 17758</td>\n",
              "      <td>108.9000</td>\n",
              "      <td>C105</td>\n",
              "      <td>C</td>\n",
              "    </tr>\n",
              "    <tr>\n",
              "      <th>1306</th>\n",
              "      <td>1307</td>\n",
              "      <td>0</td>\n",
              "      <td>3</td>\n",
              "      <td>Saether, Mr. Simon Sivertsen</td>\n",
              "      <td>male</td>\n",
              "      <td>38.5</td>\n",
              "      <td>0</td>\n",
              "      <td>0</td>\n",
              "      <td>SOTON/O.Q. 3101262</td>\n",
              "      <td>7.2500</td>\n",
              "      <td>NaN</td>\n",
              "      <td>S</td>\n",
              "    </tr>\n",
              "    <tr>\n",
              "      <th>1307</th>\n",
              "      <td>1308</td>\n",
              "      <td>0</td>\n",
              "      <td>3</td>\n",
              "      <td>Ware, Mr. Frederick</td>\n",
              "      <td>male</td>\n",
              "      <td>NaN</td>\n",
              "      <td>0</td>\n",
              "      <td>0</td>\n",
              "      <td>359309</td>\n",
              "      <td>8.0500</td>\n",
              "      <td>NaN</td>\n",
              "      <td>S</td>\n",
              "    </tr>\n",
              "    <tr>\n",
              "      <th>1308</th>\n",
              "      <td>1309</td>\n",
              "      <td>0</td>\n",
              "      <td>3</td>\n",
              "      <td>Peter, Master. Michael J</td>\n",
              "      <td>male</td>\n",
              "      <td>NaN</td>\n",
              "      <td>1</td>\n",
              "      <td>1</td>\n",
              "      <td>2668</td>\n",
              "      <td>22.3583</td>\n",
              "      <td>NaN</td>\n",
              "      <td>C</td>\n",
              "    </tr>\n",
              "  </tbody>\n",
              "</table>\n",
              "<p>1309 rows × 12 columns</p>\n",
              "</div>\n",
              "    <div class=\"colab-df-buttons\">\n",
              "\n",
              "  <div class=\"colab-df-container\">\n",
              "    <button class=\"colab-df-convert\" onclick=\"convertToInteractive('df-1d0722df-d4e9-4308-b959-c6140bbae6be')\"\n",
              "            title=\"Convert this dataframe to an interactive table.\"\n",
              "            style=\"display:none;\">\n",
              "\n",
              "  <svg xmlns=\"http://www.w3.org/2000/svg\" height=\"24px\" viewBox=\"0 -960 960 960\">\n",
              "    <path d=\"M120-120v-720h720v720H120Zm60-500h600v-160H180v160Zm220 220h160v-160H400v160Zm0 220h160v-160H400v160ZM180-400h160v-160H180v160Zm440 0h160v-160H620v160ZM180-180h160v-160H180v160Zm440 0h160v-160H620v160Z\"/>\n",
              "  </svg>\n",
              "    </button>\n",
              "\n",
              "  <style>\n",
              "    .colab-df-container {\n",
              "      display:flex;\n",
              "      gap: 12px;\n",
              "    }\n",
              "\n",
              "    .colab-df-convert {\n",
              "      background-color: #E8F0FE;\n",
              "      border: none;\n",
              "      border-radius: 50%;\n",
              "      cursor: pointer;\n",
              "      display: none;\n",
              "      fill: #1967D2;\n",
              "      height: 32px;\n",
              "      padding: 0 0 0 0;\n",
              "      width: 32px;\n",
              "    }\n",
              "\n",
              "    .colab-df-convert:hover {\n",
              "      background-color: #E2EBFA;\n",
              "      box-shadow: 0px 1px 2px rgba(60, 64, 67, 0.3), 0px 1px 3px 1px rgba(60, 64, 67, 0.15);\n",
              "      fill: #174EA6;\n",
              "    }\n",
              "\n",
              "    .colab-df-buttons div {\n",
              "      margin-bottom: 4px;\n",
              "    }\n",
              "\n",
              "    [theme=dark] .colab-df-convert {\n",
              "      background-color: #3B4455;\n",
              "      fill: #D2E3FC;\n",
              "    }\n",
              "\n",
              "    [theme=dark] .colab-df-convert:hover {\n",
              "      background-color: #434B5C;\n",
              "      box-shadow: 0px 1px 3px 1px rgba(0, 0, 0, 0.15);\n",
              "      filter: drop-shadow(0px 1px 2px rgba(0, 0, 0, 0.3));\n",
              "      fill: #FFFFFF;\n",
              "    }\n",
              "  </style>\n",
              "\n",
              "    <script>\n",
              "      const buttonEl =\n",
              "        document.querySelector('#df-1d0722df-d4e9-4308-b959-c6140bbae6be button.colab-df-convert');\n",
              "      buttonEl.style.display =\n",
              "        google.colab.kernel.accessAllowed ? 'block' : 'none';\n",
              "\n",
              "      async function convertToInteractive(key) {\n",
              "        const element = document.querySelector('#df-1d0722df-d4e9-4308-b959-c6140bbae6be');\n",
              "        const dataTable =\n",
              "          await google.colab.kernel.invokeFunction('convertToInteractive',\n",
              "                                                    [key], {});\n",
              "        if (!dataTable) return;\n",
              "\n",
              "        const docLinkHtml = 'Like what you see? Visit the ' +\n",
              "          '<a target=\"_blank\" href=https://colab.research.google.com/notebooks/data_table.ipynb>data table notebook</a>'\n",
              "          + ' to learn more about interactive tables.';\n",
              "        element.innerHTML = '';\n",
              "        dataTable['output_type'] = 'display_data';\n",
              "        await google.colab.output.renderOutput(dataTable, element);\n",
              "        const docLink = document.createElement('div');\n",
              "        docLink.innerHTML = docLinkHtml;\n",
              "        element.appendChild(docLink);\n",
              "      }\n",
              "    </script>\n",
              "  </div>\n",
              "\n",
              "\n",
              "<div id=\"df-f04ae234-8f17-4031-85a7-e05d614a14fd\">\n",
              "  <button class=\"colab-df-quickchart\" onclick=\"quickchart('df-f04ae234-8f17-4031-85a7-e05d614a14fd')\"\n",
              "            title=\"Suggest charts\"\n",
              "            style=\"display:none;\">\n",
              "\n",
              "<svg xmlns=\"http://www.w3.org/2000/svg\" height=\"24px\"viewBox=\"0 0 24 24\"\n",
              "     width=\"24px\">\n",
              "    <g>\n",
              "        <path d=\"M19 3H5c-1.1 0-2 .9-2 2v14c0 1.1.9 2 2 2h14c1.1 0 2-.9 2-2V5c0-1.1-.9-2-2-2zM9 17H7v-7h2v7zm4 0h-2V7h2v10zm4 0h-2v-4h2v4z\"/>\n",
              "    </g>\n",
              "</svg>\n",
              "  </button>\n",
              "\n",
              "<style>\n",
              "  .colab-df-quickchart {\n",
              "      --bg-color: #E8F0FE;\n",
              "      --fill-color: #1967D2;\n",
              "      --hover-bg-color: #E2EBFA;\n",
              "      --hover-fill-color: #174EA6;\n",
              "      --disabled-fill-color: #AAA;\n",
              "      --disabled-bg-color: #DDD;\n",
              "  }\n",
              "\n",
              "  [theme=dark] .colab-df-quickchart {\n",
              "      --bg-color: #3B4455;\n",
              "      --fill-color: #D2E3FC;\n",
              "      --hover-bg-color: #434B5C;\n",
              "      --hover-fill-color: #FFFFFF;\n",
              "      --disabled-bg-color: #3B4455;\n",
              "      --disabled-fill-color: #666;\n",
              "  }\n",
              "\n",
              "  .colab-df-quickchart {\n",
              "    background-color: var(--bg-color);\n",
              "    border: none;\n",
              "    border-radius: 50%;\n",
              "    cursor: pointer;\n",
              "    display: none;\n",
              "    fill: var(--fill-color);\n",
              "    height: 32px;\n",
              "    padding: 0;\n",
              "    width: 32px;\n",
              "  }\n",
              "\n",
              "  .colab-df-quickchart:hover {\n",
              "    background-color: var(--hover-bg-color);\n",
              "    box-shadow: 0 1px 2px rgba(60, 64, 67, 0.3), 0 1px 3px 1px rgba(60, 64, 67, 0.15);\n",
              "    fill: var(--button-hover-fill-color);\n",
              "  }\n",
              "\n",
              "  .colab-df-quickchart-complete:disabled,\n",
              "  .colab-df-quickchart-complete:disabled:hover {\n",
              "    background-color: var(--disabled-bg-color);\n",
              "    fill: var(--disabled-fill-color);\n",
              "    box-shadow: none;\n",
              "  }\n",
              "\n",
              "  .colab-df-spinner {\n",
              "    border: 2px solid var(--fill-color);\n",
              "    border-color: transparent;\n",
              "    border-bottom-color: var(--fill-color);\n",
              "    animation:\n",
              "      spin 1s steps(1) infinite;\n",
              "  }\n",
              "\n",
              "  @keyframes spin {\n",
              "    0% {\n",
              "      border-color: transparent;\n",
              "      border-bottom-color: var(--fill-color);\n",
              "      border-left-color: var(--fill-color);\n",
              "    }\n",
              "    20% {\n",
              "      border-color: transparent;\n",
              "      border-left-color: var(--fill-color);\n",
              "      border-top-color: var(--fill-color);\n",
              "    }\n",
              "    30% {\n",
              "      border-color: transparent;\n",
              "      border-left-color: var(--fill-color);\n",
              "      border-top-color: var(--fill-color);\n",
              "      border-right-color: var(--fill-color);\n",
              "    }\n",
              "    40% {\n",
              "      border-color: transparent;\n",
              "      border-right-color: var(--fill-color);\n",
              "      border-top-color: var(--fill-color);\n",
              "    }\n",
              "    60% {\n",
              "      border-color: transparent;\n",
              "      border-right-color: var(--fill-color);\n",
              "    }\n",
              "    80% {\n",
              "      border-color: transparent;\n",
              "      border-right-color: var(--fill-color);\n",
              "      border-bottom-color: var(--fill-color);\n",
              "    }\n",
              "    90% {\n",
              "      border-color: transparent;\n",
              "      border-bottom-color: var(--fill-color);\n",
              "    }\n",
              "  }\n",
              "</style>\n",
              "\n",
              "  <script>\n",
              "    async function quickchart(key) {\n",
              "      const quickchartButtonEl =\n",
              "        document.querySelector('#' + key + ' button');\n",
              "      quickchartButtonEl.disabled = true;  // To prevent multiple clicks.\n",
              "      quickchartButtonEl.classList.add('colab-df-spinner');\n",
              "      try {\n",
              "        const charts = await google.colab.kernel.invokeFunction(\n",
              "            'suggestCharts', [key], {});\n",
              "      } catch (error) {\n",
              "        console.error('Error during call to suggestCharts:', error);\n",
              "      }\n",
              "      quickchartButtonEl.classList.remove('colab-df-spinner');\n",
              "      quickchartButtonEl.classList.add('colab-df-quickchart-complete');\n",
              "    }\n",
              "    (() => {\n",
              "      let quickchartButtonEl =\n",
              "        document.querySelector('#df-f04ae234-8f17-4031-85a7-e05d614a14fd button');\n",
              "      quickchartButtonEl.style.display =\n",
              "        google.colab.kernel.accessAllowed ? 'block' : 'none';\n",
              "    })();\n",
              "  </script>\n",
              "</div>\n",
              "    </div>\n",
              "  </div>\n"
            ]
          },
          "metadata": {},
          "execution_count": 8
        }
      ]
    },
    {
      "cell_type": "code",
      "source": [
        "# 데이터의 전반적인 정보 확인\n",
        "'''\n",
        "## 컬럼 정보\n",
        "Survived : 생존 여부\n",
        "Pclass : Passenger Class, 승객 등급\n",
        "Name : 승객 이름\n",
        "Gender : 승객 성별(female:0, male:1) <-- 알파벳순\n",
        "Age : 승객 나이\n",
        "Sibsp : 탑승 한 형제/배우자 수\n",
        "Parch : 탑승 한 부모/자녀 수\n",
        "Ticket : 티켓 번호\n",
        "Fare : 승객 지불 요금\n",
        "Cabin : 선실 이름\n",
        "Embarked : 승선항 (C = 쉘 부르그, Q = 퀸즈타운, S = 사우스 햄튼)\n",
        "'''\n",
        "df_titanic.info()"
      ],
      "metadata": {
        "colab": {
          "base_uri": "https://localhost:8080/"
        },
        "id": "U7G8MKZFuGtf",
        "outputId": "5426fc8b-8134-40ee-cc3f-e82b8bc9ae25"
      },
      "execution_count": null,
      "outputs": [
        {
          "output_type": "stream",
          "name": "stdout",
          "text": [
            "<class 'pandas.core.frame.DataFrame'>\n",
            "RangeIndex: 1309 entries, 0 to 1308\n",
            "Data columns (total 12 columns):\n",
            " #   Column       Non-Null Count  Dtype  \n",
            "---  ------       --------------  -----  \n",
            " 0   PassengerId  1309 non-null   int64  \n",
            " 1   Survived     1309 non-null   int64  \n",
            " 2   Pclass       1309 non-null   int64  \n",
            " 3   Name         1309 non-null   object \n",
            " 4   Gender       1309 non-null   object \n",
            " 5   Age          1046 non-null   float64\n",
            " 6   SibSp        1309 non-null   int64  \n",
            " 7   Parch        1309 non-null   int64  \n",
            " 8   Ticket       1309 non-null   object \n",
            " 9   Fare         1308 non-null   float64\n",
            " 10  Cabin        295 non-null    object \n",
            " 11  Embarked     1307 non-null   object \n",
            "dtypes: float64(2), int64(5), object(5)\n",
            "memory usage: 122.8+ KB\n"
          ]
        }
      ]
    },
    {
      "cell_type": "markdown",
      "source": [
        "##■ 데이터 전처리"
      ],
      "metadata": {
        "id": "8AvqsB-vwJNX"
      }
    },
    {
      "cell_type": "markdown",
      "source": [
        "###→ 누락 데이터 처리"
      ],
      "metadata": {
        "id": "ZEu4gUQ7wLdd"
      }
    },
    {
      "cell_type": "code",
      "source": [
        "# 각 컬럼별 누락 데이터 확인 --> isnull().sum()\n",
        "\n",
        "# isnull() --> 각 컬럼별 데이터의 누락 여부를 확인\n",
        "df_null = df_titanic.isnull()\n",
        "print(f'{df_null}')\n",
        "\n",
        "# 컬럼별 누락데이터의 수 확인\n",
        "num_nulls = df_null.sum()\n",
        "print(f'각 컬럼별 누락 데이터의 수 :\\n{num_nulls}\\n')"
      ],
      "metadata": {
        "colab": {
          "base_uri": "https://localhost:8080/"
        },
        "id": "gehjqdJOwSUd",
        "outputId": "bb2cf7d2-f89d-4c7e-a792-88fdd520b6fe"
      },
      "execution_count": null,
      "outputs": [
        {
          "output_type": "stream",
          "name": "stdout",
          "text": [
            "      PassengerId  Survived  Pclass   Name  Gender    Age  SibSp  Parch  \\\n",
            "0           False     False   False  False   False  False  False  False   \n",
            "1           False     False   False  False   False  False  False  False   \n",
            "2           False     False   False  False   False  False  False  False   \n",
            "3           False     False   False  False   False  False  False  False   \n",
            "4           False     False   False  False   False  False  False  False   \n",
            "...           ...       ...     ...    ...     ...    ...    ...    ...   \n",
            "1304        False     False   False  False   False   True  False  False   \n",
            "1305        False     False   False  False   False  False  False  False   \n",
            "1306        False     False   False  False   False  False  False  False   \n",
            "1307        False     False   False  False   False   True  False  False   \n",
            "1308        False     False   False  False   False   True  False  False   \n",
            "\n",
            "      Ticket   Fare  Cabin  Embarked  \n",
            "0      False  False   True     False  \n",
            "1      False  False  False     False  \n",
            "2      False  False   True     False  \n",
            "3      False  False  False     False  \n",
            "4      False  False   True     False  \n",
            "...      ...    ...    ...       ...  \n",
            "1304   False  False   True     False  \n",
            "1305   False  False  False     False  \n",
            "1306   False  False   True     False  \n",
            "1307   False  False   True     False  \n",
            "1308   False  False   True     False  \n",
            "\n",
            "[1309 rows x 12 columns]\n",
            "각 컬럼별 누락 데이터의 수 :\n",
            "PassengerId       0\n",
            "Survived          0\n",
            "Pclass            0\n",
            "Name              0\n",
            "Gender            0\n",
            "Age             263\n",
            "SibSp             0\n",
            "Parch             0\n",
            "Ticket            0\n",
            "Fare              1\n",
            "Cabin          1014\n",
            "Embarked          2\n",
            "dtype: int64\n",
            "\n"
          ]
        }
      ]
    },
    {
      "cell_type": "markdown",
      "source": [
        "####ㄴ Cabin 컬럼"
      ],
      "metadata": {
        "id": "-OBaO-RexjOs"
      }
    },
    {
      "cell_type": "code",
      "source": [
        "# Cabin 컬럼 제거 --> drop(columns=[col]) : 누락데이터가 너무 많고, 채우기가 힘들때는 제거\n",
        "df_cleaned = df_titanic.drop(columns=['Cabin'])\n",
        "# 결과 확인하기\n",
        "print(df_cleaned)"
      ],
      "metadata": {
        "colab": {
          "base_uri": "https://localhost:8080/"
        },
        "id": "jAZ3mXODxn5_",
        "outputId": "33d1c6fd-d8dd-4a5a-a18e-6b602520648a"
      },
      "execution_count": null,
      "outputs": [
        {
          "output_type": "stream",
          "name": "stdout",
          "text": [
            "      PassengerId  Survived  Pclass  \\\n",
            "0               1         0       3   \n",
            "1               2         1       1   \n",
            "2               3         1       3   \n",
            "3               4         1       1   \n",
            "4               5         0       3   \n",
            "...           ...       ...     ...   \n",
            "1304         1305         0       3   \n",
            "1305         1306         1       1   \n",
            "1306         1307         0       3   \n",
            "1307         1308         0       3   \n",
            "1308         1309         0       3   \n",
            "\n",
            "                                                   Name  Gender   Age  SibSp  \\\n",
            "0                               Braund, Mr. Owen Harris    male  22.0      1   \n",
            "1     Cumings, Mrs. John Bradley (Florence Briggs Th...  female  38.0      1   \n",
            "2                                Heikkinen, Miss. Laina  female  26.0      0   \n",
            "3          Futrelle, Mrs. Jacques Heath (Lily May Peel)  female  35.0      1   \n",
            "4                              Allen, Mr. William Henry    male  35.0      0   \n",
            "...                                                 ...     ...   ...    ...   \n",
            "1304                                 Spector, Mr. Woolf    male   NaN      0   \n",
            "1305                       Oliva y Ocana, Dona. Fermina  female  39.0      0   \n",
            "1306                       Saether, Mr. Simon Sivertsen    male  38.5      0   \n",
            "1307                                Ware, Mr. Frederick    male   NaN      0   \n",
            "1308                           Peter, Master. Michael J    male   NaN      1   \n",
            "\n",
            "      Parch              Ticket      Fare Embarked  \n",
            "0         0           A/5 21171    7.2500        S  \n",
            "1         0            PC 17599   71.2833        C  \n",
            "2         0    STON/O2. 3101282    7.9250        S  \n",
            "3         0              113803   53.1000        S  \n",
            "4         0              373450    8.0500        S  \n",
            "...     ...                 ...       ...      ...  \n",
            "1304      0           A.5. 3236    8.0500        S  \n",
            "1305      0            PC 17758  108.9000        C  \n",
            "1306      0  SOTON/O.Q. 3101262    7.2500        S  \n",
            "1307      0              359309    8.0500        S  \n",
            "1308      1                2668   22.3583        C  \n",
            "\n",
            "[1309 rows x 11 columns]\n"
          ]
        }
      ]
    },
    {
      "cell_type": "markdown",
      "source": [
        "####ㄴ Age 컬럼"
      ],
      "metadata": {
        "id": "nhDwjpnMy1H_"
      }
    },
    {
      "cell_type": "code",
      "source": [
        "# Age는 중요한 정보이기 때문에 삭제하면 안좋다.\n",
        "# Age 컬럼 --> describe() --> 요약 통계량 구하기 : 평균, 중간값(50%)를 알 수 있다.\n",
        "print(df_cleaned.Age.describe())"
      ],
      "metadata": {
        "colab": {
          "base_uri": "https://localhost:8080/"
        },
        "id": "LpqrYOfny26s",
        "outputId": "99efb1e4-5f2d-44c3-950c-837461336f18"
      },
      "execution_count": null,
      "outputs": [
        {
          "output_type": "stream",
          "name": "stdout",
          "text": [
            "count    1046.000000\n",
            "mean       29.881138\n",
            "std        14.413493\n",
            "min         0.170000\n",
            "25%        21.000000\n",
            "50%        28.000000\n",
            "75%        39.000000\n",
            "max        80.000000\n",
            "Name: Age, dtype: float64\n"
          ]
        }
      ]
    },
    {
      "cell_type": "code",
      "source": [
        "# 나이별 빈도수 / 비율 구하기 --> value_counts(normalize=True)\n",
        "\n",
        "# 출력되는 행의 수 --> 전체 행 출력\n",
        "pd.options.display.max_rows=None\n",
        "\n",
        "# 출력되는 행의 수 --> 상위 5, 하위 5개 출력(기본값)\n",
        "pd.options.display.max_rows=10\n",
        "\n",
        "# value_counts() 실행\n",
        "counts = df_cleaned.Age.value_counts().head(10)\n",
        "print(f'{counts}\\n')\n",
        "\n",
        "ratio = df_cleaned.Age.value_counts(normalize=True).head(10)\n",
        "print(f'나이 컬럼의 나이별 비율 :\\n{ratio}\\n')"
      ],
      "metadata": {
        "colab": {
          "base_uri": "https://localhost:8080/"
        },
        "id": "12zZ2Bap0JiL",
        "outputId": "17d0d67c-e13c-4d6b-da3e-10b3c448d42f"
      },
      "execution_count": null,
      "outputs": [
        {
          "output_type": "stream",
          "name": "stdout",
          "text": [
            "24.0    47\n",
            "22.0    43\n",
            "21.0    41\n",
            "30.0    40\n",
            "18.0    39\n",
            "25.0    34\n",
            "28.0    32\n",
            "36.0    31\n",
            "29.0    30\n",
            "27.0    30\n",
            "Name: Age, dtype: int64\n",
            "\n",
            "나이 컬럼의 나이별 비율 :\n",
            "24.0    0.044933\n",
            "22.0    0.041109\n",
            "21.0    0.039197\n",
            "30.0    0.038241\n",
            "18.0    0.037285\n",
            "25.0    0.032505\n",
            "28.0    0.030593\n",
            "36.0    0.029637\n",
            "29.0    0.028681\n",
            "27.0    0.028681\n",
            "Name: Age, dtype: float64\n",
            "\n"
          ]
        }
      ]
    },
    {
      "cell_type": "code",
      "source": [
        "# Age 컬럼 --> 누락 데이터 --> 중간값(median)으로 대체\n",
        "age_m = df_cleaned.Age.median()\n",
        "df_cleaned.loc[:,'Age'].fillna(age_m,inplace=True)\n",
        "\n",
        "# 중간값으로 대체후 누락데이터의 수 확인\n",
        "print(df_cleaned.Age.isnull().sum())"
      ],
      "metadata": {
        "colab": {
          "base_uri": "https://localhost:8080/"
        },
        "id": "cCud02k9HEVr",
        "outputId": "87ba2fbe-2795-4a55-a305-c9db2608412d"
      },
      "execution_count": null,
      "outputs": [
        {
          "output_type": "stream",
          "name": "stdout",
          "text": [
            "0\n"
          ]
        }
      ]
    },
    {
      "cell_type": "markdown",
      "source": [
        "#####: Binning"
      ],
      "metadata": {
        "id": "0tNb4GVPIbGS"
      }
    },
    {
      "cell_type": "code",
      "source": [
        "# Age 컬럼 --> 8단계 범주형 데이터로 변환\n",
        "\n",
        "# pd.cut() --> 매개변수 설정\n",
        "x = df_cleaned.loc[:,'Age']\n",
        "bins = 8\n",
        "labels=[0,1,2,3,4,5,6,7]\n",
        "\n",
        "# 데이터 변환\n",
        "df_cleaned.loc[:,'Age2'] = pd.cut(x=x,bins=bins,labels=labels)\n",
        "\n",
        "# 결과 확인하기\n",
        "print(f'전체 데이터 확인 :\\n{df_cleaned}')"
      ],
      "metadata": {
        "colab": {
          "base_uri": "https://localhost:8080/"
        },
        "id": "62EfyWHfIet8",
        "outputId": "62ae298d-555d-4d17-bfc6-bd9b48f710ec"
      },
      "execution_count": null,
      "outputs": [
        {
          "output_type": "stream",
          "name": "stdout",
          "text": [
            "전체 데이터 확인 :\n",
            "      PassengerId  Survived  Pclass  \\\n",
            "0               1         0       3   \n",
            "1               2         1       1   \n",
            "2               3         1       3   \n",
            "3               4         1       1   \n",
            "4               5         0       3   \n",
            "...           ...       ...     ...   \n",
            "1304         1305         0       3   \n",
            "1305         1306         1       1   \n",
            "1306         1307         0       3   \n",
            "1307         1308         0       3   \n",
            "1308         1309         0       3   \n",
            "\n",
            "                                                   Name  Gender   Age  SibSp  \\\n",
            "0                               Braund, Mr. Owen Harris    male  22.0      1   \n",
            "1     Cumings, Mrs. John Bradley (Florence Briggs Th...  female  38.0      1   \n",
            "2                                Heikkinen, Miss. Laina  female  26.0      0   \n",
            "3          Futrelle, Mrs. Jacques Heath (Lily May Peel)  female  35.0      1   \n",
            "4                              Allen, Mr. William Henry    male  35.0      0   \n",
            "...                                                 ...     ...   ...    ...   \n",
            "1304                                 Spector, Mr. Woolf    male  28.0      0   \n",
            "1305                       Oliva y Ocana, Dona. Fermina  female  39.0      0   \n",
            "1306                       Saether, Mr. Simon Sivertsen    male  38.5      0   \n",
            "1307                                Ware, Mr. Frederick    male  28.0      0   \n",
            "1308                           Peter, Master. Michael J    male  28.0      1   \n",
            "\n",
            "      Parch              Ticket      Fare Embarked Age2  \n",
            "0         0           A/5 21171    7.2500        S    2  \n",
            "1         0            PC 17599   71.2833        C    3  \n",
            "2         0    STON/O2. 3101282    7.9250        S    2  \n",
            "3         0              113803   53.1000        S    3  \n",
            "4         0              373450    8.0500        S    3  \n",
            "...     ...                 ...       ...      ...  ...  \n",
            "1304      0           A.5. 3236    8.0500        S    2  \n",
            "1305      0            PC 17758  108.9000        C    3  \n",
            "1306      0  SOTON/O.Q. 3101262    7.2500        S    3  \n",
            "1307      0              359309    8.0500        S    2  \n",
            "1308      1                2668   22.3583        C    2  \n",
            "\n",
            "[1309 rows x 12 columns]\n"
          ]
        }
      ]
    },
    {
      "cell_type": "markdown",
      "source": [
        "####ㄴEmbarked 컬럼"
      ],
      "metadata": {
        "id": "7Mx8HrL6NqkI"
      }
    },
    {
      "cell_type": "code",
      "source": [
        "# 승선 항구별 빈도수 / 비율\n",
        "\n",
        "# 빈도수 추출\n",
        "counts = df_cleaned.loc[:,'Embarked'].value_counts()\n",
        "print(f'승선 항구별 빈도수 :\\n{counts}\\n')\n",
        "\n",
        "# 비율 추출\n",
        "ratio = df_cleaned.loc[:,'Embarked'].value_counts(normalize=True)\n",
        "print(f'승선 항구별 비율 :\\n{ratio}\\n')\n",
        "\n",
        "# 99.8%중의 70%의 확률로 S이므로, S로 채워도 괜찮을것."
      ],
      "metadata": {
        "colab": {
          "base_uri": "https://localhost:8080/"
        },
        "id": "ijrCwMPkNy_J",
        "outputId": "e9a08ef1-57e7-42f4-c2a2-39ddf31f526c"
      },
      "execution_count": null,
      "outputs": [
        {
          "output_type": "stream",
          "name": "stdout",
          "text": [
            "승선 항구별 빈도수 :\n",
            "S    914\n",
            "C    270\n",
            "Q    123\n",
            "Name: Embarked, dtype: int64\n",
            "\n",
            "승선 항구별 비율 :\n",
            "S    0.699311\n",
            "C    0.206580\n",
            "Q    0.094109\n",
            "Name: Embarked, dtype: float64\n",
            "\n"
          ]
        }
      ]
    },
    {
      "cell_type": "code",
      "source": [
        "# 누락데이터 처리 --> 최빈값으로 채우기\n",
        "df_cleaned.Embarked.fillna('S', inplace=True)\n",
        "\n",
        "# 결과확인\n",
        "num_nulls = df_cleaned.Embarked.isnull().sum()\n",
        "print(f'누락데이터 처리후 Embarked 컬럼의 누락 데이터 수 = {num_nulls}\\n')"
      ],
      "metadata": {
        "colab": {
          "base_uri": "https://localhost:8080/"
        },
        "id": "fUrHg6alPQKG",
        "outputId": "388d6b9c-510c-448c-aba4-3648342a7413"
      },
      "execution_count": null,
      "outputs": [
        {
          "output_type": "stream",
          "name": "stdout",
          "text": [
            "누락데이터 처리후 Embarked 컬럼의 누락 데이터 수 = 0\n",
            "\n"
          ]
        }
      ]
    },
    {
      "cell_type": "markdown",
      "source": [
        "####ㄴFare 컬럼"
      ],
      "metadata": {
        "id": "hROpAIuiTkAy"
      }
    },
    {
      "cell_type": "code",
      "source": [
        "# Fare 컬럼에서 누락 데이터 확인 --> 불리언배열 생성 --> loc 인덱서+불리언 인덱싱\n",
        "\n",
        "# 누락여부 --> 불리언 배열\n",
        "cond1 = df_cleaned.loc[:,'Fare'].isnull() == True\n",
        "\n",
        "# 불리언 배열 --> loc 인덱서 + 불리언 인덱싱\n",
        "null = df_cleaned.loc[cond1,:]\n",
        "print(null)"
      ],
      "metadata": {
        "colab": {
          "base_uri": "https://localhost:8080/"
        },
        "id": "_QfWcRWTTpWF",
        "outputId": "4b71506a-cb07-4923-f85b-4100ec36a206"
      },
      "execution_count": null,
      "outputs": [
        {
          "output_type": "stream",
          "name": "stdout",
          "text": [
            "      PassengerId  Survived  Pclass                Name Gender   Age  SibSp  \\\n",
            "1043         1044         0       3  Storey, Mr. Thomas   male  60.5      0   \n",
            "\n",
            "      Parch Ticket  Fare Embarked Age2  \n",
            "1043      0   3701   NaN        S    6  \n"
          ]
        }
      ]
    },
    {
      "cell_type": "code",
      "source": [
        "# 상관관계 분석\n",
        "# df_cleaned.Pclass.value_counts()\n",
        "# Pclass 컬럼은 순위형(순서가 의미를 가짐)이므로 연속형+순위형 상관관계계수(스피어만)을 사용\n",
        "print(f'상관관계 분석 :\\n{df_cleaned.corr(method=\"spearman\")}\\n')"
      ],
      "metadata": {
        "colab": {
          "base_uri": "https://localhost:8080/"
        },
        "id": "ze-Ndv7XXQoG",
        "outputId": "0d9068ca-1a65-4835-e3e9-07deb4424faf"
      },
      "execution_count": null,
      "outputs": [
        {
          "output_type": "stream",
          "name": "stdout",
          "text": [
            "상관관계 분석 :\n",
            "             PassengerId  Survived    Pclass       Age     SibSp     Parch  \\\n",
            "PassengerId     1.000000 -0.020370 -0.039921  0.016007 -0.032295 -0.006191   \n",
            "Survived       -0.020370  1.000000 -0.262977 -0.028978  0.108273  0.165864   \n",
            "Pclass         -0.039921 -0.262977  1.000000 -0.345030 -0.066679 -0.028752   \n",
            "Age             0.016007 -0.028978 -0.345030  1.000000 -0.102364 -0.182357   \n",
            "SibSp          -0.032295  0.108273 -0.066679 -0.102364  1.000000  0.438373   \n",
            "Parch          -0.006191  0.165864 -0.028752 -0.182357  0.438373  1.000000   \n",
            "Fare           -0.003583  0.285094 -0.709019  0.173287  0.445566  0.400301   \n",
            "\n",
            "                 Fare  \n",
            "PassengerId -0.003583  \n",
            "Survived     0.285094  \n",
            "Pclass      -0.709019  \n",
            "Age          0.173287  \n",
            "SibSp        0.445566  \n",
            "Parch        0.400301  \n",
            "Fare         1.000000  \n",
            "\n"
          ]
        },
        {
          "output_type": "stream",
          "name": "stderr",
          "text": [
            "<ipython-input-25-87509314fb85>:4: FutureWarning: The default value of numeric_only in DataFrame.corr is deprecated. In a future version, it will default to False. Select only valid columns or specify the value of numeric_only to silence this warning.\n",
            "  print(f'상관관계 분석 :\\n{df_cleaned.corr(method=\"spearman\")}\\n')\n"
          ]
        }
      ]
    },
    {
      "cell_type": "code",
      "source": [
        "# 승객 등급별 요금의 분포 시각화\n",
        "sns.kdeplot(data=df_cleaned,x='Fare',hue='Pclass')\n",
        "plt.show()"
      ],
      "metadata": {
        "colab": {
          "base_uri": "https://localhost:8080/",
          "height": 449
        },
        "id": "kfrT3ngmb6kT",
        "outputId": "e9c88b33-56b9-433d-ed86-37c5fd16b409"
      },
      "execution_count": null,
      "outputs": [
        {
          "output_type": "display_data",
          "data": {
            "text/plain": [
              "<Figure size 640x480 with 1 Axes>"
            ],
            "image/png": "[encoded data removed]"
          },
          "metadata": {}
        }
      ]
    },
    {
      "cell_type": "code",
      "source": [
        "# 3등석 승객의 요금 추출\n",
        "\n",
        "# 행 : Pclass==3을 만족하는 행, 열 : 'Fare'\n",
        "cond2 = (df_cleaned.loc[:,'Pclass'] == 3)\n",
        "cond3 = (df_cleaned.loc[:,'Embarked'] == 'S')\n",
        "\n",
        "s_Fare = df_cleaned.loc[cond2 & cond3, 'Fare'].value_counts()\n",
        "s_Fare_ratio = df_cleaned.loc[cond2 & cond3, 'Fare'].value_counts(normalize=True)\n",
        "\n",
        "# 요약 통계량 추출\n",
        "print(f'3등석 요금의 요약통계량 : \\n{s_Fare.describe()}\\n')\n",
        "print(f'3등석 요금 : \\n{s_Fare}\\n')\n",
        "print(f'{s_Fare_ratio}\\n')"
      ],
      "metadata": {
        "colab": {
          "base_uri": "https://localhost:8080/"
        },
        "id": "NECSI9h5f6_I",
        "outputId": "e2cd7e5b-387d-4d49-fdcc-6898c52e9bce"
      },
      "execution_count": null,
      "outputs": [
        {
          "output_type": "stream",
          "name": "stdout",
          "text": [
            "3등석 요금의 요약통계량 : \n",
            "count    97.000000\n",
            "mean      5.092784\n",
            "std       8.433666\n",
            "min       1.000000\n",
            "25%       1.000000\n",
            "50%       2.000000\n",
            "75%       5.000000\n",
            "max      60.000000\n",
            "Name: Fare, dtype: float64\n",
            "\n",
            "3등석 요금 : \n",
            "8.0500     60\n",
            "7.8958     43\n",
            "7.7750     26\n",
            "7.9250     23\n",
            "7.8542     21\n",
            "           ..\n",
            "9.8417      1\n",
            "10.1708     1\n",
            "9.4833      1\n",
            "8.3625      1\n",
            "7.8792      1\n",
            "Name: Fare, Length: 97, dtype: int64\n",
            "\n",
            "8.0500     0.121457\n",
            "7.8958     0.087045\n",
            "7.7750     0.052632\n",
            "7.9250     0.046559\n",
            "7.8542     0.042510\n",
            "             ...   \n",
            "9.8417     0.002024\n",
            "10.1708    0.002024\n",
            "9.4833     0.002024\n",
            "8.3625     0.002024\n",
            "7.8792     0.002024\n",
            "Name: Fare, Length: 97, dtype: float64\n",
            "\n"
          ]
        }
      ]
    },
    {
      "cell_type": "code",
      "source": [
        "# 3등급 요금의 중간값 추출\n",
        "price = f'{df_cleaned.loc[cond2 & cond3, \"Fare\"].median():0.4f}'\n",
        "print(price)\n",
        "# df_cleaned.loc[df_cleaned.Fare.isnull(),:]\n",
        "# df_cleaned.loc[df_cleaned.index == 1043,:]"
      ],
      "metadata": {
        "colab": {
          "base_uri": "https://localhost:8080/"
        },
        "id": "7MiFn2V3lFYL",
        "outputId": "8bc313bb-0d0d-4f5e-fead-442992fae7ba"
      },
      "execution_count": null,
      "outputs": [
        {
          "output_type": "stream",
          "name": "stdout",
          "text": [
            "8.0500\n"
          ]
        }
      ]
    },
    {
      "cell_type": "code",
      "source": [
        "# df_cleaned.Fare 컬럼에서 누락데이터 추가\n",
        "df_cleaned.Fare.fillna(price,inplace=True)\n",
        "\n",
        "# 결과 확인 --> index=1043 데이터 추출\n",
        "cond4 = df_cleaned.index == 1043\n",
        "data = df_cleaned.iloc[1043,:]\n",
        "print(data)"
      ],
      "metadata": {
        "colab": {
          "base_uri": "https://localhost:8080/"
        },
        "id": "ZLGLrz7Elcny",
        "outputId": "bcb80c8f-c743-4206-f208-bdd28c3d4880"
      },
      "execution_count": null,
      "outputs": [
        {
          "output_type": "stream",
          "name": "stdout",
          "text": [
            "PassengerId                  1044\n",
            "Survived                        0\n",
            "Pclass                          3\n",
            "Name           Storey, Mr. Thomas\n",
            "Gender                       male\n",
            "                      ...        \n",
            "Parch                           0\n",
            "Ticket                       3701\n",
            "Fare                       8.0500\n",
            "Embarked                        S\n",
            "Age2                            6\n",
            "Name: 1043, Length: 12, dtype: object\n"
          ]
        }
      ]
    },
    {
      "cell_type": "markdown",
      "source": [
        "###→ Feature Engineering"
      ],
      "metadata": {
        "id": "H1yqZzxDm6xB"
      }
    },
    {
      "cell_type": "markdown",
      "source": [
        "#####ㄴ name 컬럼 세분화"
      ],
      "metadata": {
        "id": "9_xDT6X8oj-Q"
      }
    },
    {
      "cell_type": "code",
      "source": [
        "# name컬럼에서 호칭을 추출하는 방법\n",
        "'''\n",
        "# 이름의 구성 : 성, 호칭. 이름\n",
        "'''\n",
        "# name 컬럼의 값 확인하기\n",
        "print(df_cleaned.Name)"
      ],
      "metadata": {
        "colab": {
          "base_uri": "https://localhost:8080/"
        },
        "id": "kQFlvHsmlsC6",
        "outputId": "a2879158-8194-43fe-8836-4a5c6d28ec42"
      },
      "execution_count": null,
      "outputs": [
        {
          "output_type": "stream",
          "name": "stdout",
          "text": [
            "0                                 Braund, Mr. Owen Harris\n",
            "1       Cumings, Mrs. John Bradley (Florence Briggs Th...\n",
            "2                                  Heikkinen, Miss. Laina\n",
            "3            Futrelle, Mrs. Jacques Heath (Lily May Peel)\n",
            "4                                Allen, Mr. William Henry\n",
            "                              ...                        \n",
            "1304                                   Spector, Mr. Woolf\n",
            "1305                         Oliva y Ocana, Dona. Fermina\n",
            "1306                         Saether, Mr. Simon Sivertsen\n",
            "1307                                  Ware, Mr. Frederick\n",
            "1308                             Peter, Master. Michael J\n",
            "Name: Name, Length: 1309, dtype: object\n"
          ]
        }
      ]
    },
    {
      "cell_type": "code",
      "source": [
        "# '호칭' 추출 --> split() 함수\n",
        "\"\"\"\n",
        "### split() 함수\n",
        "1. 기본 기능 : 기준에 따라 문자열 분할(기준의 기본 설정 : 공백)\n",
        "2. 문법 : 문자열.split('기준')\n",
        "3, 예시)\n",
        "   name = 'Braund, Mr. Owen Harris'\n",
        "   name.split(',')\n",
        "\"\"\"\n",
        "# test_name = df_cleaned.loc[:,'Name'].iloc[0]\n",
        "# print(test_name)\n",
        "\n",
        "# print(test_name.split(', ')[1].split('. ')[0])\n",
        "\n",
        "df_split = df_cleaned.loc[:,'Name'].str.split(', ').str[1].str.split('. ').str[0]\n",
        "# print(df_split)\n",
        "\n",
        "pd.options.display.max_rows=None\n",
        "print(df_split.value_counts())"
      ],
      "metadata": {
        "colab": {
          "base_uri": "https://localhost:8080/"
        },
        "id": "Q-RQGXffp7vo",
        "outputId": "821fccf9-acc7-4782-850b-1a965e4115f6"
      },
      "execution_count": null,
      "outputs": [
        {
          "output_type": "stream",
          "name": "stdout",
          "text": [
            "Mr          757\n",
            "Miss        260\n",
            "Mrs         197\n",
            "Master       61\n",
            "Rev           8\n",
            "Dr            8\n",
            "Col           4\n",
            "Mlle          2\n",
            "Major         2\n",
            "Ms            2\n",
            "Lady          1\n",
            "Sir           1\n",
            "Mme           1\n",
            "Don           1\n",
            "Capt          1\n",
            "th            1\n",
            "Jonkheer      1\n",
            "Dona          1\n",
            "Name: Name, dtype: int64\n"
          ]
        }
      ]
    },
    {
      "cell_type": "code",
      "source": [
        "# '호칭' 추출 --> split() 함수\n",
        "\"\"\"\n",
        "### split() 함수\n",
        "1. 기본 기능 : 기준에 따라 문자열 분할(기준의 기본 설정 : 공백)\n",
        "2. 문법 : 문자열.split('기준')\n",
        "3, 예시)\n",
        "   name = 'Braund, Mr. Owen Harris'\n",
        "   name.split(',')\n",
        "\"\"\"\n",
        "test_name = df_cleaned.loc[:,'Name'].iloc[0]\n",
        "print(test_name)\n",
        "\n",
        "# 첫번째 분할 --> 기준\n",
        "result1 = test_name.split(',')\n",
        "print(f'첫번째 분할의 결과 : {result1}\\n')\n",
        "\n",
        "# '성'을 제외한 나머지 부분 추출 --> test_name.split(',')[1]\n",
        "print(f'\\'성\\'을 제외한 나머지 부분 : {test_name.split(\",\")[1]}\\n')\n",
        "\n",
        "# 나머지 부분 --> '호칭' 추출\n",
        "result2 = test_name.split(',')[1].split('.')\n",
        "print(f'두번째 분할의 결과 : {result2}\\n')\n",
        "\n",
        "title = test_name.split(\",\")[1].split('.')[0]\n",
        "print(f'추출한 호칭 확인 : {title}\\n')"
      ],
      "metadata": {
        "colab": {
          "base_uri": "https://localhost:8080/"
        },
        "id": "jUbrCoVsNR97",
        "outputId": "32d35d75-b30f-4e3f-b5ba-990c493e8b9b"
      },
      "execution_count": null,
      "outputs": [
        {
          "output_type": "stream",
          "name": "stdout",
          "text": [
            "Braund, Mr. Owen Harris\n",
            "첫번째 분할의 결과 : ['Braund', ' Mr. Owen Harris']\n",
            "\n",
            "'성'을 제외한 나머지 부분 :  Mr. Owen Harris\n",
            "\n",
            "두번째 분할의 결과 : [' Mr', ' Owen Harris']\n",
            "\n",
            "추출한 호칭 확인 :  Mr\n",
            "\n"
          ]
        }
      ]
    },
    {
      "cell_type": "code",
      "source": [
        "# 문자열의 앞/뒤 공백 제거 --> split() 함수\n",
        "\"\"\"\n",
        "### strip() 함수\n",
        "1. 기본 기능 : 문자열의 시작과 끝에 있는 공백과 줄바꿈 기호 제거\n",
        "2. 예시)\n",
        "   string = '\\n Hello world, Python! \\n\"\n",
        "   new_string = string.strip()\n",
        "\"\"\"\n",
        "\n",
        "# 예시에 대한 실습\n",
        "str = '\\n Hello world, Python! \\n'\n",
        "print(f'strip 함수 사용전 문자열 확인 : {str}')\n",
        "print('-'*80)\n",
        "result = str.strip()\n",
        "print(f'strip 함수 사용 후 문자열 확인 : {result}')\n",
        "print('-'*80)"
      ],
      "metadata": {
        "colab": {
          "base_uri": "https://localhost:8080/"
        },
        "id": "4vEtMllKRIxQ",
        "outputId": "d1df1ffc-8b4b-4900-c516-8a08e4da2b08"
      },
      "execution_count": null,
      "outputs": [
        {
          "output_type": "stream",
          "name": "stdout",
          "text": [
            "strip 함수 사용전 문자열 확인 : \n",
            " Hello world, Python! \n",
            "\n",
            "--------------------------------------------------------------------------------\n",
            "strip 함수 사용 후 문자열 확인 : Hello world, Python!\n",
            "--------------------------------------------------------------------------------\n"
          ]
        }
      ]
    },
    {
      "cell_type": "code",
      "source": [
        "# 추출된 호칭에 strip 함수 적용\n",
        "result = title.strip()\n",
        "print(result)"
      ],
      "metadata": {
        "colab": {
          "base_uri": "https://localhost:8080/"
        },
        "id": "T-5Jkc5NSkRe",
        "outputId": "60608c90-4337-4fbf-b51e-1dcf22556858"
      },
      "execution_count": null,
      "outputs": [
        {
          "output_type": "stream",
          "name": "stdout",
          "text": [
            "Mr\n"
          ]
        }
      ]
    },
    {
      "cell_type": "code",
      "source": [
        "# Name 컬럼의 호칭 추출함수 정의\n",
        "def extract_title(name):\n",
        "    #','로 split --> 두번째 성분원소 선택 --> '.'로 split --> 첫번째 성분원소 선택 --> strip\n",
        "    title = name.split(',')[1].split('.')[0].strip()\n",
        "    return title"
      ],
      "metadata": {
        "id": "md86ayDxS-j2"
      },
      "execution_count": null,
      "outputs": []
    },
    {
      "cell_type": "code",
      "source": [
        "# Name 컬럼으로부터 호칭을 추출하여 새로운 컬럼 생성하기 --> 파생 변수 생성\n",
        "'''\n",
        "# 중간 호칭\n",
        "  1) 'Rev', 'Col', 'Major', 'Dr', 'Capt', 'Sir' : 직위 표현\n",
        "  2) 'Ms', 'Mme', 'Mrs', 'Dona' : 여성 표현\n",
        "  3) 'Miss', 'Mlle', 'Lady' : 젊은 여성 표현\n",
        "  4) 'Mr', 'Don' : 남성 표현\n",
        "  5) 'Master' : 주로 청소년 이하 결혼하지 않은 남성\n",
        "  6) 'Jonkheer', 'the Countess' : 귀족 표현\n",
        "'''\n",
        "\n",
        "# Name 컬럼 --> extract_title 적용 --> 새로운 컬럼 생성\n",
        "# data = df_cleaned.Name.apply(extract_title)\n",
        "data = df_cleaned.Name.apply(lambda name:name.split(',')[1].split('.')[0].strip())\n",
        "# data = df_cleaned.Name.apply(lambda x:extract_title(x))\n",
        "df_cleaned.loc[:,'title'] = data\n",
        "pd.options.display.max_rows=10\n",
        "print(df_cleaned)"
      ],
      "metadata": {
        "colab": {
          "base_uri": "https://localhost:8080/"
        },
        "id": "m_C6lqZaULNt",
        "outputId": "08b47705-e3dc-44f8-8030-5a4d68a6a8f4"
      },
      "execution_count": null,
      "outputs": [
        {
          "output_type": "stream",
          "name": "stdout",
          "text": [
            "      PassengerId  Survived  Pclass  \\\n",
            "0               1         0       3   \n",
            "1               2         1       1   \n",
            "2               3         1       3   \n",
            "3               4         1       1   \n",
            "4               5         0       3   \n",
            "...           ...       ...     ...   \n",
            "1304         1305         0       3   \n",
            "1305         1306         1       1   \n",
            "1306         1307         0       3   \n",
            "1307         1308         0       3   \n",
            "1308         1309         0       3   \n",
            "\n",
            "                                                   Name  Gender   Age  SibSp  \\\n",
            "0                               Braund, Mr. Owen Harris    male  22.0      1   \n",
            "1     Cumings, Mrs. John Bradley (Florence Briggs Th...  female  38.0      1   \n",
            "2                                Heikkinen, Miss. Laina  female  26.0      0   \n",
            "3          Futrelle, Mrs. Jacques Heath (Lily May Peel)  female  35.0      1   \n",
            "4                              Allen, Mr. William Henry    male  35.0      0   \n",
            "...                                                 ...     ...   ...    ...   \n",
            "1304                                 Spector, Mr. Woolf    male  28.0      0   \n",
            "1305                       Oliva y Ocana, Dona. Fermina  female  39.0      0   \n",
            "1306                       Saether, Mr. Simon Sivertsen    male  38.5      0   \n",
            "1307                                Ware, Mr. Frederick    male  28.0      0   \n",
            "1308                           Peter, Master. Michael J    male  28.0      1   \n",
            "\n",
            "      Parch              Ticket     Fare Embarked Age2   title  \n",
            "0         0           A/5 21171     7.25        S    2      Mr  \n",
            "1         0            PC 17599  71.2833        C    3     Mrs  \n",
            "2         0    STON/O2. 3101282    7.925        S    2    Miss  \n",
            "3         0              113803     53.1        S    3     Mrs  \n",
            "4         0              373450     8.05        S    3      Mr  \n",
            "...     ...                 ...      ...      ...  ...     ...  \n",
            "1304      0           A.5. 3236     8.05        S    2      Mr  \n",
            "1305      0            PC 17758    108.9        C    3    Dona  \n",
            "1306      0  SOTON/O.Q. 3101262     7.25        S    3      Mr  \n",
            "1307      0              359309     8.05        S    2      Mr  \n",
            "1308      1                2668  22.3583        C    2  Master  \n",
            "\n",
            "[1309 rows x 13 columns]\n"
          ]
        }
      ]
    },
    {
      "cell_type": "markdown",
      "source": [
        "#####ㄴ title 컬럼 정리"
      ],
      "metadata": {
        "id": "sDxekZyjcx-P"
      }
    },
    {
      "cell_type": "code",
      "source": [
        "# title 컬럼의 항목별 개수 확인\n",
        "\n",
        "# 빈도수 추출\n",
        "print(f'빈도수 :\\n{df_cleaned.title.value_counts()}\\n')\n",
        "\n",
        "# 비율 추출\n",
        "print(f'비율 :\\n{df_cleaned.title.value_counts(normalize=True)}\\n')\n"
      ],
      "metadata": {
        "colab": {
          "base_uri": "https://localhost:8080/"
        },
        "id": "hpY7PSHachXm",
        "outputId": "1a4e7af4-ad35-4986-9db6-551181aa6730"
      },
      "execution_count": null,
      "outputs": [
        {
          "output_type": "stream",
          "name": "stdout",
          "text": [
            "빈도수 :\n",
            "Mr              757\n",
            "Miss            260\n",
            "Mrs             197\n",
            "Master           61\n",
            "Rev               8\n",
            "               ... \n",
            "Don               1\n",
            "Capt              1\n",
            "the Countess      1\n",
            "Jonkheer          1\n",
            "Dona              1\n",
            "Name: title, Length: 18, dtype: int64\n",
            "\n",
            "비율 :\n",
            "Mr              0.578304\n",
            "Miss            0.198625\n",
            "Mrs             0.150497\n",
            "Master          0.046600\n",
            "Rev             0.006112\n",
            "                  ...   \n",
            "Don             0.000764\n",
            "Capt            0.000764\n",
            "the Countess    0.000764\n",
            "Jonkheer        0.000764\n",
            "Dona            0.000764\n",
            "Name: title, Length: 18, dtype: float64\n",
            "\n"
          ]
        }
      ]
    },
    {
      "cell_type": "code",
      "source": [
        "# title 컬럼에서 (Mr or Miss or Mrs or Master)가 아닌 값 --> other로 변환\n",
        "cond = ~((df_cleaned.loc[:,'title'] == 'Mr') |\\\n",
        "         (df_cleaned.loc[:,'title'] == 'Miss') |\\\n",
        "         (df_cleaned.loc[:,'title'] == 'Mrs') |\\\n",
        "         (df_cleaned.loc[:,'title'] == 'Master'))\n",
        "df_cleaned.loc[cond,'title'] = 'other'\n",
        "\n",
        "print(df_cleaned.title.value_counts())"
      ],
      "metadata": {
        "colab": {
          "base_uri": "https://localhost:8080/"
        },
        "id": "blpDzWcHeFg-",
        "outputId": "90b4a1e2-4929-4594-b0ed-390901641507"
      },
      "execution_count": null,
      "outputs": [
        {
          "output_type": "stream",
          "name": "stdout",
          "text": [
            "Mr        757\n",
            "Miss      260\n",
            "Mrs       197\n",
            "Master     61\n",
            "other      34\n",
            "Name: title, dtype: int64\n"
          ]
        }
      ]
    },
    {
      "cell_type": "code",
      "source": [
        "# title 컬럼에서 (Mr or Miss or Mrs or Master)가 아닌 값 --> other로 변환\n",
        "cond = (df_cleaned.loc[:,'title'] != 'Mr') &\\\n",
        "       (df_cleaned.loc[:,'title'] != 'Miss') &\\\n",
        "       (df_cleaned.loc[:,'title'] != 'Mrs') &\\\n",
        "       (df_cleaned.loc[:,'title'] != 'Master')\n",
        "df_cleaned.loc[cond,'title'] = 'other'\n",
        "\n",
        "print(f'컬럼의 항목별 빈도수 :\\n{df_cleaned.title.value_counts()}\\n')\n",
        "print(f'컬럼의 항목별 비율 :\\n{df_cleaned.title.value_counts(normalize=True)}\\n')\n"
      ],
      "metadata": {
        "colab": {
          "base_uri": "https://localhost:8080/"
        },
        "id": "reVEo4wvhM3b",
        "outputId": "0f82ddff-21f4-4c96-a41f-a85c9f6f233b"
      },
      "execution_count": null,
      "outputs": [
        {
          "output_type": "stream",
          "name": "stdout",
          "text": [
            "컬럼의 항목별 빈도수 :\n",
            "Mr       757\n",
            "Miss     260\n",
            "Mrs      197\n",
            "other     95\n",
            "Name: title, dtype: int64\n",
            "\n",
            "컬럼의 항목별 비율 :\n",
            "Mr       0.578304\n",
            "Miss     0.198625\n",
            "Mrs      0.150497\n",
            "other    0.072574\n",
            "Name: title, dtype: float64\n",
            "\n"
          ]
        }
      ]
    },
    {
      "cell_type": "code",
      "source": [
        "def chg_title1(name):\n",
        "    if name=='Mr':\n",
        "        title = name\n",
        "    elif name=='Miss':\n",
        "        title = name\n",
        "    elif name=='Mrs':\n",
        "        title = name\n",
        "    elif name=='Master':\n",
        "        title = name\n",
        "    else:\n",
        "        title = 'other'\n",
        "    return title\n",
        "\n",
        "# chg_title1('other')\n",
        "\n",
        "# df_cleaned.title2 = df_cleaned.title2.apply(chg_title1)\n",
        "df_cleaned.loc[:,'title'] = df_cleaned.title.apply(chg_title1)\n",
        "print(df_cleaned.title.value_counts())"
      ],
      "metadata": {
        "colab": {
          "base_uri": "https://localhost:8080/"
        },
        "id": "EDhwd3yQiJvR",
        "outputId": "19ced86c-2b3f-4206-a87f-8012d8c1f4ea"
      },
      "execution_count": null,
      "outputs": [
        {
          "output_type": "stream",
          "name": "stdout",
          "text": [
            "Mr       757\n",
            "Miss     260\n",
            "Mrs      197\n",
            "other     95\n",
            "Name: title, dtype: int64\n"
          ]
        }
      ]
    },
    {
      "cell_type": "code",
      "source": [
        "def chg_title2(name):\n",
        "    if name=='Mr' or name=='Miss' or name=='Mrs' or name=='Master':\n",
        "        title = name\n",
        "    else:\n",
        "        title = 'other'\n",
        "    return title\n",
        "\n",
        "# chg_title1('other')\n",
        "\n",
        "# df_cleaned.title2 = df_cleaned.title2.apply(chg_title1)\n",
        "df_cleaned.loc[:,'title'] = df_cleaned.title.apply(chg_title2)\n",
        "print(df_cleaned.title.value_counts())"
      ],
      "metadata": {
        "colab": {
          "base_uri": "https://localhost:8080/"
        },
        "id": "yKxSZ2RCnpXd",
        "outputId": "931c90fc-f1e8-4efc-9ac2-395e4f1451fc"
      },
      "execution_count": null,
      "outputs": [
        {
          "output_type": "stream",
          "name": "stdout",
          "text": [
            "Mr       757\n",
            "Miss     260\n",
            "Mrs      197\n",
            "other     95\n",
            "Name: title, dtype: int64\n"
          ]
        }
      ]
    },
    {
      "cell_type": "code",
      "source": [
        "# Mr + Mrs + Miss + Master = 총합 추출\n",
        "sum = df_cleaned.title.value_counts().iloc[0] +\\\n",
        "      df_cleaned.title.value_counts().iloc[1] +\\\n",
        "      df_cleaned.title.value_counts().iloc[2] +\\\n",
        "      df_cleaned.title.value_counts().iloc[3]\n",
        "\n",
        "total_length = df_cleaned.title.size\n",
        "\n",
        "# df_cleaned.title\n",
        "# print(df_cleaned.title.value_counts())\n",
        "# print(sum)\n",
        "# print(total_length)\n",
        "\n",
        "# print(total_length-sum)\n",
        "# print(f'{df_cleaned.title.str.len()}')"
      ],
      "metadata": {
        "colab": {
          "base_uri": "https://localhost:8080/"
        },
        "id": "mb-NVrS0onI7",
        "outputId": "7fbfbfae-b687-4c1e-b134-71966c698124"
      },
      "execution_count": null,
      "outputs": [
        {
          "output_type": "execute_result",
          "data": {
            "text/plain": [
              "0           Mr\n",
              "1          Mrs\n",
              "2         Miss\n",
              "3          Mrs\n",
              "4           Mr\n",
              "         ...  \n",
              "1304        Mr\n",
              "1305     other\n",
              "1306        Mr\n",
              "1307        Mr\n",
              "1308    Master\n",
              "Name: title, Length: 1309, dtype: object"
            ]
          },
          "metadata": {},
          "execution_count": 59
        }
      ]
    },
    {
      "cell_type": "code",
      "source": [
        "df_cleaned.title.value_counts()[3]"
      ],
      "metadata": {
        "colab": {
          "base_uri": "https://localhost:8080/"
        },
        "id": "ZPRyxk6VruHy",
        "outputId": "2a7d30ba-37b3-40c3-9da7-076da278e737"
      },
      "execution_count": null,
      "outputs": [
        {
          "output_type": "execute_result",
          "data": {
            "text/plain": [
              "95"
            ]
          },
          "metadata": {},
          "execution_count": 44
        }
      ]
    },
    {
      "cell_type": "markdown",
      "source": [
        "#####ㄴ 동반한 가족인원수 컬럼 추가"
      ],
      "metadata": {
        "id": "vOnn_alMtitB"
      }
    },
    {
      "cell_type": "code",
      "source": [
        "# SibSp 컬럼 값과 Parch 컬럼 값을 합 --> 가족 인원수 컬럼 생성\n",
        "df_cleaned.loc[:,'num_family'] = df_cleaned.SibSp + df_cleaned.Parch\n",
        "\n",
        "# print(df_cleaned.loc[:,['SibSp','Parch','num_family']])\n",
        "# df_cleaned.Family.del\n",
        "df_cleaned.loc[:,'num_family'].value_counts()\n",
        "df_cleaned.loc[:,'num_family'].value_counts(normalize=True)"
      ],
      "metadata": {
        "colab": {
          "base_uri": "https://localhost:8080/"
        },
        "id": "ndG9UBp-uKZC",
        "outputId": "46829a0f-16b6-4da8-ad1b-4de5eaa3cc60"
      },
      "execution_count": null,
      "outputs": [
        {
          "output_type": "execute_result",
          "data": {
            "text/plain": [
              "0     0.603514\n",
              "1     0.179526\n",
              "2     0.121467\n",
              "3     0.032850\n",
              "5     0.019099\n",
              "4     0.016807\n",
              "6     0.012223\n",
              "10    0.008403\n",
              "7     0.006112\n",
              "Name: num_family, dtype: float64"
            ]
          },
          "metadata": {},
          "execution_count": 60
        }
      ]
    },
    {
      "cell_type": "code",
      "source": [
        "# print(df_cleaned)\n",
        "# df_cleaned.drop('Family',axis=1, inplace=True)\n",
        "# print(df_cleaned)"
      ],
      "metadata": {
        "id": "srWzgX3W1uH7"
      },
      "execution_count": null,
      "outputs": []
    },
    {
      "cell_type": "markdown",
      "source": [
        "#####ㄴ 혼자 승선했는지 여부 확인"
      ],
      "metadata": {
        "id": "aRCePQIu6Dw3"
      }
    },
    {
      "cell_type": "code",
      "source": [
        "cond = (df_cleaned.num_family == 0)\n",
        "df_cleaned.loc[~cond,'alone'] = 0\n",
        "df_cleaned.loc[cond,'alone'] = 1\n",
        "\n",
        "print(df_cleaned)"
      ],
      "metadata": {
        "colab": {
          "base_uri": "https://localhost:8080/"
        },
        "id": "KHIMmwlzyPt5",
        "outputId": "fc3b9533-5da7-442f-ec68-d39ddeacabb1"
      },
      "execution_count": null,
      "outputs": [
        {
          "output_type": "stream",
          "name": "stdout",
          "text": [
            "      PassengerId  Survived  Pclass  \\\n",
            "0               1         0       3   \n",
            "1               2         1       1   \n",
            "2               3         1       3   \n",
            "3               4         1       1   \n",
            "4               5         0       3   \n",
            "...           ...       ...     ...   \n",
            "1304         1305         0       3   \n",
            "1305         1306         1       1   \n",
            "1306         1307         0       3   \n",
            "1307         1308         0       3   \n",
            "1308         1309         0       3   \n",
            "\n",
            "                                                   Name  Gender   Age  SibSp  \\\n",
            "0                               Braund, Mr. Owen Harris    male  22.0      1   \n",
            "1     Cumings, Mrs. John Bradley (Florence Briggs Th...  female  38.0      1   \n",
            "2                                Heikkinen, Miss. Laina  female  26.0      0   \n",
            "3          Futrelle, Mrs. Jacques Heath (Lily May Peel)  female  35.0      1   \n",
            "4                              Allen, Mr. William Henry    male  35.0      0   \n",
            "...                                                 ...     ...   ...    ...   \n",
            "1304                                 Spector, Mr. Woolf    male  28.0      0   \n",
            "1305                       Oliva y Ocana, Dona. Fermina  female  39.0      0   \n",
            "1306                       Saether, Mr. Simon Sivertsen    male  38.5      0   \n",
            "1307                                Ware, Mr. Frederick    male  28.0      0   \n",
            "1308                           Peter, Master. Michael J    male  28.0      1   \n",
            "\n",
            "      Parch              Ticket     Fare Embarked Age2   title  num_family  \\\n",
            "0         0           A/5 21171     7.25        S    2      Mr           1   \n",
            "1         0            PC 17599  71.2833        C    3     Mrs           1   \n",
            "2         0    STON/O2. 3101282    7.925        S    2    Miss           0   \n",
            "3         0              113803     53.1        S    3     Mrs           1   \n",
            "4         0              373450     8.05        S    3      Mr           0   \n",
            "...     ...                 ...      ...      ...  ...     ...         ...   \n",
            "1304      0           A.5. 3236     8.05        S    2      Mr           0   \n",
            "1305      0            PC 17758    108.9        C    3   other           0   \n",
            "1306      0  SOTON/O.Q. 3101262     7.25        S    3      Mr           0   \n",
            "1307      0              359309     8.05        S    2      Mr           0   \n",
            "1308      1                2668  22.3583        C    2  Master           2   \n",
            "\n",
            "      alone  \n",
            "0       0.0  \n",
            "1       0.0  \n",
            "2       1.0  \n",
            "3       0.0  \n",
            "4       1.0  \n",
            "...     ...  \n",
            "1304    1.0  \n",
            "1305    1.0  \n",
            "1306    1.0  \n",
            "1307    1.0  \n",
            "1308    0.0  \n",
            "\n",
            "[1309 rows x 15 columns]\n"
          ]
        }
      ]
    },
    {
      "cell_type": "code",
      "source": [
        "cond1 = (df_cleaned.num_family == 0)\n",
        "df_cleaned.loc[cond1,'alone'] = 1\n",
        "\n",
        "cond2 = (df_cleaned.num_family > 0)\n",
        "df_cleaned.loc[cond2,'alone'] = 0\n",
        "\n",
        "print(df_cleaned)\n",
        "# df_cleaned.info()"
      ],
      "metadata": {
        "colab": {
          "base_uri": "https://localhost:8080/"
        },
        "id": "xAbuPPIo3BGZ",
        "outputId": "2e77c550-5c5b-4983-bee3-29456fb738f5"
      },
      "execution_count": null,
      "outputs": [
        {
          "output_type": "stream",
          "name": "stdout",
          "text": [
            "      PassengerId  Survived  Pclass  \\\n",
            "0               1         0       3   \n",
            "1               2         1       1   \n",
            "2               3         1       3   \n",
            "3               4         1       1   \n",
            "4               5         0       3   \n",
            "...           ...       ...     ...   \n",
            "1304         1305         0       3   \n",
            "1305         1306         1       1   \n",
            "1306         1307         0       3   \n",
            "1307         1308         0       3   \n",
            "1308         1309         0       3   \n",
            "\n",
            "                                                   Name  Gender   Age  SibSp  \\\n",
            "0                               Braund, Mr. Owen Harris    male  22.0      1   \n",
            "1     Cumings, Mrs. John Bradley (Florence Briggs Th...  female  38.0      1   \n",
            "2                                Heikkinen, Miss. Laina  female  26.0      0   \n",
            "3          Futrelle, Mrs. Jacques Heath (Lily May Peel)  female  35.0      1   \n",
            "4                              Allen, Mr. William Henry    male  35.0      0   \n",
            "...                                                 ...     ...   ...    ...   \n",
            "1304                                 Spector, Mr. Woolf    male  28.0      0   \n",
            "1305                       Oliva y Ocana, Dona. Fermina  female  39.0      0   \n",
            "1306                       Saether, Mr. Simon Sivertsen    male  38.5      0   \n",
            "1307                                Ware, Mr. Frederick    male  28.0      0   \n",
            "1308                           Peter, Master. Michael J    male  28.0      1   \n",
            "\n",
            "      Parch              Ticket     Fare Embarked Age2  title  num_family  \\\n",
            "0         0           A/5 21171     7.25        S    2     Mr           1   \n",
            "1         0            PC 17599  71.2833        C    3    Mrs           1   \n",
            "2         0    STON/O2. 3101282    7.925        S    2   Miss           0   \n",
            "3         0              113803     53.1        S    3    Mrs           1   \n",
            "4         0              373450     8.05        S    3     Mr           0   \n",
            "...     ...                 ...      ...      ...  ...    ...         ...   \n",
            "1304      0           A.5. 3236     8.05        S    2     Mr           0   \n",
            "1305      0            PC 17758    108.9        C    3  other           0   \n",
            "1306      0  SOTON/O.Q. 3101262     7.25        S    3     Mr           0   \n",
            "1307      0              359309     8.05        S    2     Mr           0   \n",
            "1308      1                2668  22.3583        C    2  other           2   \n",
            "\n",
            "      alone  \n",
            "0       0.0  \n",
            "1       0.0  \n",
            "2       1.0  \n",
            "3       0.0  \n",
            "4       1.0  \n",
            "...     ...  \n",
            "1304    1.0  \n",
            "1305    1.0  \n",
            "1306    1.0  \n",
            "1307    1.0  \n",
            "1308    0.0  \n",
            "\n",
            "[1309 rows x 15 columns]\n"
          ]
        }
      ]
    },
    {
      "cell_type": "code",
      "source": [
        "cond1 = (df_cleaned.num_family == 0)\n",
        "df_cleaned.loc[cond1,'alone'] = 1\n",
        "\n",
        "cond2 = (df_cleaned.num_family != 0)\n",
        "df_cleaned.loc[cond2,'alone'] = 0\n",
        "\n",
        "print(df_cleaned)"
      ],
      "metadata": {
        "colab": {
          "base_uri": "https://localhost:8080/"
        },
        "id": "kdrebPhy6g4q",
        "outputId": "868efbec-a5c4-4923-c6d1-553b3a42c6ad"
      },
      "execution_count": null,
      "outputs": [
        {
          "output_type": "stream",
          "name": "stdout",
          "text": [
            "      PassengerId  Survived  Pclass  \\\n",
            "0               1         0       3   \n",
            "1               2         1       1   \n",
            "2               3         1       3   \n",
            "3               4         1       1   \n",
            "4               5         0       3   \n",
            "...           ...       ...     ...   \n",
            "1304         1305         0       3   \n",
            "1305         1306         1       1   \n",
            "1306         1307         0       3   \n",
            "1307         1308         0       3   \n",
            "1308         1309         0       3   \n",
            "\n",
            "                                                   Name  Gender   Age  SibSp  \\\n",
            "0                               Braund, Mr. Owen Harris    male  22.0      1   \n",
            "1     Cumings, Mrs. John Bradley (Florence Briggs Th...  female  38.0      1   \n",
            "2                                Heikkinen, Miss. Laina  female  26.0      0   \n",
            "3          Futrelle, Mrs. Jacques Heath (Lily May Peel)  female  35.0      1   \n",
            "4                              Allen, Mr. William Henry    male  35.0      0   \n",
            "...                                                 ...     ...   ...    ...   \n",
            "1304                                 Spector, Mr. Woolf    male  28.0      0   \n",
            "1305                       Oliva y Ocana, Dona. Fermina  female  39.0      0   \n",
            "1306                       Saether, Mr. Simon Sivertsen    male  38.5      0   \n",
            "1307                                Ware, Mr. Frederick    male  28.0      0   \n",
            "1308                           Peter, Master. Michael J    male  28.0      1   \n",
            "\n",
            "      Parch              Ticket     Fare Embarked Age2  title  num_family  \\\n",
            "0         0           A/5 21171     7.25        S    2     Mr           1   \n",
            "1         0            PC 17599  71.2833        C    3    Mrs           1   \n",
            "2         0    STON/O2. 3101282    7.925        S    2   Miss           0   \n",
            "3         0              113803     53.1        S    3    Mrs           1   \n",
            "4         0              373450     8.05        S    3     Mr           0   \n",
            "...     ...                 ...      ...      ...  ...    ...         ...   \n",
            "1304      0           A.5. 3236     8.05        S    2     Mr           0   \n",
            "1305      0            PC 17758    108.9        C    3  other           0   \n",
            "1306      0  SOTON/O.Q. 3101262     7.25        S    3     Mr           0   \n",
            "1307      0              359309     8.05        S    2     Mr           0   \n",
            "1308      1                2668  22.3583        C    2  other           2   \n",
            "\n",
            "      alone  \n",
            "0       0.0  \n",
            "1       0.0  \n",
            "2       1.0  \n",
            "3       0.0  \n",
            "4       1.0  \n",
            "...     ...  \n",
            "1304    1.0  \n",
            "1305    1.0  \n",
            "1306    1.0  \n",
            "1307    1.0  \n",
            "1308    0.0  \n",
            "\n",
            "[1309 rows x 15 columns]\n"
          ]
        }
      ]
    },
    {
      "cell_type": "code",
      "source": [
        "cond1 = (df_cleaned.num_family == 0)\n",
        "df_cleaned.loc[cond1,'alone1'] = 1\n",
        "\n",
        "df_cleaned.loc[:,'alone1'].fillna(0,inplace=True)\n",
        "\n",
        "print(df_cleaned)"
      ],
      "metadata": {
        "colab": {
          "base_uri": "https://localhost:8080/"
        },
        "id": "qr8HJATF69wN",
        "outputId": "2f65e160-b619-4dcb-a508-47e0f3078a6f"
      },
      "execution_count": null,
      "outputs": [
        {
          "output_type": "stream",
          "name": "stdout",
          "text": [
            "      PassengerId  Survived  Pclass  \\\n",
            "0               1         0       3   \n",
            "1               2         1       1   \n",
            "2               3         1       3   \n",
            "3               4         1       1   \n",
            "4               5         0       3   \n",
            "...           ...       ...     ...   \n",
            "1304         1305         0       3   \n",
            "1305         1306         1       1   \n",
            "1306         1307         0       3   \n",
            "1307         1308         0       3   \n",
            "1308         1309         0       3   \n",
            "\n",
            "                                                   Name  Gender   Age  SibSp  \\\n",
            "0                               Braund, Mr. Owen Harris    male  22.0      1   \n",
            "1     Cumings, Mrs. John Bradley (Florence Briggs Th...  female  38.0      1   \n",
            "2                                Heikkinen, Miss. Laina  female  26.0      0   \n",
            "3          Futrelle, Mrs. Jacques Heath (Lily May Peel)  female  35.0      1   \n",
            "4                              Allen, Mr. William Henry    male  35.0      0   \n",
            "...                                                 ...     ...   ...    ...   \n",
            "1304                                 Spector, Mr. Woolf    male  28.0      0   \n",
            "1305                       Oliva y Ocana, Dona. Fermina  female  39.0      0   \n",
            "1306                       Saether, Mr. Simon Sivertsen    male  38.5      0   \n",
            "1307                                Ware, Mr. Frederick    male  28.0      0   \n",
            "1308                           Peter, Master. Michael J    male  28.0      1   \n",
            "\n",
            "      Parch              Ticket     Fare Embarked Age2  title  num_family  \\\n",
            "0         0           A/5 21171     7.25        S    2     Mr           1   \n",
            "1         0            PC 17599  71.2833        C    3    Mrs           1   \n",
            "2         0    STON/O2. 3101282    7.925        S    2   Miss           0   \n",
            "3         0              113803     53.1        S    3    Mrs           1   \n",
            "4         0              373450     8.05        S    3     Mr           0   \n",
            "...     ...                 ...      ...      ...  ...    ...         ...   \n",
            "1304      0           A.5. 3236     8.05        S    2     Mr           0   \n",
            "1305      0            PC 17758    108.9        C    3  other           0   \n",
            "1306      0  SOTON/O.Q. 3101262     7.25        S    3     Mr           0   \n",
            "1307      0              359309     8.05        S    2     Mr           0   \n",
            "1308      1                2668  22.3583        C    2  other           2   \n",
            "\n",
            "      alone  alone1  \n",
            "0       0.0     0.0  \n",
            "1       0.0     0.0  \n",
            "2       1.0     1.0  \n",
            "3       0.0     0.0  \n",
            "4       1.0     1.0  \n",
            "...     ...     ...  \n",
            "1304    1.0     1.0  \n",
            "1305    1.0     1.0  \n",
            "1306    1.0     1.0  \n",
            "1307    1.0     1.0  \n",
            "1308    0.0     0.0  \n",
            "\n",
            "[1309 rows x 16 columns]\n"
          ]
        }
      ]
    },
    {
      "cell_type": "code",
      "source": [
        "cond1 = (df_cleaned.num_family == '0')\n",
        "df_cleaned.loc[cond1,'alone2'] = 1\n",
        "\n",
        "df_cleaned.loc[:,'alone2'].fillna(0,inplace=True)\n",
        "\n",
        "print(df_cleaned)"
      ],
      "metadata": {
        "id": "ZdaaeL599Pat",
        "colab": {
          "base_uri": "https://localhost:8080/"
        },
        "outputId": "0db62146-8fb1-4681-fd44-73c801230ad8"
      },
      "execution_count": null,
      "outputs": [
        {
          "output_type": "stream",
          "name": "stdout",
          "text": [
            "      PassengerId  Survived  Pclass  \\\n",
            "0               1         0       3   \n",
            "1               2         1       1   \n",
            "2               3         1       3   \n",
            "3               4         1       1   \n",
            "4               5         0       3   \n",
            "...           ...       ...     ...   \n",
            "1304         1305         0       3   \n",
            "1305         1306         1       1   \n",
            "1306         1307         0       3   \n",
            "1307         1308         0       3   \n",
            "1308         1309         0       3   \n",
            "\n",
            "                                                   Name  Gender   Age  SibSp  \\\n",
            "0                               Braund, Mr. Owen Harris    male  22.0      1   \n",
            "1     Cumings, Mrs. John Bradley (Florence Briggs Th...  female  38.0      1   \n",
            "2                                Heikkinen, Miss. Laina  female  26.0      0   \n",
            "3          Futrelle, Mrs. Jacques Heath (Lily May Peel)  female  35.0      1   \n",
            "4                              Allen, Mr. William Henry    male  35.0      0   \n",
            "...                                                 ...     ...   ...    ...   \n",
            "1304                                 Spector, Mr. Woolf    male  28.0      0   \n",
            "1305                       Oliva y Ocana, Dona. Fermina  female  39.0      0   \n",
            "1306                       Saether, Mr. Simon Sivertsen    male  38.5      0   \n",
            "1307                                Ware, Mr. Frederick    male  28.0      0   \n",
            "1308                           Peter, Master. Michael J    male  28.0      1   \n",
            "\n",
            "      Parch              Ticket     Fare Embarked Age2  title  num_family  \\\n",
            "0         0           A/5 21171     7.25        S    2     Mr           1   \n",
            "1         0            PC 17599  71.2833        C    3    Mrs           1   \n",
            "2         0    STON/O2. 3101282    7.925        S    2   Miss           0   \n",
            "3         0              113803     53.1        S    3    Mrs           1   \n",
            "4         0              373450     8.05        S    3     Mr           0   \n",
            "...     ...                 ...      ...      ...  ...    ...         ...   \n",
            "1304      0           A.5. 3236     8.05        S    2     Mr           0   \n",
            "1305      0            PC 17758    108.9        C    3  other           0   \n",
            "1306      0  SOTON/O.Q. 3101262     7.25        S    3     Mr           0   \n",
            "1307      0              359309     8.05        S    2     Mr           0   \n",
            "1308      1                2668  22.3583        C    2  other           2   \n",
            "\n",
            "      alone  alone1  alone2  \n",
            "0       0.0     0.0     0.0  \n",
            "1       0.0     0.0     0.0  \n",
            "2       1.0     1.0     0.0  \n",
            "3       0.0     0.0     0.0  \n",
            "4       1.0     1.0     0.0  \n",
            "...     ...     ...     ...  \n",
            "1304    1.0     1.0     0.0  \n",
            "1305    1.0     1.0     0.0  \n",
            "1306    1.0     1.0     0.0  \n",
            "1307    1.0     1.0     0.0  \n",
            "1308    0.0     0.0     0.0  \n",
            "\n",
            "[1309 rows x 17 columns]\n"
          ]
        }
      ]
    },
    {
      "cell_type": "code",
      "source": [
        "df_cleaned.info()"
      ],
      "metadata": {
        "colab": {
          "base_uri": "https://localhost:8080/"
        },
        "id": "exnlZUiZ8n5F",
        "outputId": "c28875a8-0f95-4e0f-e283-9351b66a7072"
      },
      "execution_count": null,
      "outputs": [
        {
          "output_type": "stream",
          "name": "stdout",
          "text": [
            "<class 'pandas.core.frame.DataFrame'>\n",
            "RangeIndex: 1309 entries, 0 to 1308\n",
            "Data columns (total 15 columns):\n",
            " #   Column       Non-Null Count  Dtype   \n",
            "---  ------       --------------  -----   \n",
            " 0   PassengerId  1309 non-null   int64   \n",
            " 1   Survived     1309 non-null   int64   \n",
            " 2   Pclass       1309 non-null   int64   \n",
            " 3   Name         1309 non-null   object  \n",
            " 4   Gender       1309 non-null   object  \n",
            " 5   Age          1309 non-null   float64 \n",
            " 6   SibSp        1309 non-null   int64   \n",
            " 7   Parch        1309 non-null   int64   \n",
            " 8   Ticket       1309 non-null   object  \n",
            " 9   Fare         1309 non-null   object  \n",
            " 10  Embarked     1309 non-null   object  \n",
            " 11  Age2         1309 non-null   category\n",
            " 12  title        1309 non-null   object  \n",
            " 13  num_family   1309 non-null   int64   \n",
            " 14  alone        1309 non-null   float64 \n",
            "dtypes: category(1), float64(2), int64(6), object(6)\n",
            "memory usage: 144.9+ KB\n"
          ]
        }
      ]
    },
    {
      "cell_type": "markdown",
      "source": [
        "#####ㄴ 불필요한 컬럼 삭제"
      ],
      "metadata": {
        "id": "P7xf0W47_Nfa"
      }
    },
    {
      "cell_type": "code",
      "source": [
        "# 삭제의 대상 : PassengerId, Name, Age, Ticket, Title, title2, title3, title4, alone1\n",
        "# df_cleaned.drop(columns=['PassengerId', 'Name', 'Age', 'Ticket', 'title', 'title2', 'title3', 'title4', 'alone1'],\n",
        "#                 inplace=True)\n",
        "\n",
        "# df_cleaned.rename(columns={'title1':'title','Age2':'Age'},inplace=True)\n",
        "# print(df_cleaned)"
      ],
      "metadata": {
        "colab": {
          "base_uri": "https://localhost:8080/"
        },
        "id": "av564m3z_QhV",
        "outputId": "e6b32691-a717-4eff-d901-6b17168a4d42"
      },
      "execution_count": null,
      "outputs": [
        {
          "output_type": "stream",
          "name": "stdout",
          "text": [
            "      PassengerId  Survived  Pclass  \\\n",
            "0               1         0       3   \n",
            "1               2         1       1   \n",
            "2               3         1       3   \n",
            "3               4         1       1   \n",
            "4               5         0       3   \n",
            "...           ...       ...     ...   \n",
            "1304         1305         0       3   \n",
            "1305         1306         1       1   \n",
            "1306         1307         0       3   \n",
            "1307         1308         0       3   \n",
            "1308         1309         0       3   \n",
            "\n",
            "                                                   Name  Gender   Age  SibSp  \\\n",
            "0                               Braund, Mr. Owen Harris    male  22.0      1   \n",
            "1     Cumings, Mrs. John Bradley (Florence Briggs Th...  female  38.0      1   \n",
            "2                                Heikkinen, Miss. Laina  female  26.0      0   \n",
            "3          Futrelle, Mrs. Jacques Heath (Lily May Peel)  female  35.0      1   \n",
            "4                              Allen, Mr. William Henry    male  35.0      0   \n",
            "...                                                 ...     ...   ...    ...   \n",
            "1304                                 Spector, Mr. Woolf    male  28.0      0   \n",
            "1305                       Oliva y Ocana, Dona. Fermina  female  39.0      0   \n",
            "1306                       Saether, Mr. Simon Sivertsen    male  38.5      0   \n",
            "1307                                Ware, Mr. Frederick    male  28.0      0   \n",
            "1308                           Peter, Master. Michael J    male  28.0      1   \n",
            "\n",
            "      Parch              Ticket     Fare Embarked Age  title  num_family  \\\n",
            "0         0           A/5 21171     7.25        S   2     Mr           1   \n",
            "1         0            PC 17599  71.2833        C   3    Mrs           1   \n",
            "2         0    STON/O2. 3101282    7.925        S   2   Miss           0   \n",
            "3         0              113803     53.1        S   3    Mrs           1   \n",
            "4         0              373450     8.05        S   3     Mr           0   \n",
            "...     ...                 ...      ...      ...  ..    ...         ...   \n",
            "1304      0           A.5. 3236     8.05        S   2     Mr           0   \n",
            "1305      0            PC 17758    108.9        C   3  other           0   \n",
            "1306      0  SOTON/O.Q. 3101262     7.25        S   3     Mr           0   \n",
            "1307      0              359309     8.05        S   2     Mr           0   \n",
            "1308      1                2668  22.3583        C   2  other           2   \n",
            "\n",
            "      alone  alone1  alone2  \n",
            "0       0.0     0.0     0.0  \n",
            "1       0.0     0.0     0.0  \n",
            "2       1.0     1.0     0.0  \n",
            "3       0.0     0.0     0.0  \n",
            "4       1.0     1.0     0.0  \n",
            "...     ...     ...     ...  \n",
            "1304    1.0     1.0     0.0  \n",
            "1305    1.0     1.0     0.0  \n",
            "1306    1.0     1.0     0.0  \n",
            "1307    1.0     1.0     0.0  \n",
            "1308    0.0     0.0     0.0  \n",
            "\n",
            "[1309 rows x 17 columns]\n"
          ]
        }
      ]
    },
    {
      "cell_type": "markdown",
      "source": [
        "###→ Label Encoding"
      ],
      "metadata": {
        "id": "XOAh8RYvP0mX"
      }
    },
    {
      "cell_type": "code",
      "source": [
        "# pd.get_dummies를 사용하면 되지만 수동으로 진행해본다.\n",
        "# 대상 컬럼 : df.info() --> 기본정보 추출\n",
        "df_cleaned.info()\n",
        "# Gender, Embarked, title"
      ],
      "metadata": {
        "colab": {
          "base_uri": "https://localhost:8080/"
        },
        "id": "yhs0cQbUP7p4",
        "outputId": "5c487a5e-0119-41dd-81b3-a8447bac0d35"
      },
      "execution_count": null,
      "outputs": [
        {
          "output_type": "stream",
          "name": "stdout",
          "text": [
            "<class 'pandas.core.frame.DataFrame'>\n",
            "RangeIndex: 1309 entries, 0 to 1308\n",
            "Data columns (total 15 columns):\n",
            " #   Column       Non-Null Count  Dtype   \n",
            "---  ------       --------------  -----   \n",
            " 0   PassengerId  1309 non-null   int64   \n",
            " 1   Survived     1309 non-null   int64   \n",
            " 2   Pclass       1309 non-null   int64   \n",
            " 3   Name         1309 non-null   object  \n",
            " 4   Gender       1309 non-null   object  \n",
            " 5   Age          1309 non-null   float64 \n",
            " 6   SibSp        1309 non-null   int64   \n",
            " 7   Parch        1309 non-null   int64   \n",
            " 8   Ticket       1309 non-null   object  \n",
            " 9   Fare         1309 non-null   object  \n",
            " 10  Embarked     1309 non-null   object  \n",
            " 11  Age2         1309 non-null   category\n",
            " 12  title        1309 non-null   object  \n",
            " 13  num_family   1309 non-null   int64   \n",
            " 14  alone        1309 non-null   float64 \n",
            "dtypes: category(1), float64(2), int64(6), object(6)\n",
            "memory usage: 144.9+ KB\n"
          ]
        }
      ]
    },
    {
      "cell_type": "code",
      "source": [
        "# 비교 : pd.get_dummies()\n",
        "df_onehot = pd.get_dummies(data=df_cleaned, columns=['Gender','Embarked','title'])\n",
        "\n",
        "# 결과 확인\n",
        "print(df_onehot)"
      ],
      "metadata": {
        "colab": {
          "base_uri": "https://localhost:8080/"
        },
        "id": "_3efIWejRQ9k",
        "outputId": "b5ceeca9-555c-4fdc-a828-3b9c6aeb027c"
      },
      "execution_count": null,
      "outputs": [
        {
          "output_type": "stream",
          "name": "stdout",
          "text": [
            "      PassengerId  Survived  Pclass  \\\n",
            "0               1         0       3   \n",
            "1               2         1       1   \n",
            "2               3         1       3   \n",
            "3               4         1       1   \n",
            "4               5         0       3   \n",
            "...           ...       ...     ...   \n",
            "1304         1305         0       3   \n",
            "1305         1306         1       1   \n",
            "1306         1307         0       3   \n",
            "1307         1308         0       3   \n",
            "1308         1309         0       3   \n",
            "\n",
            "                                                   Name   Age  SibSp  Parch  \\\n",
            "0                               Braund, Mr. Owen Harris  22.0      1      0   \n",
            "1     Cumings, Mrs. John Bradley (Florence Briggs Th...  38.0      1      0   \n",
            "2                                Heikkinen, Miss. Laina  26.0      0      0   \n",
            "3          Futrelle, Mrs. Jacques Heath (Lily May Peel)  35.0      1      0   \n",
            "4                              Allen, Mr. William Henry  35.0      0      0   \n",
            "...                                                 ...   ...    ...    ...   \n",
            "1304                                 Spector, Mr. Woolf  28.0      0      0   \n",
            "1305                       Oliva y Ocana, Dona. Fermina  39.0      0      0   \n",
            "1306                       Saether, Mr. Simon Sivertsen  38.5      0      0   \n",
            "1307                                Ware, Mr. Frederick  28.0      0      0   \n",
            "1308                           Peter, Master. Michael J  28.0      1      1   \n",
            "\n",
            "                  Ticket     Fare Age  ...  alone2  Gender_female  \\\n",
            "0              A/5 21171     7.25   2  ...     0.0              0   \n",
            "1               PC 17599  71.2833   3  ...     0.0              1   \n",
            "2       STON/O2. 3101282    7.925   2  ...     0.0              1   \n",
            "3                 113803     53.1   3  ...     0.0              1   \n",
            "4                 373450     8.05   3  ...     0.0              0   \n",
            "...                  ...      ...  ..  ...     ...            ...   \n",
            "1304           A.5. 3236     8.05   2  ...     0.0              0   \n",
            "1305            PC 17758    108.9   3  ...     0.0              1   \n",
            "1306  SOTON/O.Q. 3101262     7.25   3  ...     0.0              0   \n",
            "1307              359309     8.05   2  ...     0.0              0   \n",
            "1308                2668  22.3583   2  ...     0.0              0   \n",
            "\n",
            "      Gender_male  Embarked_C  Embarked_Q  Embarked_S  title_Miss  title_Mr  \\\n",
            "0               1           0           0           1           0         1   \n",
            "1               0           1           0           0           0         0   \n",
            "2               0           0           0           1           1         0   \n",
            "3               0           0           0           1           0         0   \n",
            "4               1           0           0           1           0         1   \n",
            "...           ...         ...         ...         ...         ...       ...   \n",
            "1304            1           0           0           1           0         1   \n",
            "1305            0           1           0           0           0         0   \n",
            "1306            1           0           0           1           0         1   \n",
            "1307            1           0           0           1           0         1   \n",
            "1308            1           1           0           0           0         0   \n",
            "\n",
            "      title_Mrs  title_other  \n",
            "0             0            0  \n",
            "1             1            0  \n",
            "2             0            0  \n",
            "3             1            0  \n",
            "4             0            0  \n",
            "...         ...          ...  \n",
            "1304          0            0  \n",
            "1305          0            1  \n",
            "1306          0            0  \n",
            "1307          0            0  \n",
            "1308          0            1  \n",
            "\n",
            "[1309 rows x 23 columns]\n"
          ]
        }
      ]
    },
    {
      "cell_type": "code",
      "source": [
        "# # 문자열 컬럼 --> '항목' 확인 --> np.unique(array) : 알파벳 순으로 정렬\n",
        "\n",
        "# # Gender 컬럼 항목\n",
        "print(f'{np.unique(ar=df_cleaned.Gender, return_counts=True)}\\n')\n",
        "\n",
        "# # Embarked 컬럼\n",
        "print(f'{np.unique(ar=df_cleaned.Embarked, return_counts=True)}\\n')\n",
        "\n",
        "# # title 컬럼\n",
        "print(f'{np.unique(ar=df_cleaned.title)}\\n')\n",
        "\n",
        "# sorted(df_cleaned.title.value_counts().index)\n",
        "# df_cleaned.drop(columns='title', inplace=True)\n",
        "# df_cleaned.rename(columns={'title4':'title'},inplace=True)\n",
        "# df_cleaned.title.value_counts()\n",
        "df_cleaned.Gender.value_counts()\n"
      ],
      "metadata": {
        "colab": {
          "base_uri": "https://localhost:8080/"
        },
        "id": "phO3WYl0UX4z",
        "outputId": "e2553595-ebdb-4c67-d201-7e4bbfaddf25"
      },
      "execution_count": null,
      "outputs": [
        {
          "output_type": "stream",
          "name": "stdout",
          "text": [
            "(array(['female', 'male'], dtype=object), array([466, 843]))\n",
            "\n",
            "(array(['C', 'Q', 'S'], dtype=object), array([270, 123, 916]))\n",
            "\n",
            "['Master' 'Miss' 'Mr' 'Mrs' 'other']\n",
            "\n"
          ]
        },
        {
          "output_type": "execute_result",
          "data": {
            "text/plain": [
              "male      843\n",
              "female    466\n",
              "Name: Gender, dtype: int64"
            ]
          },
          "metadata": {},
          "execution_count": 66
        }
      ]
    },
    {
      "cell_type": "code",
      "source": [
        "# replace() 함수 사용\n",
        "df_cleaned.replace({'female':0,'male':1,\n",
        "                    'C':0,'Q':1,'S':2,\n",
        "                    'Master':0,'Miss':1,'Mr':2,'Mrs':3,'other':4},\n",
        "                   inplace=True)\n",
        "\n",
        "# 결과 확인\n",
        "print(df_cleaned)"
      ],
      "metadata": {
        "colab": {
          "base_uri": "https://localhost:8080/"
        },
        "id": "im3QO2ehcVFv",
        "outputId": "d18f8c10-4692-4b2f-cb8b-3095b475b270"
      },
      "execution_count": null,
      "outputs": [
        {
          "output_type": "stream",
          "name": "stdout",
          "text": [
            "      PassengerId  Survived  Pclass  \\\n",
            "0               1         0       3   \n",
            "1               2         1       1   \n",
            "2               3         1       3   \n",
            "3               4         1       1   \n",
            "4               5         0       3   \n",
            "...           ...       ...     ...   \n",
            "1304         1305         0       3   \n",
            "1305         1306         1       1   \n",
            "1306         1307         0       3   \n",
            "1307         1308         0       3   \n",
            "1308         1309         0       3   \n",
            "\n",
            "                                                   Name  Gender   Age  SibSp  \\\n",
            "0                               Braund, Mr. Owen Harris       1  22.0      1   \n",
            "1     Cumings, Mrs. John Bradley (Florence Briggs Th...       0  38.0      1   \n",
            "2                                Heikkinen, Miss. Laina       0  26.0      0   \n",
            "3          Futrelle, Mrs. Jacques Heath (Lily May Peel)       0  35.0      1   \n",
            "4                              Allen, Mr. William Henry       1  35.0      0   \n",
            "...                                                 ...     ...   ...    ...   \n",
            "1304                                 Spector, Mr. Woolf       1  28.0      0   \n",
            "1305                       Oliva y Ocana, Dona. Fermina       0  39.0      0   \n",
            "1306                       Saether, Mr. Simon Sivertsen       1  38.5      0   \n",
            "1307                                Ware, Mr. Frederick       1  28.0      0   \n",
            "1308                           Peter, Master. Michael J       1  28.0      1   \n",
            "\n",
            "      Parch              Ticket     Fare  Embarked Age2  title  num_family  \\\n",
            "0         0           A/5 21171     7.25         2    2      2           1   \n",
            "1         0            PC 17599  71.2833         0    3      3           1   \n",
            "2         0    STON/O2. 3101282    7.925         2    2      1           0   \n",
            "3         0              113803     53.1         2    3      3           1   \n",
            "4         0              373450     8.05         2    3      2           0   \n",
            "...     ...                 ...      ...       ...  ...    ...         ...   \n",
            "1304      0           A.5. 3236     8.05         2    2      2           0   \n",
            "1305      0            PC 17758    108.9         0    3      4           0   \n",
            "1306      0  SOTON/O.Q. 3101262     7.25         2    3      2           0   \n",
            "1307      0              359309     8.05         2    2      2           0   \n",
            "1308      1                2668  22.3583         0    2      0           2   \n",
            "\n",
            "      alone  \n",
            "0       0.0  \n",
            "1       0.0  \n",
            "2       1.0  \n",
            "3       0.0  \n",
            "4       1.0  \n",
            "...     ...  \n",
            "1304    1.0  \n",
            "1305    1.0  \n",
            "1306    1.0  \n",
            "1307    1.0  \n",
            "1308    0.0  \n",
            "\n",
            "[1309 rows x 15 columns]\n"
          ]
        }
      ]
    },
    {
      "cell_type": "markdown",
      "source": [
        "###→ 결과 저장하기"
      ],
      "metadata": {
        "id": "ZoY6-4RggxE5"
      }
    },
    {
      "cell_type": "code",
      "source": [
        "# 전처리한 결과를 csv 파일로 저장하기\n",
        "\n",
        "# 저장경로 설정하기\n",
        "file_path = '/content/drive/MyDrive/KDT/03. 정형데이터분석시각화/02. Data파일/titanic_preprocessed.csv'\n",
        "\n",
        "# df.to_csv()\n",
        "df_cleaned.to_csv(file_path,index=False)"
      ],
      "metadata": {
        "id": "aOFNto4lg2Zy"
      },
      "execution_count": null,
      "outputs": []
    },
    {
      "cell_type": "markdown",
      "source": [
        "##■ 데이터 탐색"
      ],
      "metadata": {
        "id": "SYRKPiEck44f"
      }
    },
    {
      "cell_type": "markdown",
      "source": [
        "###→ EDA(탐색적 데이터 분석)"
      ],
      "metadata": {
        "id": "cVsWzC1kk9YF"
      }
    },
    {
      "cell_type": "markdown",
      "source": [
        "#####ㄴ Survived 컬럼"
      ],
      "metadata": {
        "id": "2pa1pwSrlblv"
      }
    },
    {
      "cell_type": "code",
      "source": [
        "# 사망자 수 / 생존자 수 분포 시각화\n",
        "sns.countplot(data=df_cleaned, x='Survived')\n",
        "plt.show()"
      ],
      "metadata": {
        "colab": {
          "base_uri": "https://localhost:8080/",
          "height": 449
        },
        "id": "dupquihjk7Iw",
        "outputId": "39e540b0-0573-4b39-ac48-3d0aa678157a"
      },
      "execution_count": null,
      "outputs": [
        {
          "output_type": "display_data",
          "data": {
            "text/plain": [
              "<Figure size 640x480 with 1 Axes>"
            ],
            "image/png": "[encoded data removed]"
          },
          "metadata": {}
        }
      ]
    },
    {
      "cell_type": "code",
      "source": [
        "# 사망자 수 / 생존자 수 --> 숫자 확인(추출)\n",
        "\n",
        "# 항목별 빈도수 추출 --> 변수.value_counts()\n",
        "print(f'사망자 수 / 생존자 수 확인 :\\n{df_cleaned.Survived.value_counts()}\\n')\n",
        "print(f'사망자 수 / 생존자 비율 확인 :\\n{df_cleaned.Survived.value_counts(normalize=True)}\\n')\n",
        "# 분석의 핵심 : 사망자 수가 훨씬 많음 --> 불균형한 데이터임을 확인"
      ],
      "metadata": {
        "colab": {
          "base_uri": "https://localhost:8080/"
        },
        "id": "AzWLFeJGmpYl",
        "outputId": "83ae0da2-0796-4d23-be9d-9a52a65c9ba7"
      },
      "execution_count": null,
      "outputs": [
        {
          "output_type": "stream",
          "name": "stdout",
          "text": [
            "사망자 수 / 생존자 수 확인 :\n",
            "0    815\n",
            "1    494\n",
            "Name: Survived, dtype: int64\n",
            "\n",
            "사망자 수 / 생존자 비율 확인 :\n",
            "0    0.622613\n",
            "1    0.377387\n",
            "Name: Survived, dtype: float64\n",
            "\n"
          ]
        }
      ]
    },
    {
      "cell_type": "markdown",
      "source": [
        "#####ㄴ 생존여부와 승객의 등급 분석"
      ],
      "metadata": {
        "id": "IyX-kydmrIRw"
      }
    },
    {
      "cell_type": "code",
      "source": [
        "# 탑승객의 등급 분석\n",
        "\n",
        "# 시각화  --> 항목별 빈도수\n",
        "sns.countplot(data=df_cleaned,x='Pclass')\n",
        "plt.show()\n",
        "\n",
        "# 승객의 등급 비율 추출 --> Series.value_counts(normalize=True)\n",
        "# df_cleaned.Pclass.value_counts()\n",
        "pclass_ratio = df_cleaned.Pclass.value_counts(normalize=True)\n",
        "print(f'승객의 등급 비율 :\\n{pclass_ratio}\\n')"
      ],
      "metadata": {
        "colab": {
          "base_uri": "https://localhost:8080/",
          "height": 559
        },
        "id": "3-ycPGTyrNNj",
        "outputId": "b73f9694-187c-4579-bf8a-960e55d2fc3a"
      },
      "execution_count": null,
      "outputs": [
        {
          "output_type": "display_data",
          "data": {
            "text/plain": [
              "<Figure size 640x480 with 1 Axes>"
            ],
            "image/png": "[encoded data removed]"
          },
          "metadata": {}
        },
        {
          "output_type": "stream",
          "name": "stdout",
          "text": [
            "승객의 등급 비율 :\n",
            "3    0.541635\n",
            "1    0.246753\n",
            "2    0.211612\n",
            "Name: Pclass, dtype: float64\n",
            "\n"
          ]
        }
      ]
    },
    {
      "cell_type": "code",
      "source": [
        "# Survived 컬럼과 Pclass 컬럼의 관계 분석(1)\n",
        "sns.countplot(data=df_cleaned, x='Survived', hue='Pclass')\n",
        "plt.show()"
      ],
      "metadata": {
        "colab": {
          "base_uri": "https://localhost:8080/",
          "height": 449
        },
        "id": "pnXLpQBfs6UK",
        "outputId": "0d658b41-17f8-4748-8a9a-a02d6fabb3de"
      },
      "execution_count": null,
      "outputs": [
        {
          "output_type": "display_data",
          "data": {
            "text/plain": [
              "<Figure size 640x480 with 1 Axes>"
            ],
            "image/png": "[encoded data removed]"
          },
          "metadata": {}
        }
      ]
    },
    {
      "cell_type": "code",
      "source": [
        "# 생존자 / 사망자의 승객 등급 분석\n",
        "\n",
        "# 사망자의 승객등급 비율 추출 --> 비교연산자 --> 불리언 배열 생성 --> loc인덱서+불리언배열\n",
        "cond1 = df_cleaned.loc[:,'Survived'] == 0\n",
        "print(f'사망자 중 승객등급비율 추출 : \\n{df_cleaned.loc[cond1,\"Pclass\"].value_counts(normalize=True)}\\n')\n",
        "\n",
        "# 생존자의 승객등급 비율 추출 --> 비교연산자 --> 불리언 배열 생성 --> loc인덱서+불리언배열\n",
        "cond2 = df_cleaned.loc[:,'Survived'] == 1\n",
        "print(f'생존자 중 승객등급비율 추출 : \\n{df_cleaned.loc[cond2,\"Pclass\"].value_counts(normalize=True)}\\n')"
      ],
      "metadata": {
        "colab": {
          "base_uri": "https://localhost:8080/"
        },
        "id": "HWhC00yBuP4W",
        "outputId": "7874ff71-9f49-4ac5-c75a-37ff8c3f5487"
      },
      "execution_count": null,
      "outputs": [
        {
          "output_type": "stream",
          "name": "stdout",
          "text": [
            "사망자 중 승객등급비율 추출 : \n",
            "3    0.635583\n",
            "2    0.196319\n",
            "1    0.168098\n",
            "Name: Pclass, dtype: float64\n",
            "\n",
            "생존자 중 승객등급비율 추출 : \n",
            "3    0.386640\n",
            "1    0.376518\n",
            "2    0.236842\n",
            "Name: Pclass, dtype: float64\n",
            "\n"
          ]
        }
      ]
    },
    {
      "cell_type": "code",
      "source": [
        "# Survived 컬럼과 Pclass 컬럼의 관계 분석(2)\n",
        "sns.countplot(data=df_cleaned, x='Pclass', hue='Survived')\n",
        "plt.show()"
      ],
      "metadata": {
        "colab": {
          "base_uri": "https://localhost:8080/",
          "height": 449
        },
        "id": "6YmJgEI64YlG",
        "outputId": "2ae28c10-bcf9-49db-8137-ed4375b4a96c"
      },
      "execution_count": null,
      "outputs": [
        {
          "output_type": "display_data",
          "data": {
            "text/plain": [
              "<Figure size 640x480 with 1 Axes>"
            ],
            "image/png": "[encoded data removed]"
          },
          "metadata": {}
        }
      ]
    },
    {
      "cell_type": "code",
      "source": [
        "# 승객 등급별 생존자 / 사망자의 빈도수와 비율 분석\n",
        "\n",
        "# 1등급 승객중 사망자의 빈도수 추출 --> 비교연산자 --> 불리언 배열 생성 --> loc인덱서+불리언배열\n",
        "cond1 = df_cleaned.loc[:,'Pclass'] == 1\n",
        "print(f'1등급 승객중 사망자 / 생존자 빈도수 추출 : \\n{df_cleaned.loc[cond1,\"Survived\"].value_counts(ascending=True)}\\n')\n",
        "# 1등급 승객중 사망자의 비율 추출 --> 비교연산자 --> 불리언 배열 생성 --> loc인덱서+불리언배열\n",
        "print(f'1등급 승객중 사망자 / 생존자 비율 추출 : \\n{df_cleaned.loc[cond1,\"Survived\"].value_counts(normalize=True,ascending=True)}\\n')\n",
        "\n",
        "# 생존자의 승객등급 빈도수 추출 --> 비교연산자 --> 불리언 배열 생성 --> loc인덱서+불리언배열\n",
        "cond2 = df_cleaned.loc[:,'Pclass'] == 2\n",
        "print(f'2등급 승객중 사망자 / 생존자 빈도수 추출 : \\n{df_cleaned.loc[cond2,\"Survived\"].value_counts()}\\n')\n",
        "# 생존자의 승객등급 비율 추출 --> 비교연산자 --> 불리언 배열 생성 --> loc인덱서+불리언배열\n",
        "print(f'2등급 승객중 사망자 / 생존자 비율 추출 : \\n{df_cleaned.loc[cond2,\"Survived\"].value_counts(normalize=True)}\\n')\n",
        "\n",
        "# 생존자의 승객등급 빈도수 추출 --> 비교연산자 --> 불리언 배열 생성 --> loc인덱서+불리언배열\n",
        "cond3 = df_cleaned.loc[:,'Pclass'] == 3\n",
        "print(f'3등급 승객중 사망자 / 생존자 빈도수  추출 : \\n{df_cleaned.loc[cond3,\"Survived\"].value_counts()}\\n')\n",
        "# 생존자의 승객등급 비율 추출 --> 비교연산자 --> 불리언 배열 생성 --> loc인덱서+불리언배열\n",
        "print(f'3등급 승객중 사망자 / 생존자 비율  추출 : \\n{df_cleaned.loc[cond3,\"Survived\"].value_counts(normalize=True)}\\n')"
      ],
      "metadata": {
        "colab": {
          "base_uri": "https://localhost:8080/"
        },
        "id": "vbyGLvIM4twd",
        "outputId": "54766535-a77e-45ca-e8bd-44ad60c80d57"
      },
      "execution_count": null,
      "outputs": [
        {
          "output_type": "stream",
          "name": "stdout",
          "text": [
            "1등급 승객중 사망자 / 생존자 빈도수 추출 : \n",
            "0    137\n",
            "1    186\n",
            "Name: Survived, dtype: int64\n",
            "\n",
            "1등급 승객중 사망자 / 생존자 비율 추출 : \n",
            "0    0.424149\n",
            "1    0.575851\n",
            "Name: Survived, dtype: float64\n",
            "\n",
            "2등급 승객중 사망자 / 생존자 빈도수 추출 : \n",
            "0    160\n",
            "1    117\n",
            "Name: Survived, dtype: int64\n",
            "\n",
            "2등급 승객중 사망자 / 생존자 비율 추출 : \n",
            "0    0.577617\n",
            "1    0.422383\n",
            "Name: Survived, dtype: float64\n",
            "\n",
            "3등급 승객중 사망자 / 생존자 빈도수  추출 : \n",
            "0    518\n",
            "1    191\n",
            "Name: Survived, dtype: int64\n",
            "\n",
            "3등급 승객중 사망자 / 생존자 비율  추출 : \n",
            "0    0.730606\n",
            "1    0.269394\n",
            "Name: Survived, dtype: float64\n",
            "\n"
          ]
        }
      ]
    },
    {
      "cell_type": "code",
      "source": [
        "# 등급별 사망자 / 생존자 비율 --> 데이터프레임 생성(1)\n",
        "df_survived = pd.concat([df_cleaned.loc[cond1,\"Survived\"].value_counts(normalize=True,ascending=True),\n",
        "                         df_cleaned.loc[cond2,\"Survived\"].value_counts(normalize=True),\n",
        "                         df_cleaned.loc[cond2,\"Survived\"].value_counts(normalize=True)],\n",
        "                        keys=['1등석','2등석','3등석'],\n",
        "                        names=['생존여부'],\n",
        "                        # index=['사망자','생존자'],\n",
        "                        axis=1)\n",
        "\n",
        "# 인덱스 / 컬럼이름 수정\n",
        "df_survived.columns = ['1등석','2등석','3등석']\n",
        "df_survived.index = ['사망자','생존자']\n",
        "\n",
        "df_survived"
      ],
      "metadata": {
        "colab": {
          "base_uri": "https://localhost:8080/",
          "height": 112
        },
        "id": "GKz2A_DIeXoD",
        "outputId": "a1cb3a25-42ff-4fa6-a40a-ff778e9032fe"
      },
      "execution_count": null,
      "outputs": [
        {
          "output_type": "execute_result",
          "data": {
            "text/plain": [
              "          1등석       2등석       3등석\n",
              "사망자  0.424149  0.577617  0.577617\n",
              "생존자  0.575851  0.422383  0.422383"
            ],
            "text/html": [
              "\n",
              "  <div id=\"df-2080ebe2-c29b-4144-84d5-85446182b238\" class=\"colab-df-container\">\n",
              "    <div>\n",
              "<style scoped>\n",
              "    .dataframe tbody tr th:only-of-type {\n",
              "        vertical-align: middle;\n",
              "    }\n",
              "\n",
              "    .dataframe tbody tr th {\n",
              "        vertical-align: top;\n",
              "    }\n",
              "\n",
              "    .dataframe thead th {\n",
              "        text-align: right;\n",
              "    }\n",
              "</style>\n",
              "<table border=\"1\" class=\"dataframe\">\n",
              "  <thead>\n",
              "    <tr style=\"text-align: right;\">\n",
              "      <th></th>\n",
              "      <th>1등석</th>\n",
              "      <th>2등석</th>\n",
              "      <th>3등석</th>\n",
              "    </tr>\n",
              "  </thead>\n",
              "  <tbody>\n",
              "    <tr>\n",
              "      <th>사망자</th>\n",
              "      <td>0.424149</td>\n",
              "      <td>0.577617</td>\n",
              "      <td>0.577617</td>\n",
              "    </tr>\n",
              "    <tr>\n",
              "      <th>생존자</th>\n",
              "      <td>0.575851</td>\n",
              "      <td>0.422383</td>\n",
              "      <td>0.422383</td>\n",
              "    </tr>\n",
              "  </tbody>\n",
              "</table>\n",
              "</div>\n",
              "    <div class=\"colab-df-buttons\">\n",
              "\n",
              "  <div class=\"colab-df-container\">\n",
              "    <button class=\"colab-df-convert\" onclick=\"convertToInteractive('df-2080ebe2-c29b-4144-84d5-85446182b238')\"\n",
              "            title=\"Convert this dataframe to an interactive table.\"\n",
              "            style=\"display:none;\">\n",
              "\n",
              "  <svg xmlns=\"http://www.w3.org/2000/svg\" height=\"24px\" viewBox=\"0 -960 960 960\">\n",
              "    <path d=\"M120-120v-720h720v720H120Zm60-500h600v-160H180v160Zm220 220h160v-160H400v160Zm0 220h160v-160H400v160ZM180-400h160v-160H180v160Zm440 0h160v-160H620v160ZM180-180h160v-160H180v160Zm440 0h160v-160H620v160Z\"/>\n",
              "  </svg>\n",
              "    </button>\n",
              "\n",
              "  <style>\n",
              "    .colab-df-container {\n",
              "      display:flex;\n",
              "      gap: 12px;\n",
              "    }\n",
              "\n",
              "    .colab-df-convert {\n",
              "      background-color: #E8F0FE;\n",
              "      border: none;\n",
              "      border-radius: 50%;\n",
              "      cursor: pointer;\n",
              "      display: none;\n",
              "      fill: #1967D2;\n",
              "      height: 32px;\n",
              "      padding: 0 0 0 0;\n",
              "      width: 32px;\n",
              "    }\n",
              "\n",
              "    .colab-df-convert:hover {\n",
              "      background-color: #E2EBFA;\n",
              "      box-shadow: 0px 1px 2px rgba(60, 64, 67, 0.3), 0px 1px 3px 1px rgba(60, 64, 67, 0.15);\n",
              "      fill: #174EA6;\n",
              "    }\n",
              "\n",
              "    .colab-df-buttons div {\n",
              "      margin-bottom: 4px;\n",
              "    }\n",
              "\n",
              "    [theme=dark] .colab-df-convert {\n",
              "      background-color: #3B4455;\n",
              "      fill: #D2E3FC;\n",
              "    }\n",
              "\n",
              "    [theme=dark] .colab-df-convert:hover {\n",
              "      background-color: #434B5C;\n",
              "      box-shadow: 0px 1px 3px 1px rgba(0, 0, 0, 0.15);\n",
              "      filter: drop-shadow(0px 1px 2px rgba(0, 0, 0, 0.3));\n",
              "      fill: #FFFFFF;\n",
              "    }\n",
              "  </style>\n",
              "\n",
              "    <script>\n",
              "      const buttonEl =\n",
              "        document.querySelector('#df-2080ebe2-c29b-4144-84d5-85446182b238 button.colab-df-convert');\n",
              "      buttonEl.style.display =\n",
              "        google.colab.kernel.accessAllowed ? 'block' : 'none';\n",
              "\n",
              "      async function convertToInteractive(key) {\n",
              "        const element = document.querySelector('#df-2080ebe2-c29b-4144-84d5-85446182b238');\n",
              "        const dataTable =\n",
              "          await google.colab.kernel.invokeFunction('convertToInteractive',\n",
              "                                                    [key], {});\n",
              "        if (!dataTable) return;\n",
              "\n",
              "        const docLinkHtml = 'Like what you see? Visit the ' +\n",
              "          '<a target=\"_blank\" href=https://colab.research.google.com/notebooks/data_table.ipynb>data table notebook</a>'\n",
              "          + ' to learn more about interactive tables.';\n",
              "        element.innerHTML = '';\n",
              "        dataTable['output_type'] = 'display_data';\n",
              "        await google.colab.output.renderOutput(dataTable, element);\n",
              "        const docLink = document.createElement('div');\n",
              "        docLink.innerHTML = docLinkHtml;\n",
              "        element.appendChild(docLink);\n",
              "      }\n",
              "    </script>\n",
              "  </div>\n",
              "\n",
              "\n",
              "<div id=\"df-8f78c1f2-238c-4b4b-ad60-7674e9021c94\">\n",
              "  <button class=\"colab-df-quickchart\" onclick=\"quickchart('df-8f78c1f2-238c-4b4b-ad60-7674e9021c94')\"\n",
              "            title=\"Suggest charts\"\n",
              "            style=\"display:none;\">\n",
              "\n",
              "<svg xmlns=\"http://www.w3.org/2000/svg\" height=\"24px\"viewBox=\"0 0 24 24\"\n",
              "     width=\"24px\">\n",
              "    <g>\n",
              "        <path d=\"M19 3H5c-1.1 0-2 .9-2 2v14c0 1.1.9 2 2 2h14c1.1 0 2-.9 2-2V5c0-1.1-.9-2-2-2zM9 17H7v-7h2v7zm4 0h-2V7h2v10zm4 0h-2v-4h2v4z\"/>\n",
              "    </g>\n",
              "</svg>\n",
              "  </button>\n",
              "\n",
              "<style>\n",
              "  .colab-df-quickchart {\n",
              "      --bg-color: #E8F0FE;\n",
              "      --fill-color: #1967D2;\n",
              "      --hover-bg-color: #E2EBFA;\n",
              "      --hover-fill-color: #174EA6;\n",
              "      --disabled-fill-color: #AAA;\n",
              "      --disabled-bg-color: #DDD;\n",
              "  }\n",
              "\n",
              "  [theme=dark] .colab-df-quickchart {\n",
              "      --bg-color: #3B4455;\n",
              "      --fill-color: #D2E3FC;\n",
              "      --hover-bg-color: #434B5C;\n",
              "      --hover-fill-color: #FFFFFF;\n",
              "      --disabled-bg-color: #3B4455;\n",
              "      --disabled-fill-color: #666;\n",
              "  }\n",
              "\n",
              "  .colab-df-quickchart {\n",
              "    background-color: var(--bg-color);\n",
              "    border: none;\n",
              "    border-radius: 50%;\n",
              "    cursor: pointer;\n",
              "    display: none;\n",
              "    fill: var(--fill-color);\n",
              "    height: 32px;\n",
              "    padding: 0;\n",
              "    width: 32px;\n",
              "  }\n",
              "\n",
              "  .colab-df-quickchart:hover {\n",
              "    background-color: var(--hover-bg-color);\n",
              "    box-shadow: 0 1px 2px rgba(60, 64, 67, 0.3), 0 1px 3px 1px rgba(60, 64, 67, 0.15);\n",
              "    fill: var(--button-hover-fill-color);\n",
              "  }\n",
              "\n",
              "  .colab-df-quickchart-complete:disabled,\n",
              "  .colab-df-quickchart-complete:disabled:hover {\n",
              "    background-color: var(--disabled-bg-color);\n",
              "    fill: var(--disabled-fill-color);\n",
              "    box-shadow: none;\n",
              "  }\n",
              "\n",
              "  .colab-df-spinner {\n",
              "    border: 2px solid var(--fill-color);\n",
              "    border-color: transparent;\n",
              "    border-bottom-color: var(--fill-color);\n",
              "    animation:\n",
              "      spin 1s steps(1) infinite;\n",
              "  }\n",
              "\n",
              "  @keyframes spin {\n",
              "    0% {\n",
              "      border-color: transparent;\n",
              "      border-bottom-color: var(--fill-color);\n",
              "      border-left-color: var(--fill-color);\n",
              "    }\n",
              "    20% {\n",
              "      border-color: transparent;\n",
              "      border-left-color: var(--fill-color);\n",
              "      border-top-color: var(--fill-color);\n",
              "    }\n",
              "    30% {\n",
              "      border-color: transparent;\n",
              "      border-left-color: var(--fill-color);\n",
              "      border-top-color: var(--fill-color);\n",
              "      border-right-color: var(--fill-color);\n",
              "    }\n",
              "    40% {\n",
              "      border-color: transparent;\n",
              "      border-right-color: var(--fill-color);\n",
              "      border-top-color: var(--fill-color);\n",
              "    }\n",
              "    60% {\n",
              "      border-color: transparent;\n",
              "      border-right-color: var(--fill-color);\n",
              "    }\n",
              "    80% {\n",
              "      border-color: transparent;\n",
              "      border-right-color: var(--fill-color);\n",
              "      border-bottom-color: var(--fill-color);\n",
              "    }\n",
              "    90% {\n",
              "      border-color: transparent;\n",
              "      border-bottom-color: var(--fill-color);\n",
              "    }\n",
              "  }\n",
              "</style>\n",
              "\n",
              "  <script>\n",
              "    async function quickchart(key) {\n",
              "      const quickchartButtonEl =\n",
              "        document.querySelector('#' + key + ' button');\n",
              "      quickchartButtonEl.disabled = true;  // To prevent multiple clicks.\n",
              "      quickchartButtonEl.classList.add('colab-df-spinner');\n",
              "      try {\n",
              "        const charts = await google.colab.kernel.invokeFunction(\n",
              "            'suggestCharts', [key], {});\n",
              "      } catch (error) {\n",
              "        console.error('Error during call to suggestCharts:', error);\n",
              "      }\n",
              "      quickchartButtonEl.classList.remove('colab-df-spinner');\n",
              "      quickchartButtonEl.classList.add('colab-df-quickchart-complete');\n",
              "    }\n",
              "    (() => {\n",
              "      let quickchartButtonEl =\n",
              "        document.querySelector('#df-8f78c1f2-238c-4b4b-ad60-7674e9021c94 button');\n",
              "      quickchartButtonEl.style.display =\n",
              "        google.colab.kernel.accessAllowed ? 'block' : 'none';\n",
              "    })();\n",
              "  </script>\n",
              "</div>\n",
              "    </div>\n",
              "  </div>\n"
            ]
          },
          "metadata": {},
          "execution_count": 66
        }
      ]
    },
    {
      "cell_type": "code",
      "source": [
        "# 등급별 사망자 / 생존자 비율 --> 데이터프레임 생성(2)\n",
        "data_ = {'1등석':df_cleaned.loc[cond1,\"Survived\"].value_counts(normalize=True,ascending=True).values,\n",
        "        '2등석':df_cleaned.loc[cond2,\"Survived\"].value_counts(normalize=True).values,\n",
        "        '3등석':df_cleaned.loc[cond2,\"Survived\"].value_counts(normalize=True).values}\n",
        "index_ = ['사망자 비율','생존자 비율']\n",
        "df_survived1 = pd.DataFrame(data=data_,index=index_)\n",
        "df_survived1"
      ],
      "metadata": {
        "colab": {
          "base_uri": "https://localhost:8080/",
          "height": 112
        },
        "id": "q9oo1UOFiXyQ",
        "outputId": "b33c09dd-6be4-4225-9f01-a1671e2faf96"
      },
      "execution_count": null,
      "outputs": [
        {
          "output_type": "execute_result",
          "data": {
            "text/plain": [
              "             1등석       2등석       3등석\n",
              "사망자 비율  0.424149  0.577617  0.577617\n",
              "생존자 비율  0.575851  0.422383  0.422383"
            ],
            "text/html": [
              "\n",
              "  <div id=\"df-e6964fa3-8e88-46f2-bd2e-ed2bdbd752d2\" class=\"colab-df-container\">\n",
              "    <div>\n",
              "<style scoped>\n",
              "    .dataframe tbody tr th:only-of-type {\n",
              "        vertical-align: middle;\n",
              "    }\n",
              "\n",
              "    .dataframe tbody tr th {\n",
              "        vertical-align: top;\n",
              "    }\n",
              "\n",
              "    .dataframe thead th {\n",
              "        text-align: right;\n",
              "    }\n",
              "</style>\n",
              "<table border=\"1\" class=\"dataframe\">\n",
              "  <thead>\n",
              "    <tr style=\"text-align: right;\">\n",
              "      <th></th>\n",
              "      <th>1등석</th>\n",
              "      <th>2등석</th>\n",
              "      <th>3등석</th>\n",
              "    </tr>\n",
              "  </thead>\n",
              "  <tbody>\n",
              "    <tr>\n",
              "      <th>사망자 비율</th>\n",
              "      <td>0.424149</td>\n",
              "      <td>0.577617</td>\n",
              "      <td>0.577617</td>\n",
              "    </tr>\n",
              "    <tr>\n",
              "      <th>생존자 비율</th>\n",
              "      <td>0.575851</td>\n",
              "      <td>0.422383</td>\n",
              "      <td>0.422383</td>\n",
              "    </tr>\n",
              "  </tbody>\n",
              "</table>\n",
              "</div>\n",
              "    <div class=\"colab-df-buttons\">\n",
              "\n",
              "  <div class=\"colab-df-container\">\n",
              "    <button class=\"colab-df-convert\" onclick=\"convertToInteractive('df-e6964fa3-8e88-46f2-bd2e-ed2bdbd752d2')\"\n",
              "            title=\"Convert this dataframe to an interactive table.\"\n",
              "            style=\"display:none;\">\n",
              "\n",
              "  <svg xmlns=\"http://www.w3.org/2000/svg\" height=\"24px\" viewBox=\"0 -960 960 960\">\n",
              "    <path d=\"M120-120v-720h720v720H120Zm60-500h600v-160H180v160Zm220 220h160v-160H400v160Zm0 220h160v-160H400v160ZM180-400h160v-160H180v160Zm440 0h160v-160H620v160ZM180-180h160v-160H180v160Zm440 0h160v-160H620v160Z\"/>\n",
              "  </svg>\n",
              "    </button>\n",
              "\n",
              "  <style>\n",
              "    .colab-df-container {\n",
              "      display:flex;\n",
              "      gap: 12px;\n",
              "    }\n",
              "\n",
              "    .colab-df-convert {\n",
              "      background-color: #E8F0FE;\n",
              "      border: none;\n",
              "      border-radius: 50%;\n",
              "      cursor: pointer;\n",
              "      display: none;\n",
              "      fill: #1967D2;\n",
              "      height: 32px;\n",
              "      padding: 0 0 0 0;\n",
              "      width: 32px;\n",
              "    }\n",
              "\n",
              "    .colab-df-convert:hover {\n",
              "      background-color: #E2EBFA;\n",
              "      box-shadow: 0px 1px 2px rgba(60, 64, 67, 0.3), 0px 1px 3px 1px rgba(60, 64, 67, 0.15);\n",
              "      fill: #174EA6;\n",
              "    }\n",
              "\n",
              "    .colab-df-buttons div {\n",
              "      margin-bottom: 4px;\n",
              "    }\n",
              "\n",
              "    [theme=dark] .colab-df-convert {\n",
              "      background-color: #3B4455;\n",
              "      fill: #D2E3FC;\n",
              "    }\n",
              "\n",
              "    [theme=dark] .colab-df-convert:hover {\n",
              "      background-color: #434B5C;\n",
              "      box-shadow: 0px 1px 3px 1px rgba(0, 0, 0, 0.15);\n",
              "      filter: drop-shadow(0px 1px 2px rgba(0, 0, 0, 0.3));\n",
              "      fill: #FFFFFF;\n",
              "    }\n",
              "  </style>\n",
              "\n",
              "    <script>\n",
              "      const buttonEl =\n",
              "        document.querySelector('#df-e6964fa3-8e88-46f2-bd2e-ed2bdbd752d2 button.colab-df-convert');\n",
              "      buttonEl.style.display =\n",
              "        google.colab.kernel.accessAllowed ? 'block' : 'none';\n",
              "\n",
              "      async function convertToInteractive(key) {\n",
              "        const element = document.querySelector('#df-e6964fa3-8e88-46f2-bd2e-ed2bdbd752d2');\n",
              "        const dataTable =\n",
              "          await google.colab.kernel.invokeFunction('convertToInteractive',\n",
              "                                                    [key], {});\n",
              "        if (!dataTable) return;\n",
              "\n",
              "        const docLinkHtml = 'Like what you see? Visit the ' +\n",
              "          '<a target=\"_blank\" href=https://colab.research.google.com/notebooks/data_table.ipynb>data table notebook</a>'\n",
              "          + ' to learn more about interactive tables.';\n",
              "        element.innerHTML = '';\n",
              "        dataTable['output_type'] = 'display_data';\n",
              "        await google.colab.output.renderOutput(dataTable, element);\n",
              "        const docLink = document.createElement('div');\n",
              "        docLink.innerHTML = docLinkHtml;\n",
              "        element.appendChild(docLink);\n",
              "      }\n",
              "    </script>\n",
              "  </div>\n",
              "\n",
              "\n",
              "<div id=\"df-43de415a-2f41-4f56-875b-46e08b475c54\">\n",
              "  <button class=\"colab-df-quickchart\" onclick=\"quickchart('df-43de415a-2f41-4f56-875b-46e08b475c54')\"\n",
              "            title=\"Suggest charts\"\n",
              "            style=\"display:none;\">\n",
              "\n",
              "<svg xmlns=\"http://www.w3.org/2000/svg\" height=\"24px\"viewBox=\"0 0 24 24\"\n",
              "     width=\"24px\">\n",
              "    <g>\n",
              "        <path d=\"M19 3H5c-1.1 0-2 .9-2 2v14c0 1.1.9 2 2 2h14c1.1 0 2-.9 2-2V5c0-1.1-.9-2-2-2zM9 17H7v-7h2v7zm4 0h-2V7h2v10zm4 0h-2v-4h2v4z\"/>\n",
              "    </g>\n",
              "</svg>\n",
              "  </button>\n",
              "\n",
              "<style>\n",
              "  .colab-df-quickchart {\n",
              "      --bg-color: #E8F0FE;\n",
              "      --fill-color: #1967D2;\n",
              "      --hover-bg-color: #E2EBFA;\n",
              "      --hover-fill-color: #174EA6;\n",
              "      --disabled-fill-color: #AAA;\n",
              "      --disabled-bg-color: #DDD;\n",
              "  }\n",
              "\n",
              "  [theme=dark] .colab-df-quickchart {\n",
              "      --bg-color: #3B4455;\n",
              "      --fill-color: #D2E3FC;\n",
              "      --hover-bg-color: #434B5C;\n",
              "      --hover-fill-color: #FFFFFF;\n",
              "      --disabled-bg-color: #3B4455;\n",
              "      --disabled-fill-color: #666;\n",
              "  }\n",
              "\n",
              "  .colab-df-quickchart {\n",
              "    background-color: var(--bg-color);\n",
              "    border: none;\n",
              "    border-radius: 50%;\n",
              "    cursor: pointer;\n",
              "    display: none;\n",
              "    fill: var(--fill-color);\n",
              "    height: 32px;\n",
              "    padding: 0;\n",
              "    width: 32px;\n",
              "  }\n",
              "\n",
              "  .colab-df-quickchart:hover {\n",
              "    background-color: var(--hover-bg-color);\n",
              "    box-shadow: 0 1px 2px rgba(60, 64, 67, 0.3), 0 1px 3px 1px rgba(60, 64, 67, 0.15);\n",
              "    fill: var(--button-hover-fill-color);\n",
              "  }\n",
              "\n",
              "  .colab-df-quickchart-complete:disabled,\n",
              "  .colab-df-quickchart-complete:disabled:hover {\n",
              "    background-color: var(--disabled-bg-color);\n",
              "    fill: var(--disabled-fill-color);\n",
              "    box-shadow: none;\n",
              "  }\n",
              "\n",
              "  .colab-df-spinner {\n",
              "    border: 2px solid var(--fill-color);\n",
              "    border-color: transparent;\n",
              "    border-bottom-color: var(--fill-color);\n",
              "    animation:\n",
              "      spin 1s steps(1) infinite;\n",
              "  }\n",
              "\n",
              "  @keyframes spin {\n",
              "    0% {\n",
              "      border-color: transparent;\n",
              "      border-bottom-color: var(--fill-color);\n",
              "      border-left-color: var(--fill-color);\n",
              "    }\n",
              "    20% {\n",
              "      border-color: transparent;\n",
              "      border-left-color: var(--fill-color);\n",
              "      border-top-color: var(--fill-color);\n",
              "    }\n",
              "    30% {\n",
              "      border-color: transparent;\n",
              "      border-left-color: var(--fill-color);\n",
              "      border-top-color: var(--fill-color);\n",
              "      border-right-color: var(--fill-color);\n",
              "    }\n",
              "    40% {\n",
              "      border-color: transparent;\n",
              "      border-right-color: var(--fill-color);\n",
              "      border-top-color: var(--fill-color);\n",
              "    }\n",
              "    60% {\n",
              "      border-color: transparent;\n",
              "      border-right-color: var(--fill-color);\n",
              "    }\n",
              "    80% {\n",
              "      border-color: transparent;\n",
              "      border-right-color: var(--fill-color);\n",
              "      border-bottom-color: var(--fill-color);\n",
              "    }\n",
              "    90% {\n",
              "      border-color: transparent;\n",
              "      border-bottom-color: var(--fill-color);\n",
              "    }\n",
              "  }\n",
              "</style>\n",
              "\n",
              "  <script>\n",
              "    async function quickchart(key) {\n",
              "      const quickchartButtonEl =\n",
              "        document.querySelector('#' + key + ' button');\n",
              "      quickchartButtonEl.disabled = true;  // To prevent multiple clicks.\n",
              "      quickchartButtonEl.classList.add('colab-df-spinner');\n",
              "      try {\n",
              "        const charts = await google.colab.kernel.invokeFunction(\n",
              "            'suggestCharts', [key], {});\n",
              "      } catch (error) {\n",
              "        console.error('Error during call to suggestCharts:', error);\n",
              "      }\n",
              "      quickchartButtonEl.classList.remove('colab-df-spinner');\n",
              "      quickchartButtonEl.classList.add('colab-df-quickchart-complete');\n",
              "    }\n",
              "    (() => {\n",
              "      let quickchartButtonEl =\n",
              "        document.querySelector('#df-43de415a-2f41-4f56-875b-46e08b475c54 button');\n",
              "      quickchartButtonEl.style.display =\n",
              "        google.colab.kernel.accessAllowed ? 'block' : 'none';\n",
              "    })();\n",
              "  </script>\n",
              "</div>\n",
              "    </div>\n",
              "  </div>\n"
            ]
          },
          "metadata": {},
          "execution_count": 67
        }
      ]
    },
    {
      "cell_type": "code",
      "source": [
        "# 등급별 사망자 / 생존자 비율 --> 데이터프레임 생성(3)\n",
        "data_ = [df_cleaned.loc[cond1,\"Survived\"].value_counts(normalize=True,ascending=True).values,\n",
        "         df_cleaned.loc[cond2,\"Survived\"].value_counts(normalize=True).values,\n",
        "         df_cleaned.loc[cond2,\"Survived\"].value_counts(normalize=True).values]\n",
        "index_ = ['1등석','2등석','3등석']\n",
        "columns_ = ['사망자 비율','생존자 비율']\n",
        "df_survived2 = pd.DataFrame(data=data_,index=index_,columns=columns_)\n",
        "df_survived2"
      ],
      "metadata": {
        "colab": {
          "base_uri": "https://localhost:8080/",
          "height": 143
        },
        "id": "l9Cmnu8plUtV",
        "outputId": "1e6cc783-32fb-47b7-f1a7-bed7c00b33f8"
      },
      "execution_count": null,
      "outputs": [
        {
          "output_type": "execute_result",
          "data": {
            "text/plain": [
              "       사망자 비율    생존자 비율\n",
              "1등석  0.424149  0.575851\n",
              "2등석  0.577617  0.422383\n",
              "3등석  0.577617  0.422383"
            ],
            "text/html": [
              "\n",
              "  <div id=\"df-f9c52a79-9e8a-44cc-8c46-d201959455b4\" class=\"colab-df-container\">\n",
              "    <div>\n",
              "<style scoped>\n",
              "    .dataframe tbody tr th:only-of-type {\n",
              "        vertical-align: middle;\n",
              "    }\n",
              "\n",
              "    .dataframe tbody tr th {\n",
              "        vertical-align: top;\n",
              "    }\n",
              "\n",
              "    .dataframe thead th {\n",
              "        text-align: right;\n",
              "    }\n",
              "</style>\n",
              "<table border=\"1\" class=\"dataframe\">\n",
              "  <thead>\n",
              "    <tr style=\"text-align: right;\">\n",
              "      <th></th>\n",
              "      <th>사망자 비율</th>\n",
              "      <th>생존자 비율</th>\n",
              "    </tr>\n",
              "  </thead>\n",
              "  <tbody>\n",
              "    <tr>\n",
              "      <th>1등석</th>\n",
              "      <td>0.424149</td>\n",
              "      <td>0.575851</td>\n",
              "    </tr>\n",
              "    <tr>\n",
              "      <th>2등석</th>\n",
              "      <td>0.577617</td>\n",
              "      <td>0.422383</td>\n",
              "    </tr>\n",
              "    <tr>\n",
              "      <th>3등석</th>\n",
              "      <td>0.577617</td>\n",
              "      <td>0.422383</td>\n",
              "    </tr>\n",
              "  </tbody>\n",
              "</table>\n",
              "</div>\n",
              "    <div class=\"colab-df-buttons\">\n",
              "\n",
              "  <div class=\"colab-df-container\">\n",
              "    <button class=\"colab-df-convert\" onclick=\"convertToInteractive('df-f9c52a79-9e8a-44cc-8c46-d201959455b4')\"\n",
              "            title=\"Convert this dataframe to an interactive table.\"\n",
              "            style=\"display:none;\">\n",
              "\n",
              "  <svg xmlns=\"http://www.w3.org/2000/svg\" height=\"24px\" viewBox=\"0 -960 960 960\">\n",
              "    <path d=\"M120-120v-720h720v720H120Zm60-500h600v-160H180v160Zm220 220h160v-160H400v160Zm0 220h160v-160H400v160ZM180-400h160v-160H180v160Zm440 0h160v-160H620v160ZM180-180h160v-160H180v160Zm440 0h160v-160H620v160Z\"/>\n",
              "  </svg>\n",
              "    </button>\n",
              "\n",
              "  <style>\n",
              "    .colab-df-container {\n",
              "      display:flex;\n",
              "      gap: 12px;\n",
              "    }\n",
              "\n",
              "    .colab-df-convert {\n",
              "      background-color: #E8F0FE;\n",
              "      border: none;\n",
              "      border-radius: 50%;\n",
              "      cursor: pointer;\n",
              "      display: none;\n",
              "      fill: #1967D2;\n",
              "      height: 32px;\n",
              "      padding: 0 0 0 0;\n",
              "      width: 32px;\n",
              "    }\n",
              "\n",
              "    .colab-df-convert:hover {\n",
              "      background-color: #E2EBFA;\n",
              "      box-shadow: 0px 1px 2px rgba(60, 64, 67, 0.3), 0px 1px 3px 1px rgba(60, 64, 67, 0.15);\n",
              "      fill: #174EA6;\n",
              "    }\n",
              "\n",
              "    .colab-df-buttons div {\n",
              "      margin-bottom: 4px;\n",
              "    }\n",
              "\n",
              "    [theme=dark] .colab-df-convert {\n",
              "      background-color: #3B4455;\n",
              "      fill: #D2E3FC;\n",
              "    }\n",
              "\n",
              "    [theme=dark] .colab-df-convert:hover {\n",
              "      background-color: #434B5C;\n",
              "      box-shadow: 0px 1px 3px 1px rgba(0, 0, 0, 0.15);\n",
              "      filter: drop-shadow(0px 1px 2px rgba(0, 0, 0, 0.3));\n",
              "      fill: #FFFFFF;\n",
              "    }\n",
              "  </style>\n",
              "\n",
              "    <script>\n",
              "      const buttonEl =\n",
              "        document.querySelector('#df-f9c52a79-9e8a-44cc-8c46-d201959455b4 button.colab-df-convert');\n",
              "      buttonEl.style.display =\n",
              "        google.colab.kernel.accessAllowed ? 'block' : 'none';\n",
              "\n",
              "      async function convertToInteractive(key) {\n",
              "        const element = document.querySelector('#df-f9c52a79-9e8a-44cc-8c46-d201959455b4');\n",
              "        const dataTable =\n",
              "          await google.colab.kernel.invokeFunction('convertToInteractive',\n",
              "                                                    [key], {});\n",
              "        if (!dataTable) return;\n",
              "\n",
              "        const docLinkHtml = 'Like what you see? Visit the ' +\n",
              "          '<a target=\"_blank\" href=https://colab.research.google.com/notebooks/data_table.ipynb>data table notebook</a>'\n",
              "          + ' to learn more about interactive tables.';\n",
              "        element.innerHTML = '';\n",
              "        dataTable['output_type'] = 'display_data';\n",
              "        await google.colab.output.renderOutput(dataTable, element);\n",
              "        const docLink = document.createElement('div');\n",
              "        docLink.innerHTML = docLinkHtml;\n",
              "        element.appendChild(docLink);\n",
              "      }\n",
              "    </script>\n",
              "  </div>\n",
              "\n",
              "\n",
              "<div id=\"df-099b70cd-db77-47f0-b184-32ded4b4cc60\">\n",
              "  <button class=\"colab-df-quickchart\" onclick=\"quickchart('df-099b70cd-db77-47f0-b184-32ded4b4cc60')\"\n",
              "            title=\"Suggest charts\"\n",
              "            style=\"display:none;\">\n",
              "\n",
              "<svg xmlns=\"http://www.w3.org/2000/svg\" height=\"24px\"viewBox=\"0 0 24 24\"\n",
              "     width=\"24px\">\n",
              "    <g>\n",
              "        <path d=\"M19 3H5c-1.1 0-2 .9-2 2v14c0 1.1.9 2 2 2h14c1.1 0 2-.9 2-2V5c0-1.1-.9-2-2-2zM9 17H7v-7h2v7zm4 0h-2V7h2v10zm4 0h-2v-4h2v4z\"/>\n",
              "    </g>\n",
              "</svg>\n",
              "  </button>\n",
              "\n",
              "<style>\n",
              "  .colab-df-quickchart {\n",
              "      --bg-color: #E8F0FE;\n",
              "      --fill-color: #1967D2;\n",
              "      --hover-bg-color: #E2EBFA;\n",
              "      --hover-fill-color: #174EA6;\n",
              "      --disabled-fill-color: #AAA;\n",
              "      --disabled-bg-color: #DDD;\n",
              "  }\n",
              "\n",
              "  [theme=dark] .colab-df-quickchart {\n",
              "      --bg-color: #3B4455;\n",
              "      --fill-color: #D2E3FC;\n",
              "      --hover-bg-color: #434B5C;\n",
              "      --hover-fill-color: #FFFFFF;\n",
              "      --disabled-bg-color: #3B4455;\n",
              "      --disabled-fill-color: #666;\n",
              "  }\n",
              "\n",
              "  .colab-df-quickchart {\n",
              "    background-color: var(--bg-color);\n",
              "    border: none;\n",
              "    border-radius: 50%;\n",
              "    cursor: pointer;\n",
              "    display: none;\n",
              "    fill: var(--fill-color);\n",
              "    height: 32px;\n",
              "    padding: 0;\n",
              "    width: 32px;\n",
              "  }\n",
              "\n",
              "  .colab-df-quickchart:hover {\n",
              "    background-color: var(--hover-bg-color);\n",
              "    box-shadow: 0 1px 2px rgba(60, 64, 67, 0.3), 0 1px 3px 1px rgba(60, 64, 67, 0.15);\n",
              "    fill: var(--button-hover-fill-color);\n",
              "  }\n",
              "\n",
              "  .colab-df-quickchart-complete:disabled,\n",
              "  .colab-df-quickchart-complete:disabled:hover {\n",
              "    background-color: var(--disabled-bg-color);\n",
              "    fill: var(--disabled-fill-color);\n",
              "    box-shadow: none;\n",
              "  }\n",
              "\n",
              "  .colab-df-spinner {\n",
              "    border: 2px solid var(--fill-color);\n",
              "    border-color: transparent;\n",
              "    border-bottom-color: var(--fill-color);\n",
              "    animation:\n",
              "      spin 1s steps(1) infinite;\n",
              "  }\n",
              "\n",
              "  @keyframes spin {\n",
              "    0% {\n",
              "      border-color: transparent;\n",
              "      border-bottom-color: var(--fill-color);\n",
              "      border-left-color: var(--fill-color);\n",
              "    }\n",
              "    20% {\n",
              "      border-color: transparent;\n",
              "      border-left-color: var(--fill-color);\n",
              "      border-top-color: var(--fill-color);\n",
              "    }\n",
              "    30% {\n",
              "      border-color: transparent;\n",
              "      border-left-color: var(--fill-color);\n",
              "      border-top-color: var(--fill-color);\n",
              "      border-right-color: var(--fill-color);\n",
              "    }\n",
              "    40% {\n",
              "      border-color: transparent;\n",
              "      border-right-color: var(--fill-color);\n",
              "      border-top-color: var(--fill-color);\n",
              "    }\n",
              "    60% {\n",
              "      border-color: transparent;\n",
              "      border-right-color: var(--fill-color);\n",
              "    }\n",
              "    80% {\n",
              "      border-color: transparent;\n",
              "      border-right-color: var(--fill-color);\n",
              "      border-bottom-color: var(--fill-color);\n",
              "    }\n",
              "    90% {\n",
              "      border-color: transparent;\n",
              "      border-bottom-color: var(--fill-color);\n",
              "    }\n",
              "  }\n",
              "</style>\n",
              "\n",
              "  <script>\n",
              "    async function quickchart(key) {\n",
              "      const quickchartButtonEl =\n",
              "        document.querySelector('#' + key + ' button');\n",
              "      quickchartButtonEl.disabled = true;  // To prevent multiple clicks.\n",
              "      quickchartButtonEl.classList.add('colab-df-spinner');\n",
              "      try {\n",
              "        const charts = await google.colab.kernel.invokeFunction(\n",
              "            'suggestCharts', [key], {});\n",
              "      } catch (error) {\n",
              "        console.error('Error during call to suggestCharts:', error);\n",
              "      }\n",
              "      quickchartButtonEl.classList.remove('colab-df-spinner');\n",
              "      quickchartButtonEl.classList.add('colab-df-quickchart-complete');\n",
              "    }\n",
              "    (() => {\n",
              "      let quickchartButtonEl =\n",
              "        document.querySelector('#df-099b70cd-db77-47f0-b184-32ded4b4cc60 button');\n",
              "      quickchartButtonEl.style.display =\n",
              "        google.colab.kernel.accessAllowed ? 'block' : 'none';\n",
              "    })();\n",
              "  </script>\n",
              "</div>\n",
              "    </div>\n",
              "  </div>\n"
            ]
          },
          "metadata": {},
          "execution_count": 68
        }
      ]
    },
    {
      "cell_type": "markdown",
      "source": [
        "####ㄴ 생존여부와 성별의 관계 분석"
      ],
      "metadata": {
        "id": "hdVLjak74Bdd"
      }
    },
    {
      "cell_type": "code",
      "source": [
        "# 전체 탑승객 중 남여의 빈도수 분석\n",
        "\n",
        "# 시각화\n",
        "sns.countplot(data=df_cleaned,x='Gender')\n",
        "plt.show()\n",
        "\n",
        "# 통계 분석\n",
        "print(f'Gender 컬럼의 남여 빈도수 :\\n{df_cleaned.loc[:,\"Gender\"].value_counts()}\\n')\n",
        "print(f'Gender 컬럼의 남여 비율 :\\n{df_cleaned.loc[:,\"Gender\"].value_counts(normalize=True)}\\n')"
      ],
      "metadata": {
        "colab": {
          "base_uri": "https://localhost:8080/",
          "height": 633
        },
        "id": "V3Xh-C8Q38tl",
        "outputId": "753ef2f4-1d65-4a5a-9575-89b8776e0a46"
      },
      "execution_count": null,
      "outputs": [
        {
          "output_type": "display_data",
          "data": {
            "text/plain": [
              "<Figure size 640x480 with 1 Axes>"
            ],
            "image/png": "[encoded data removed]"
          },
          "metadata": {}
        },
        {
          "output_type": "stream",
          "name": "stdout",
          "text": [
            "Gender 컬럼의 남여 빈도수 :\n",
            "1    843\n",
            "0    466\n",
            "Name: Gender, dtype: int64\n",
            "\n",
            "Gender 컬럼의 남여 비율 :\n",
            "1    0.644003\n",
            "0    0.355997\n",
            "Name: Gender, dtype: float64\n",
            "\n"
          ]
        }
      ]
    },
    {
      "cell_type": "code",
      "source": [
        "# Survived 컬럼과 Gender 컬럼의 관계(1)\n",
        "\n",
        "# 시각화\n",
        "sns.countplot(data=df_cleaned,x='Survived', hue='Gender')\n",
        "plt.show()\n",
        "\n",
        "# 생존자 / 사망자의 성별 분석\n",
        "cond = df_cleaned.loc[:,'Survived'] == 0\n",
        "# print(f'사망자중 여성/남성의 빈도수 :\\n{df_cleaned.loc[cond,\"Gender\"].value_counts()}\\n')\n",
        "# print(f'사망자중 여성/남성의 비율 :\\n{df_cleaned.loc[cond,\"Gender\"].value_counts(normalize=True)}\\n')\n",
        "# print(f'생존자중 여성/남성의 빈도수 :\\n{df_cleaned.loc[~cond,\"Gender\"].value_counts()}\\n')\n",
        "# print(f'생존자중 여성/남성의 비율 :\\n{df_cleaned.loc[~cond,\"Gender\"].value_counts(normalize=True)}\\n')\n",
        "\n",
        "df_SG = pd.concat([df_cleaned.loc[cond,\"Gender\"].value_counts(ascending=True),\n",
        "                   df_cleaned.loc[cond,\"Gender\"].value_counts(normalize=True,ascending=True),\n",
        "                   df_cleaned.loc[~cond,\"Gender\"].value_counts(ascending=True),\n",
        "                   df_cleaned.loc[~cond,\"Gender\"].value_counts(normalize=True,ascending=True)],\n",
        "                  axis=1)\n",
        "df_SG.columns = ['사망자 빈도수','사망자 비율','생존자 빈도수','생존자 비율']\n",
        "df_SG.index = ['여성','남성']\n",
        "\n",
        "df_SG"
      ],
      "metadata": {
        "colab": {
          "base_uri": "https://localhost:8080/",
          "height": 544
        },
        "id": "Pp-b-lQK7GV0",
        "outputId": "e7deea24-29cb-4e29-e3fa-dfb758910ee4"
      },
      "execution_count": null,
      "outputs": [
        {
          "output_type": "display_data",
          "data": {
            "text/plain": [
              "<Figure size 640x480 with 1 Axes>"
            ],
            "image/png": "[encoded data removed]"
          },
          "metadata": {}
        },
        {
          "output_type": "execute_result",
          "data": {
            "text/plain": [
              "    사망자 빈도수    사망자 비율  생존자 빈도수    생존자 비율\n",
              "여성       81  0.099387      385  0.779352\n",
              "남성      734  0.900613      109  0.220648"
            ],
            "text/html": [
              "\n",
              "  <div id=\"df-66253b22-0e6d-42ce-a793-d219b1a98fc0\" class=\"colab-df-container\">\n",
              "    <div>\n",
              "<style scoped>\n",
              "    .dataframe tbody tr th:only-of-type {\n",
              "        vertical-align: middle;\n",
              "    }\n",
              "\n",
              "    .dataframe tbody tr th {\n",
              "        vertical-align: top;\n",
              "    }\n",
              "\n",
              "    .dataframe thead th {\n",
              "        text-align: right;\n",
              "    }\n",
              "</style>\n",
              "<table border=\"1\" class=\"dataframe\">\n",
              "  <thead>\n",
              "    <tr style=\"text-align: right;\">\n",
              "      <th></th>\n",
              "      <th>사망자 빈도수</th>\n",
              "      <th>사망자 비율</th>\n",
              "      <th>생존자 빈도수</th>\n",
              "      <th>생존자 비율</th>\n",
              "    </tr>\n",
              "  </thead>\n",
              "  <tbody>\n",
              "    <tr>\n",
              "      <th>여성</th>\n",
              "      <td>81</td>\n",
              "      <td>0.099387</td>\n",
              "      <td>385</td>\n",
              "      <td>0.779352</td>\n",
              "    </tr>\n",
              "    <tr>\n",
              "      <th>남성</th>\n",
              "      <td>734</td>\n",
              "      <td>0.900613</td>\n",
              "      <td>109</td>\n",
              "      <td>0.220648</td>\n",
              "    </tr>\n",
              "  </tbody>\n",
              "</table>\n",
              "</div>\n",
              "    <div class=\"colab-df-buttons\">\n",
              "\n",
              "  <div class=\"colab-df-container\">\n",
              "    <button class=\"colab-df-convert\" onclick=\"convertToInteractive('df-66253b22-0e6d-42ce-a793-d219b1a98fc0')\"\n",
              "            title=\"Convert this dataframe to an interactive table.\"\n",
              "            style=\"display:none;\">\n",
              "\n",
              "  <svg xmlns=\"http://www.w3.org/2000/svg\" height=\"24px\" viewBox=\"0 -960 960 960\">\n",
              "    <path d=\"M120-120v-720h720v720H120Zm60-500h600v-160H180v160Zm220 220h160v-160H400v160Zm0 220h160v-160H400v160ZM180-400h160v-160H180v160Zm440 0h160v-160H620v160ZM180-180h160v-160H180v160Zm440 0h160v-160H620v160Z\"/>\n",
              "  </svg>\n",
              "    </button>\n",
              "\n",
              "  <style>\n",
              "    .colab-df-container {\n",
              "      display:flex;\n",
              "      gap: 12px;\n",
              "    }\n",
              "\n",
              "    .colab-df-convert {\n",
              "      background-color: #E8F0FE;\n",
              "      border: none;\n",
              "      border-radius: 50%;\n",
              "      cursor: pointer;\n",
              "      display: none;\n",
              "      fill: #1967D2;\n",
              "      height: 32px;\n",
              "      padding: 0 0 0 0;\n",
              "      width: 32px;\n",
              "    }\n",
              "\n",
              "    .colab-df-convert:hover {\n",
              "      background-color: #E2EBFA;\n",
              "      box-shadow: 0px 1px 2px rgba(60, 64, 67, 0.3), 0px 1px 3px 1px rgba(60, 64, 67, 0.15);\n",
              "      fill: #174EA6;\n",
              "    }\n",
              "\n",
              "    .colab-df-buttons div {\n",
              "      margin-bottom: 4px;\n",
              "    }\n",
              "\n",
              "    [theme=dark] .colab-df-convert {\n",
              "      background-color: #3B4455;\n",
              "      fill: #D2E3FC;\n",
              "    }\n",
              "\n",
              "    [theme=dark] .colab-df-convert:hover {\n",
              "      background-color: #434B5C;\n",
              "      box-shadow: 0px 1px 3px 1px rgba(0, 0, 0, 0.15);\n",
              "      filter: drop-shadow(0px 1px 2px rgba(0, 0, 0, 0.3));\n",
              "      fill: #FFFFFF;\n",
              "    }\n",
              "  </style>\n",
              "\n",
              "    <script>\n",
              "      const buttonEl =\n",
              "        document.querySelector('#df-66253b22-0e6d-42ce-a793-d219b1a98fc0 button.colab-df-convert');\n",
              "      buttonEl.style.display =\n",
              "        google.colab.kernel.accessAllowed ? 'block' : 'none';\n",
              "\n",
              "      async function convertToInteractive(key) {\n",
              "        const element = document.querySelector('#df-66253b22-0e6d-42ce-a793-d219b1a98fc0');\n",
              "        const dataTable =\n",
              "          await google.colab.kernel.invokeFunction('convertToInteractive',\n",
              "                                                    [key], {});\n",
              "        if (!dataTable) return;\n",
              "\n",
              "        const docLinkHtml = 'Like what you see? Visit the ' +\n",
              "          '<a target=\"_blank\" href=https://colab.research.google.com/notebooks/data_table.ipynb>data table notebook</a>'\n",
              "          + ' to learn more about interactive tables.';\n",
              "        element.innerHTML = '';\n",
              "        dataTable['output_type'] = 'display_data';\n",
              "        await google.colab.output.renderOutput(dataTable, element);\n",
              "        const docLink = document.createElement('div');\n",
              "        docLink.innerHTML = docLinkHtml;\n",
              "        element.appendChild(docLink);\n",
              "      }\n",
              "    </script>\n",
              "  </div>\n",
              "\n",
              "\n",
              "<div id=\"df-9ddc3215-2b9c-4522-8149-6b3a1a84d88d\">\n",
              "  <button class=\"colab-df-quickchart\" onclick=\"quickchart('df-9ddc3215-2b9c-4522-8149-6b3a1a84d88d')\"\n",
              "            title=\"Suggest charts\"\n",
              "            style=\"display:none;\">\n",
              "\n",
              "<svg xmlns=\"http://www.w3.org/2000/svg\" height=\"24px\"viewBox=\"0 0 24 24\"\n",
              "     width=\"24px\">\n",
              "    <g>\n",
              "        <path d=\"M19 3H5c-1.1 0-2 .9-2 2v14c0 1.1.9 2 2 2h14c1.1 0 2-.9 2-2V5c0-1.1-.9-2-2-2zM9 17H7v-7h2v7zm4 0h-2V7h2v10zm4 0h-2v-4h2v4z\"/>\n",
              "    </g>\n",
              "</svg>\n",
              "  </button>\n",
              "\n",
              "<style>\n",
              "  .colab-df-quickchart {\n",
              "      --bg-color: #E8F0FE;\n",
              "      --fill-color: #1967D2;\n",
              "      --hover-bg-color: #E2EBFA;\n",
              "      --hover-fill-color: #174EA6;\n",
              "      --disabled-fill-color: #AAA;\n",
              "      --disabled-bg-color: #DDD;\n",
              "  }\n",
              "\n",
              "  [theme=dark] .colab-df-quickchart {\n",
              "      --bg-color: #3B4455;\n",
              "      --fill-color: #D2E3FC;\n",
              "      --hover-bg-color: #434B5C;\n",
              "      --hover-fill-color: #FFFFFF;\n",
              "      --disabled-bg-color: #3B4455;\n",
              "      --disabled-fill-color: #666;\n",
              "  }\n",
              "\n",
              "  .colab-df-quickchart {\n",
              "    background-color: var(--bg-color);\n",
              "    border: none;\n",
              "    border-radius: 50%;\n",
              "    cursor: pointer;\n",
              "    display: none;\n",
              "    fill: var(--fill-color);\n",
              "    height: 32px;\n",
              "    padding: 0;\n",
              "    width: 32px;\n",
              "  }\n",
              "\n",
              "  .colab-df-quickchart:hover {\n",
              "    background-color: var(--hover-bg-color);\n",
              "    box-shadow: 0 1px 2px rgba(60, 64, 67, 0.3), 0 1px 3px 1px rgba(60, 64, 67, 0.15);\n",
              "    fill: var(--button-hover-fill-color);\n",
              "  }\n",
              "\n",
              "  .colab-df-quickchart-complete:disabled,\n",
              "  .colab-df-quickchart-complete:disabled:hover {\n",
              "    background-color: var(--disabled-bg-color);\n",
              "    fill: var(--disabled-fill-color);\n",
              "    box-shadow: none;\n",
              "  }\n",
              "\n",
              "  .colab-df-spinner {\n",
              "    border: 2px solid var(--fill-color);\n",
              "    border-color: transparent;\n",
              "    border-bottom-color: var(--fill-color);\n",
              "    animation:\n",
              "      spin 1s steps(1) infinite;\n",
              "  }\n",
              "\n",
              "  @keyframes spin {\n",
              "    0% {\n",
              "      border-color: transparent;\n",
              "      border-bottom-color: var(--fill-color);\n",
              "      border-left-color: var(--fill-color);\n",
              "    }\n",
              "    20% {\n",
              "      border-color: transparent;\n",
              "      border-left-color: var(--fill-color);\n",
              "      border-top-color: var(--fill-color);\n",
              "    }\n",
              "    30% {\n",
              "      border-color: transparent;\n",
              "      border-left-color: var(--fill-color);\n",
              "      border-top-color: var(--fill-color);\n",
              "      border-right-color: var(--fill-color);\n",
              "    }\n",
              "    40% {\n",
              "      border-color: transparent;\n",
              "      border-right-color: var(--fill-color);\n",
              "      border-top-color: var(--fill-color);\n",
              "    }\n",
              "    60% {\n",
              "      border-color: transparent;\n",
              "      border-right-color: var(--fill-color);\n",
              "    }\n",
              "    80% {\n",
              "      border-color: transparent;\n",
              "      border-right-color: var(--fill-color);\n",
              "      border-bottom-color: var(--fill-color);\n",
              "    }\n",
              "    90% {\n",
              "      border-color: transparent;\n",
              "      border-bottom-color: var(--fill-color);\n",
              "    }\n",
              "  }\n",
              "</style>\n",
              "\n",
              "  <script>\n",
              "    async function quickchart(key) {\n",
              "      const quickchartButtonEl =\n",
              "        document.querySelector('#' + key + ' button');\n",
              "      quickchartButtonEl.disabled = true;  // To prevent multiple clicks.\n",
              "      quickchartButtonEl.classList.add('colab-df-spinner');\n",
              "      try {\n",
              "        const charts = await google.colab.kernel.invokeFunction(\n",
              "            'suggestCharts', [key], {});\n",
              "      } catch (error) {\n",
              "        console.error('Error during call to suggestCharts:', error);\n",
              "      }\n",
              "      quickchartButtonEl.classList.remove('colab-df-spinner');\n",
              "      quickchartButtonEl.classList.add('colab-df-quickchart-complete');\n",
              "    }\n",
              "    (() => {\n",
              "      let quickchartButtonEl =\n",
              "        document.querySelector('#df-9ddc3215-2b9c-4522-8149-6b3a1a84d88d button');\n",
              "      quickchartButtonEl.style.display =\n",
              "        google.colab.kernel.accessAllowed ? 'block' : 'none';\n",
              "    })();\n",
              "  </script>\n",
              "</div>\n",
              "    </div>\n",
              "  </div>\n"
            ]
          },
          "metadata": {},
          "execution_count": 70
        }
      ]
    },
    {
      "cell_type": "code",
      "source": [
        "# Survived 컬럼과 Gender 컬럼의 관계(2)\n",
        "\n",
        "# 시각화\n",
        "sns.countplot(data=df_cleaned,x='Gender', hue='Survived')\n",
        "plt.show()\n",
        "\n",
        "# 생존자 / 사망자의 성별 분석\n",
        "cond = df_cleaned.loc[:,'Gender'] == 0  # <-- female(0), male(1)\n",
        "# print(f'여성중 생존자/사망자의 비율 :\\n{df_cleaned.loc[cond,\"Survived\"].value_counts()}\\n')\n",
        "# print(f'여성중 생존자/사망자의 비율 :\\n{df_cleaned.loc[cond,\"Survived\"].value_counts(normalize=True)}\\n')\n",
        "# print(f'남성중 생존자/사망자의 비율 :\\n{df_cleaned.loc[~cond,\"Survived\"].value_counts()}\\n')\n",
        "# print(f'남성중 생존자/사망자의 비율 :\\n{df_cleaned.loc[~cond,\"Survived\"].value_counts(normalize=True)}\\n')\n",
        "\n",
        "df_GS = pd.concat([df_cleaned.loc[cond,\"Survived\"].value_counts(ascending=True),\n",
        "                   df_cleaned.loc[cond,\"Survived\"].value_counts(normalize=True,ascending=True),\n",
        "                   df_cleaned.loc[~cond,\"Survived\"].value_counts(),\n",
        "                   df_cleaned.loc[~cond,\"Survived\"].value_counts(normalize=True)],\n",
        "                  axis =1)\n",
        "df_GS.columns = ['여성 빈도수','여성 비율','남성 빈도수','남성 비율']\n",
        "df_GS.index = ['사망자','생존자']\n",
        "df_GS"
      ],
      "metadata": {
        "colab": {
          "base_uri": "https://localhost:8080/",
          "height": 544
        },
        "id": "80ljSJ6Z7PQb",
        "outputId": "02bfac8c-ab18-4ca6-fcab-58988f0f07d8"
      },
      "execution_count": null,
      "outputs": [
        {
          "output_type": "display_data",
          "data": {
            "text/plain": [
              "<Figure size 640x480 with 1 Axes>"
            ],
            "image/png": "[encoded data removed]"
          },
          "metadata": {}
        },
        {
          "output_type": "execute_result",
          "data": {
            "text/plain": [
              "     여성 빈도수    여성 비율  남성 빈도수   남성 비율\n",
              "사망자      81  0.17382     734  0.8707\n",
              "생존자     385  0.82618     109  0.1293"
            ],
            "text/html": [
              "\n",
              "  <div id=\"df-514d78bf-34a3-4692-975a-c582089256ea\" class=\"colab-df-container\">\n",
              "    <div>\n",
              "<style scoped>\n",
              "    .dataframe tbody tr th:only-of-type {\n",
              "        vertical-align: middle;\n",
              "    }\n",
              "\n",
              "    .dataframe tbody tr th {\n",
              "        vertical-align: top;\n",
              "    }\n",
              "\n",
              "    .dataframe thead th {\n",
              "        text-align: right;\n",
              "    }\n",
              "</style>\n",
              "<table border=\"1\" class=\"dataframe\">\n",
              "  <thead>\n",
              "    <tr style=\"text-align: right;\">\n",
              "      <th></th>\n",
              "      <th>여성 빈도수</th>\n",
              "      <th>여성 비율</th>\n",
              "      <th>남성 빈도수</th>\n",
              "      <th>남성 비율</th>\n",
              "    </tr>\n",
              "  </thead>\n",
              "  <tbody>\n",
              "    <tr>\n",
              "      <th>사망자</th>\n",
              "      <td>81</td>\n",
              "      <td>0.17382</td>\n",
              "      <td>734</td>\n",
              "      <td>0.8707</td>\n",
              "    </tr>\n",
              "    <tr>\n",
              "      <th>생존자</th>\n",
              "      <td>385</td>\n",
              "      <td>0.82618</td>\n",
              "      <td>109</td>\n",
              "      <td>0.1293</td>\n",
              "    </tr>\n",
              "  </tbody>\n",
              "</table>\n",
              "</div>\n",
              "    <div class=\"colab-df-buttons\">\n",
              "\n",
              "  <div class=\"colab-df-container\">\n",
              "    <button class=\"colab-df-convert\" onclick=\"convertToInteractive('df-514d78bf-34a3-4692-975a-c582089256ea')\"\n",
              "            title=\"Convert this dataframe to an interactive table.\"\n",
              "            style=\"display:none;\">\n",
              "\n",
              "  <svg xmlns=\"http://www.w3.org/2000/svg\" height=\"24px\" viewBox=\"0 -960 960 960\">\n",
              "    <path d=\"M120-120v-720h720v720H120Zm60-500h600v-160H180v160Zm220 220h160v-160H400v160Zm0 220h160v-160H400v160ZM180-400h160v-160H180v160Zm440 0h160v-160H620v160ZM180-180h160v-160H180v160Zm440 0h160v-160H620v160Z\"/>\n",
              "  </svg>\n",
              "    </button>\n",
              "\n",
              "  <style>\n",
              "    .colab-df-container {\n",
              "      display:flex;\n",
              "      gap: 12px;\n",
              "    }\n",
              "\n",
              "    .colab-df-convert {\n",
              "      background-color: #E8F0FE;\n",
              "      border: none;\n",
              "      border-radius: 50%;\n",
              "      cursor: pointer;\n",
              "      display: none;\n",
              "      fill: #1967D2;\n",
              "      height: 32px;\n",
              "      padding: 0 0 0 0;\n",
              "      width: 32px;\n",
              "    }\n",
              "\n",
              "    .colab-df-convert:hover {\n",
              "      background-color: #E2EBFA;\n",
              "      box-shadow: 0px 1px 2px rgba(60, 64, 67, 0.3), 0px 1px 3px 1px rgba(60, 64, 67, 0.15);\n",
              "      fill: #174EA6;\n",
              "    }\n",
              "\n",
              "    .colab-df-buttons div {\n",
              "      margin-bottom: 4px;\n",
              "    }\n",
              "\n",
              "    [theme=dark] .colab-df-convert {\n",
              "      background-color: #3B4455;\n",
              "      fill: #D2E3FC;\n",
              "    }\n",
              "\n",
              "    [theme=dark] .colab-df-convert:hover {\n",
              "      background-color: #434B5C;\n",
              "      box-shadow: 0px 1px 3px 1px rgba(0, 0, 0, 0.15);\n",
              "      filter: drop-shadow(0px 1px 2px rgba(0, 0, 0, 0.3));\n",
              "      fill: #FFFFFF;\n",
              "    }\n",
              "  </style>\n",
              "\n",
              "    <script>\n",
              "      const buttonEl =\n",
              "        document.querySelector('#df-514d78bf-34a3-4692-975a-c582089256ea button.colab-df-convert');\n",
              "      buttonEl.style.display =\n",
              "        google.colab.kernel.accessAllowed ? 'block' : 'none';\n",
              "\n",
              "      async function convertToInteractive(key) {\n",
              "        const element = document.querySelector('#df-514d78bf-34a3-4692-975a-c582089256ea');\n",
              "        const dataTable =\n",
              "          await google.colab.kernel.invokeFunction('convertToInteractive',\n",
              "                                                    [key], {});\n",
              "        if (!dataTable) return;\n",
              "\n",
              "        const docLinkHtml = 'Like what you see? Visit the ' +\n",
              "          '<a target=\"_blank\" href=https://colab.research.google.com/notebooks/data_table.ipynb>data table notebook</a>'\n",
              "          + ' to learn more about interactive tables.';\n",
              "        element.innerHTML = '';\n",
              "        dataTable['output_type'] = 'display_data';\n",
              "        await google.colab.output.renderOutput(dataTable, element);\n",
              "        const docLink = document.createElement('div');\n",
              "        docLink.innerHTML = docLinkHtml;\n",
              "        element.appendChild(docLink);\n",
              "      }\n",
              "    </script>\n",
              "  </div>\n",
              "\n",
              "\n",
              "<div id=\"df-cc94eb0b-18a1-4b31-98db-fa89d7d2b1c9\">\n",
              "  <button class=\"colab-df-quickchart\" onclick=\"quickchart('df-cc94eb0b-18a1-4b31-98db-fa89d7d2b1c9')\"\n",
              "            title=\"Suggest charts\"\n",
              "            style=\"display:none;\">\n",
              "\n",
              "<svg xmlns=\"http://www.w3.org/2000/svg\" height=\"24px\"viewBox=\"0 0 24 24\"\n",
              "     width=\"24px\">\n",
              "    <g>\n",
              "        <path d=\"M19 3H5c-1.1 0-2 .9-2 2v14c0 1.1.9 2 2 2h14c1.1 0 2-.9 2-2V5c0-1.1-.9-2-2-2zM9 17H7v-7h2v7zm4 0h-2V7h2v10zm4 0h-2v-4h2v4z\"/>\n",
              "    </g>\n",
              "</svg>\n",
              "  </button>\n",
              "\n",
              "<style>\n",
              "  .colab-df-quickchart {\n",
              "      --bg-color: #E8F0FE;\n",
              "      --fill-color: #1967D2;\n",
              "      --hover-bg-color: #E2EBFA;\n",
              "      --hover-fill-color: #174EA6;\n",
              "      --disabled-fill-color: #AAA;\n",
              "      --disabled-bg-color: #DDD;\n",
              "  }\n",
              "\n",
              "  [theme=dark] .colab-df-quickchart {\n",
              "      --bg-color: #3B4455;\n",
              "      --fill-color: #D2E3FC;\n",
              "      --hover-bg-color: #434B5C;\n",
              "      --hover-fill-color: #FFFFFF;\n",
              "      --disabled-bg-color: #3B4455;\n",
              "      --disabled-fill-color: #666;\n",
              "  }\n",
              "\n",
              "  .colab-df-quickchart {\n",
              "    background-color: var(--bg-color);\n",
              "    border: none;\n",
              "    border-radius: 50%;\n",
              "    cursor: pointer;\n",
              "    display: none;\n",
              "    fill: var(--fill-color);\n",
              "    height: 32px;\n",
              "    padding: 0;\n",
              "    width: 32px;\n",
              "  }\n",
              "\n",
              "  .colab-df-quickchart:hover {\n",
              "    background-color: var(--hover-bg-color);\n",
              "    box-shadow: 0 1px 2px rgba(60, 64, 67, 0.3), 0 1px 3px 1px rgba(60, 64, 67, 0.15);\n",
              "    fill: var(--button-hover-fill-color);\n",
              "  }\n",
              "\n",
              "  .colab-df-quickchart-complete:disabled,\n",
              "  .colab-df-quickchart-complete:disabled:hover {\n",
              "    background-color: var(--disabled-bg-color);\n",
              "    fill: var(--disabled-fill-color);\n",
              "    box-shadow: none;\n",
              "  }\n",
              "\n",
              "  .colab-df-spinner {\n",
              "    border: 2px solid var(--fill-color);\n",
              "    border-color: transparent;\n",
              "    border-bottom-color: var(--fill-color);\n",
              "    animation:\n",
              "      spin 1s steps(1) infinite;\n",
              "  }\n",
              "\n",
              "  @keyframes spin {\n",
              "    0% {\n",
              "      border-color: transparent;\n",
              "      border-bottom-color: var(--fill-color);\n",
              "      border-left-color: var(--fill-color);\n",
              "    }\n",
              "    20% {\n",
              "      border-color: transparent;\n",
              "      border-left-color: var(--fill-color);\n",
              "      border-top-color: var(--fill-color);\n",
              "    }\n",
              "    30% {\n",
              "      border-color: transparent;\n",
              "      border-left-color: var(--fill-color);\n",
              "      border-top-color: var(--fill-color);\n",
              "      border-right-color: var(--fill-color);\n",
              "    }\n",
              "    40% {\n",
              "      border-color: transparent;\n",
              "      border-right-color: var(--fill-color);\n",
              "      border-top-color: var(--fill-color);\n",
              "    }\n",
              "    60% {\n",
              "      border-color: transparent;\n",
              "      border-right-color: var(--fill-color);\n",
              "    }\n",
              "    80% {\n",
              "      border-color: transparent;\n",
              "      border-right-color: var(--fill-color);\n",
              "      border-bottom-color: var(--fill-color);\n",
              "    }\n",
              "    90% {\n",
              "      border-color: transparent;\n",
              "      border-bottom-color: var(--fill-color);\n",
              "    }\n",
              "  }\n",
              "</style>\n",
              "\n",
              "  <script>\n",
              "    async function quickchart(key) {\n",
              "      const quickchartButtonEl =\n",
              "        document.querySelector('#' + key + ' button');\n",
              "      quickchartButtonEl.disabled = true;  // To prevent multiple clicks.\n",
              "      quickchartButtonEl.classList.add('colab-df-spinner');\n",
              "      try {\n",
              "        const charts = await google.colab.kernel.invokeFunction(\n",
              "            'suggestCharts', [key], {});\n",
              "      } catch (error) {\n",
              "        console.error('Error during call to suggestCharts:', error);\n",
              "      }\n",
              "      quickchartButtonEl.classList.remove('colab-df-spinner');\n",
              "      quickchartButtonEl.classList.add('colab-df-quickchart-complete');\n",
              "    }\n",
              "    (() => {\n",
              "      let quickchartButtonEl =\n",
              "        document.querySelector('#df-cc94eb0b-18a1-4b31-98db-fa89d7d2b1c9 button');\n",
              "      quickchartButtonEl.style.display =\n",
              "        google.colab.kernel.accessAllowed ? 'block' : 'none';\n",
              "    })();\n",
              "  </script>\n",
              "</div>\n",
              "    </div>\n",
              "  </div>\n"
            ]
          },
          "metadata": {},
          "execution_count": 71
        }
      ]
    },
    {
      "cell_type": "markdown",
      "source": [
        "####ㄴ 생존여부와 연령의 관계 분석"
      ],
      "metadata": {
        "id": "nCToD8IR7LOG"
      }
    },
    {
      "cell_type": "code",
      "source": [
        "# 탑승객의 연령 분석\n",
        "# df_cleaned.Age2.value_counts()\n",
        "sns.countplot(data=df_cleaned,x='Age2')\n",
        "plt.show()"
      ],
      "metadata": {
        "colab": {
          "base_uri": "https://localhost:8080/",
          "height": 449
        },
        "id": "kJ11Izfe7tQf",
        "outputId": "90bc51fb-2da6-40c6-995a-c6787489d6b8"
      },
      "execution_count": null,
      "outputs": [
        {
          "output_type": "display_data",
          "data": {
            "text/plain": [
              "<Figure size 640x480 with 1 Axes>"
            ],
            "image/png": "[encoded data removed]"
          },
          "metadata": {}
        }
      ]
    },
    {
      "cell_type": "code",
      "source": [
        "# 탑승객의 연령 분석\n",
        "\n",
        "# 탑승객의 연령별 빈도수 추출\n",
        "print(f'탑승객의 연령별 빈도수 :\\n{df_cleaned.Age2.value_counts(ascending=True)}\\n')\n",
        "print(f'탑승객의 연령별 비율 :\\n{df_cleaned.Age2.value_counts(normalize=True,ascending=True)}\\n')\n",
        "\n",
        "df_Age3 = pd.concat([df_cleaned.Age2.value_counts(ascending=True),\n",
        "                     df_cleaned.Age2.value_counts(normalize=True,ascending=True)],\n",
        "                    axis=1)\n",
        "df_Age3.columns = ['탑승객의 연령별 빈도수','탑승객의 연령별 비율']\n",
        "\n",
        "df_Age3"
      ],
      "metadata": {
        "id": "nRYZ3HS3-nbR"
      },
      "execution_count": null,
      "outputs": []
    },
    {
      "cell_type": "code",
      "source": [
        "# Survived 컬럼과 Age2 컬럼과의 관계 분석(1)\n",
        "\n",
        "sns.countplot(data=df_cleaned,x='Survived',hue='Age2')\n",
        "plt.show()"
      ],
      "metadata": {
        "id": "LSFyadO-AoR7"
      },
      "execution_count": null,
      "outputs": []
    },
    {
      "cell_type": "code",
      "source": [
        "# Survived 컬럼과 Age2 컬럼과의 관계 분석(1)\n",
        "\n",
        "# 대상 : 사망자\n",
        "cond = df_cleaned.loc[:,'Survived'] == 0\n",
        "# 사망자의 연령별 빈도수 추출\n",
        "print(f'사망자의 연령별 빈도수 추출 :\\n{df_cleaned.loc[cond,\"Age2\"].value_counts()}\\n')\n",
        "# 사망자의 연령별 비율 추출\n",
        "print(f'사망자의 연령별 비율 추출 :\\n{df_cleaned.loc[cond,\"Age2\"].value_counts(normalize=True)}\\n')\n",
        "# 대상 : 생존자\n",
        "\n",
        "# 생존자의 연령별 빈도수 추출\n",
        "print(f'생존자의 연령별 빈도수 추출 :\\n{df_cleaned.loc[~cond,\"Age2\"].value_counts()}\\n')\n",
        "# 생존자의 연령별 비율 추출\n",
        "print(f'생존자의 연령별 비율 추출 :\\n{df_cleaned.loc[~cond,\"Age2\"].value_counts(normalize=True)}\\n')"
      ],
      "metadata": {
        "id": "GkXFOqM4BfKP"
      },
      "execution_count": null,
      "outputs": []
    },
    {
      "cell_type": "code",
      "source": [
        "# Survived 컬럼과 Age2 컬럼과의 관계 분석(2)\n",
        "sns.countplot(data=df_cleaned,x='Age2',hue='Survived')\n",
        "plt.show()\n",
        "\n",
        "# # 대상 : 사망자\n",
        "# cond = df_cleaned.loc[:,'Survived'] == 0\n",
        "# # 사망자의 연령별 빈도수 추출\n",
        "# print(f'사망자의 연령별 빈도수 추출 :\\n{df_cleaned.loc[cond,\"Age2\"].value_counts()}\\n')\n",
        "# # 사망자의 연령별 비율 추출\n",
        "# print(f'사망자의 연령별 비율 추출 :\\n{df_cleaned.loc[cond,\"Age2\"].value_counts(normalize=True)}\\n')\n",
        "# # 대상 : 생존자\n",
        "\n",
        "# # 생존자의 연령별 빈도수 추출\n",
        "# print(f'생존자의 연령별 빈도수 추출 :\\n{df_cleaned.loc[~cond,\"Age2\"].value_counts()}\\n')\n",
        "# # 생존자의 연령별 비율 추출\n",
        "# print(f'생존자의 연령별 비율 추출 :\\n{df_cleaned.loc[~cond,\"Age2\"].value_counts(normalize=True)}\\n')"
      ],
      "metadata": {
        "id": "K37dG1ACFPsd"
      },
      "execution_count": null,
      "outputs": []
    },
    {
      "cell_type": "markdown",
      "source": [
        "#####: 10,20,30대의 생존여부 추가분석"
      ],
      "metadata": {
        "id": "mprmLBSzGlF8"
      }
    },
    {
      "cell_type": "code",
      "source": [
        "# 전체 탑승객 중 사망자 / 생존자 비율 --> 62.3% : 37.7%\n",
        "\n",
        "# 대상 : 20대\n",
        "cond2 = df_cleaned.loc[:,'Age2']==2\n",
        "# # 20대중 사망자 / 생존자 빈도수 추출\n",
        "# print(f'20대중 사망자 / 생존자 빈도수 추출 :\\n{df_cleaned.loc[cond2,\"Survived\"].value_counts()}\\n')\n",
        "# # 20대중 사망자 / 생존자 비율 추출\n",
        "# print(f'20대중 사망자 / 생존자 빈도수 추출 :\\n{df_cleaned.loc[cond2,\"Survived\"].value_counts(normalize=True)}\\n')\n",
        "\n",
        "# 대상 : 30대\n",
        "cond3 = df_cleaned.loc[:,'Age2']==3\n",
        "# # 30대중 사망자 / 생존자 빈도수 추출\n",
        "# print(f'30대중 사망자 / 생존자 빈도수 추출 :\\n{df_cleaned.loc[cond3,\"Survived\"].value_counts()}\\n')\n",
        "# # 30대중 사망자 / 생존자 비율 추출\n",
        "# print(f'30대중 사망자 / 생존자 빈도수 추출 :\\n{df_cleaned.loc[cond3,\"Survived\"].value_counts(normalize=True)}\\n')\n",
        "\n",
        "# 대상 : 10대\n",
        "cond1 = df_cleaned.loc[:,'Age2']==1\n",
        "# # 10대중 사망자 / 생존자 빈도수 추출\n",
        "# print(f'10대중 사망자 / 생존자 빈도수 추출 :\\n{df_cleaned.loc[cond1,\"Survived\"].value_counts()}\\n')\n",
        "# # 10대중 사망자 / 생존자 비율 추출\n",
        "# print(f'10대중 사망자 / 생존자 빈도수 추출 :\\n{df_cleaned.loc[cond1,\"Survived\"].value_counts(normalize=True)}\\n')\n",
        "\n",
        "df_123Age = pd.concat([df_cleaned.loc[cond1,\"Survived\"].value_counts(),\n",
        "                       df_cleaned.loc[cond1,\"Survived\"].value_counts(normalize=True),\n",
        "                       df_cleaned.loc[cond2,\"Survived\"].value_counts(),\n",
        "                       df_cleaned.loc[cond2,\"Survived\"].value_counts(normalize=True),\n",
        "                       df_cleaned.loc[cond3,\"Survived\"].value_counts(),\n",
        "                       df_cleaned.loc[cond3,\"Survived\"].value_counts(normalize=True)],\n",
        "                      axis=1)\n",
        "\n",
        "df_123Age.columns = ['10대 빈도수','10대 비율','20대 빈도수','20대 비율','30대 빈도수','30대 비율']\n",
        "df_123Age.index = ['사망자','생존자']\n",
        "\n",
        "df_123Age"
      ],
      "metadata": {
        "id": "oiBULctYGpOr"
      },
      "execution_count": null,
      "outputs": []
    },
    {
      "cell_type": "markdown",
      "source": [
        "####ㄴ 성별과 연령의 관계 분석"
      ],
      "metadata": {
        "id": "EJxafoLdZ9_d"
      }
    },
    {
      "cell_type": "code",
      "source": [
        "# Gender 컬럼과 Age2 컬럼의 관계 확인(1)\n",
        "sns.countplot(data=df_cleaned,x='Gender',hue='Age2')\n",
        "plt.show()\n",
        "\n",
        "# 남여의 연령 분석\n",
        "\n",
        "# 대상 : 여성\n",
        "cond = df_cleaned.loc[:,'Gender'] == 0\n",
        "# 여성의 연령별 빈도수 추출\n",
        "print(f'여성의 연령별 빈도수 추출 :\\n{df_cleaned.loc[cond,\"Age2\"].value_counts()}\\n')\n",
        "# 여성의 연령별 비율 추출\n",
        "print(f'여성의 연령별 비율 추출 :\\n{df_cleaned.loc[cond,\"Age2\"].value_counts(normalize=True)}\\n')\n",
        "\n",
        "# 대상 : 남성\n",
        "# 남성의 연령별 빈도수 추출\n",
        "print(f'여성의 연령별 빈도수 추출 :\\n{df_cleaned.loc[~cond,\"Age2\"].value_counts()}\\n')\n",
        "# 남성의 연령별 비율 추출\n",
        "print(f'여성의 연령별 비율 추출 :\\n{df_cleaned.loc[~cond,\"Age2\"].value_counts(normalize=True)}\\n')"
      ],
      "metadata": {
        "id": "n6KNqCKzaC2X"
      },
      "execution_count": null,
      "outputs": []
    },
    {
      "cell_type": "code",
      "source": [
        "# Gender 컬럼과 Age2 컬럼의 관계 확인(2)\n",
        "sns.countplot(data=df_cleaned,x='Age2',hue='Gender')\n",
        "plt.show()\n",
        "\n",
        "### 10,20,30대의 성별 분석\n",
        "\n",
        "# # 대상 : 10대\n",
        "# cond1 = df_cleaned.loc[:,'Age2'] == 1\n",
        "# # 여성의 연령별 빈도수 추출\n",
        "# print(f'10대중 남녀의 빈도수 추출 :\\n{df_cleaned.loc[cond1,\"Gender\"].value_counts()}\\n')\n",
        "# # 여성의 연령별 비율 추출\n",
        "# print(f'10대중 남녀의 비율 추출 :\\n{df_cleaned.loc[cond1,\"Gender\"].value_counts(normalize=True)}\\n')\n",
        "\n",
        "# # 대상 : 20대\n",
        "# cond2 = df_cleaned.loc[:,'Age2'] == 2\n",
        "# # 여성의 연령별 빈도수 추출\n",
        "# print(f'20대중 남녀의 빈도수 추출 :\\n{df_cleaned.loc[cond2,\"Gender\"].value_counts()}\\n')\n",
        "# # 여성의 연령별 비율 추출\n",
        "# print(f'20대중 남녀의 비율 추출 :\\n{df_cleaned.loc[cond2,\"Gender\"].value_counts(normalize=True)}\\n')\n",
        "\n",
        "# # 대상 : 30대\n",
        "# cond3 = df_cleaned.loc[:,'Age2'] == 3\n",
        "# # 여성의 연령별 빈도수 추출\n",
        "# print(f'30대중 남녀의 빈도수 추출 :\\n{df_cleaned.loc[cond3,\"Gender\"].value_counts()}\\n')\n",
        "# # 여성의 연령별 비율 추출\n",
        "# print(f'30대중 남녀의 비율 추출 :\\n{df_cleaned.loc[cond3,\"Gender\"].value_counts(normalize=True)}\\n')\n",
        "\n",
        "df_123Age2 = pd.concat([df_cleaned.loc[cond1,\"Gender\"].value_counts(),\n",
        "                        df_cleaned.loc[cond1,\"Gender\"].value_counts(normalize=True),\n",
        "                        df_cleaned.loc[cond2,\"Gender\"].value_counts(),\n",
        "                        df_cleaned.loc[cond2,\"Gender\"].value_counts(normalize=True),\n",
        "                        df_cleaned.loc[cond3,\"Gender\"].value_counts(),\n",
        "                        df_cleaned.loc[cond3,\"Gender\"].value_counts(normalize=True)],\n",
        "                       axis=1)\n",
        "df_123Age2.columns = ['10대 빈도수','10대 비율','20대 빈도수','20대 비율','30대 빈도수','30대 비율']\n",
        "df_123Age2.index = ['생존자','사망자']\n",
        "df_123Age2"
      ],
      "metadata": {
        "id": "mEToDTF6lCS8"
      },
      "execution_count": null,
      "outputs": []
    },
    {
      "cell_type": "code",
      "source": [
        "# # 10대 & 남성 --> 생존자 / 사망자 빈도수 추출\n",
        "# cond1_10 = (df_cleaned.loc[:,'Age2']==1) & (df_cleaned.loc[:,'Gender']==1)\n",
        "# print(f'10대 & 남성 --> 생존자 / 사망자 빈도수 추출 :\\n{df_cleaned.loc[cond1_10,\"Survived\"].value_counts(ascending=True)}\\n')\n",
        "# # 10대 & 남성 --> 생존자 / 사망자 비율 추출\n",
        "# print(f'10대 & 남성 --> 생존자 / 사망자 비율 추출 :\\n{df_cleaned.loc[cond1_10,\"Survived\"].value_counts(normalize=True,ascending=True)}\\n')\n",
        "\n",
        "# # 10대 & 여성 --> 생존자 / 사망자 빈도수 추출\n",
        "# cond2_10 = (df_cleaned.loc[:,'Age2']==1) & (df_cleaned.loc[:,'Gender']==0)\n",
        "# print(f'10대 & 여성 --> 생존자 / 사망자 빈도수 추출 :\\n{df_cleaned.loc[cond2_10,\"Survived\"].value_counts()}\\n')\n",
        "# # 10대 & 남성 --> 생존자 / 사망자 비율 추출\n",
        "# print(f'10대 & 여성 --> 생존자 / 사망자 비율 추출 :\\n{df_cleaned.loc[cond2_10,\"Survived\"].value_counts(normalize=True)}\\n')\n",
        "\n",
        "df_10Age = pd.concat([df_cleaned.loc[cond1_10,\"Survived\"].value_counts(ascending=True),\n",
        "                      df_cleaned.loc[cond1_10,\"Survived\"].value_counts(normalize=True,ascending=True),\n",
        "                      df_cleaned.loc[cond2_10,\"Survived\"].value_counts(),\n",
        "                      df_cleaned.loc[cond2_10,\"Survived\"].value_counts(normalize=True)],\n",
        "                     axis=1)\n",
        "df_10Age.columns = ['10대남성 빈도수','10대남성 비율','10대여성 빈도수','10대여성 비율']\n",
        "df_10Age.index = ['생존자','사망자']\n",
        "df_10Age"
      ],
      "metadata": {
        "id": "KXNnXtWxqV2f"
      },
      "execution_count": null,
      "outputs": []
    },
    {
      "cell_type": "code",
      "source": [
        "# # 20대 & 남성 --> 생존자 / 사망자 빈도수 추출\n",
        "# cond1_20 = (df_cleaned.loc[:,'Age2']==2) & (df_cleaned.loc[:,'Gender']==1)\n",
        "# print(f'20대 & 남성 --> 생존자 / 사망자 빈도수 추출 :\\n{df_cleaned.loc[cond1_20,\"Survived\"].value_counts(ascending=True)}\\n')\n",
        "# # 20대 & 남성 --> 생존자 / 사망자 비율 추출\n",
        "# print(f'20대 & 남성 --> 생존자 / 사망자 비율 추출 :\\n{df_cleaned.loc[cond1_20,\"Survived\"].value_counts(normalize=True,ascending=True)}\\n')\n",
        "\n",
        "# # 20대 & 여성 --> 생존자 / 사망자 빈도수 추출\n",
        "# cond2_20 = (df_cleaned.loc[:,'Age2']==2) & (df_cleaned.loc[:,'Gender']==0)\n",
        "# print(f'20대 & 여성 --> 생존자 / 사망자 빈도수 추출 :\\n{df_cleaned.loc[cond2_20,\"Survived\"].value_counts()}\\n')\n",
        "# # 20대 & 남성 --> 생존자 / 사망자 비율 추출\n",
        "# print(f'20대 & 여성 --> 생존자 / 사망자 비율 추출 :\\n{df_cleaned.loc[cond2_20,\"Survived\"].value_counts(normalize=True)}\\n')\n",
        "\n",
        "df_20Age = pd.concat([df_cleaned.loc[cond1_20,\"Survived\"].value_counts(ascending=True),\n",
        "                      df_cleaned.loc[cond1_20,\"Survived\"].value_counts(normalize=True,ascending=True),\n",
        "                      df_cleaned.loc[cond2_20,\"Survived\"].value_counts(),\n",
        "                      df_cleaned.loc[cond2_20,\"Survived\"].value_counts(normalize=True)],\n",
        "                     axis=1)\n",
        "df_20Age.columns = ['20대남성 빈도수','20대남성 비율','20대여성 빈도수','20대여성 비율']\n",
        "df_20Age.index = ['생존자','사망자']\n",
        "df_20Age"
      ],
      "metadata": {
        "id": "Lw8QC9L4vsy6"
      },
      "execution_count": null,
      "outputs": []
    },
    {
      "cell_type": "code",
      "source": [
        "# # 30대 & 남성 --> 생존자 / 사망자 빈도수 추출\n",
        "# cond1_30 = (df_cleaned.loc[:,'Age2']==3) & (df_cleaned.loc[:,'Gender']==1)\n",
        "# print(f'30대 & 남성 --> 생존자 / 사망자 빈도수 추출 :\\n{df_cleaned.loc[cond1_30,\"Survived\"].value_counts(ascending=True)}\\n')\n",
        "# # 30대 & 남성 --> 생존자 / 사망자 비율 추출\n",
        "# print(f'30대 & 남성 --> 생존자 / 사망자 비율 추출 :\\n{df_cleaned.loc[cond1_30,\"Survived\"].value_counts(normalize=True,ascending=True)}\\n')\n",
        "\n",
        "# # 30대 & 여성 --> 생존자 / 사망자 빈도수 추출\n",
        "# cond2_30 = (df_cleaned.loc[:,'Age2']==3) & (df_cleaned.loc[:,'Gender']==0)\n",
        "# print(f'30대 & 여성 --> 생존자 / 사망자 빈도수 추출 :\\n{df_cleaned.loc[cond2_30,\"Survived\"].value_counts()}\\n')\n",
        "# # 20대 & 남성 --> 생존자 / 사망자 비율 추출\n",
        "# print(f'30대 & 여성 --> 생존자 / 사망자 비율 추출 :\\n{df_cleaned.loc[cond2_30,\"Survived\"].value_counts(normalize=True)}\\n')\n",
        "\n",
        "df_30Age = pd.concat([df_cleaned.loc[cond1_30,\"Survived\"].value_counts(ascending=True),\n",
        "                      df_cleaned.loc[cond1_30,\"Survived\"].value_counts(normalize=True,ascending=True),\n",
        "                      df_cleaned.loc[cond2_30,\"Survived\"].value_counts(),\n",
        "                      df_cleaned.loc[cond2_30,\"Survived\"].value_counts(normalize=True)],\n",
        "                     axis=1)\n",
        "df_30Age.columns = ['30대남성 빈도수','30대남성 비율','30대여성 빈도수','30대여성 비율']\n",
        "df_30Age.index = ['생존자','사망자']\n",
        "df_30Age"
      ],
      "metadata": {
        "id": "iESX8aOFuHAj"
      },
      "execution_count": null,
      "outputs": []
    },
    {
      "cell_type": "markdown",
      "source": [
        "####ㄴ 승객의 등급과 연령의 관계 분석"
      ],
      "metadata": {
        "id": "Mz5GhWhIzImX"
      }
    },
    {
      "cell_type": "code",
      "source": [
        "# 승객의 등급(Pclass) 컬럼과 Age2 컬럼의 관계 확인\n",
        "sns.countplot(data=df_cleaned,x='Pclass',hue='Age2')\n",
        "plt.show()"
      ],
      "metadata": {
        "id": "Oy6pJh9azQgR"
      },
      "execution_count": null,
      "outputs": []
    },
    {
      "cell_type": "code",
      "source": [
        "'''\n",
        "### 전체 탑승객의 10대 ~ 30대 비율\n",
        "20대 : 0.476700\n",
        "30대 : 0.160428\n",
        "10대 : 0.123759\n",
        "'''\n",
        "# 1등석에 탑승한 승객의 연령대 추출\n",
        "cond1 = df_cleaned.loc[:,'Pclass']==1\n",
        "print(f'1등석에 탑승한 승객의 연령별 빈도수 :\\n{df_cleaned.loc[cond1,\"Age2\"].value_counts()}\\n')\n",
        "print(f'1등석에 탑승한 승객의 연령별 비율 :\\n{df_cleaned.loc[cond1,\"Age2\"].value_counts(normalize=True)}\\n')\n",
        "\n",
        "# 3등석에 탑승한 승객의 연령대 추출\n",
        "cond3 = df_cleaned.loc[:,'Pclass']==3\n",
        "print(f'3등석에 탑승한 승객의 연령별 빈도수 :\\n{df_cleaned.loc[cond,\"Age2\"].value_counts()}\\n')\n",
        "print(f'3등석에 탑승한 승객의 연령별 비율 :\\n{df_cleaned.loc[cond3,\"Age2\"].value_counts(normalize=True)}\\n')"
      ],
      "metadata": {
        "id": "KpWNH-mXz_CQ"
      },
      "execution_count": null,
      "outputs": []
    },
    {
      "cell_type": "markdown",
      "source": [
        "####ㄴ 생존여부와 요금의 관계 분석"
      ],
      "metadata": {
        "id": "v4ULTRRr3fqW"
      }
    },
    {
      "cell_type": "code",
      "source": [
        "# Fare 컬럼의 분포 확인\n",
        "sns.histplot(data=df_cleaned,x='Fare',hue='Survived',kde=True)\n",
        "plt.show()"
      ],
      "metadata": {
        "id": "K7fYoTVH3mjv"
      },
      "execution_count": null,
      "outputs": []
    },
    {
      "cell_type": "code",
      "source": [
        "# Survived 컬럼과 Fare 컬럼의 관계 확인\n",
        "sns.histplot(data=df_cleaned,x='Fare',hue='Survived',kde=True)\n",
        "plt.show()\n",
        "\n",
        "sns.kdeplot(data=df_cleaned,x='Fare',hue='Survived')\n",
        "plt.show()"
      ],
      "metadata": {
        "id": "IF4nEZUY5KDk"
      },
      "execution_count": null,
      "outputs": []
    },
    {
      "cell_type": "code",
      "source": [
        "# 사망자 / 생존자의 요금 추출\n",
        "\n",
        "# 대상 : 사망자\n",
        "cond = df_cleaned.loc[:,'Survived']==0\n",
        "print(f'사망자의 요금 확인 :\\n{df_cleaned.loc[cond,\"Fare\"]}\\n')\n",
        "print(f'생존자의 요금 확인 :\\n{df_cleaned.loc[~cond,\"Fare\"]}\\n')\n",
        "# print(f'사망자의 요금 요약통계 확인 :\\n{df_cleaned.loc[cond,\"Fare\"].describe()}\\n')\n",
        "# print(f'생존자의 요금 요약통계 확인 :\\n{df_cleaned.loc[~cond,\"Fare\"].describe()}\\n')\n",
        "\n",
        "df_SF = pd.concat([df_cleaned.loc[cond,\"Fare\"].describe(),\n",
        "                   df_cleaned.loc[~cond,\"Fare\"].describe()],\n",
        "                  axis=1)\n",
        "df_SF.columns = ['사망자의 요금','생존자의 요금']\n",
        "df_SF"
      ],
      "metadata": {
        "id": "4DwtDXch5_iG"
      },
      "execution_count": null,
      "outputs": []
    },
    {
      "cell_type": "markdown",
      "source": [
        "####ㄴ 생존여부와 승선항구의 관계 분석"
      ],
      "metadata": {
        "id": "bZaU-e748zlA"
      }
    },
    {
      "cell_type": "code",
      "source": [
        "# 탑승객의 승선 항구 분석\n",
        "sns.countplot(data=df_cleaned,x='Embarked')\n",
        "plt.show()\n",
        "\n",
        "# 탑승객의 승선 항구별 인원수 분석\n",
        "\n",
        "# 승선 항구별 빈도수 추출\n",
        "print(f'탑승객의 승선 항구별 빈도수 : \\n{df_cleaned.Embarked.value_counts()}\\n')\n",
        "print(f'탑승객의 승선 항구별 빈도수 : \\n{df_cleaned.Embarked.value_counts(normalize=True)}\\n')\n"
      ],
      "metadata": {
        "id": "PekJqN3q83xA"
      },
      "execution_count": null,
      "outputs": []
    },
    {
      "cell_type": "code",
      "source": [
        "# Survived 컬럼과 Embarked 컬럼의 관계 확인(1)\n",
        "'''\n",
        "### Embarked : C(0), Q(1), S(2)\n",
        "'''\n",
        "sns.countplot(data=df_cleaned,x='Survived',hue='Embarked')\n",
        "plt.show()"
      ],
      "metadata": {
        "id": "xC2BOCNR9R6n"
      },
      "execution_count": null,
      "outputs": []
    },
    {
      "cell_type": "code",
      "source": [
        "# 생존여부와 승선 항구별 인원수 분석\n",
        "cond = df_cleaned.loc[:,'Survived']==0\n",
        "# 대상자 : 사망자\n",
        "# 사망자의 승선 항구별 인원수 추출\n",
        "print(f'사망자의 승선 항구별 인원수 : \\n{df_cleaned.loc[cond,\"Embarked\"].value_counts()}\\n')\n",
        "# 사망자의 승선 항구별 인원비율 추출\n",
        "print(f'사망자의 승선 항구별 인원수 : \\n{df_cleaned.loc[cond,\"Embarked\"].value_counts(normalize=True)}\\n')\n",
        "\n",
        "# 대상자 : 생존자\n",
        "# 생존자의 승선 항구별 인원수 추출\n",
        "print(f'생존자의 승선 항구별 인원수 : \\n{df_cleaned.loc[~cond,\"Embarked\"].value_counts()}\\n')\n",
        "# 생존자의 승선 항구별 인원비율 추출\n",
        "print(f'생존자의 승선 항구별 인원수 : \\n{df_cleaned.loc[~cond,\"Embarked\"].value_counts(normalize=True)}\\n')\n",
        "\n",
        "df_Emb = pd.concat([df_cleaned.loc[cond,\"Embarked\"].value_counts(),\n",
        "                    df_cleaned.loc[cond,\"Embarked\"].value_counts(normalize=True),\n",
        "                    df_cleaned.loc[~cond,\"Embarked\"].value_counts(),\n",
        "                    df_cleaned.loc[~cond,\"Embarked\"].value_counts(normalize=True)],\n",
        "                   axis=1,\n",
        "                   names='항구명')\n",
        "df_Emb.columns = ['사망자 인원','사망자 인원비율','생존자 인원','생존자 인원비율']\n",
        "df_Emb.index = ['사우스햄프턴(2)','쉘부르(0)','퀸즈랜드(1)']\n",
        "df_Emb"
      ],
      "metadata": {
        "id": "q82mOS3FBkEE"
      },
      "execution_count": null,
      "outputs": []
    },
    {
      "cell_type": "code",
      "source": [
        "# 항구별 탑승자의 사망자 / 생존자 분석\n",
        "# 전체 탑승객 : 사망자(62.3%), 생존자(37.7%)\n",
        "\n",
        "# # 대상 : 0번 항구(쉘부르)\n",
        "# cond1 = df_cleaned.loc[:,'Embarked']==0\n",
        "# # 0번 항구 --> 탑승객의 사망자 / 생존자 수 추출\n",
        "# print(f'0번(C) 항구 탑승객의 사망자 / 생존자 수 :\\n{df_cleaned.loc[cond1,\"Survived\"].value_counts()}\\n')\n",
        "# # 0번 항구 --> 탑승객의 사망자 / 생존자 비율 추출\n",
        "# print(f'0번(C) 항구 탑승객의 사망자 / 생존자 수 :\\n{df_cleaned.loc[cond1,\"Survived\"].value_counts(normalize=True)}\\n')\n",
        "\n",
        "# # 대상 : 1번 항구(퀸즈랜드)\n",
        "# cond2 = df_cleaned.loc[:,'Embarked']==1\n",
        "# # 1번 항구 --> 탑승객의 사망자 / 생존자 수 추출\n",
        "# print(f'1번(Q) 항구 탑승객의 사망자 / 생존자 수 :\\n{df_cleaned.loc[cond2,\"Survived\"].value_counts()}\\n')\n",
        "# # 1번 항구 --> 탑승객의 사망자 / 생존자 비율 추출\n",
        "# print(f'1번(Q) 항구 탑승객의 사망자 / 생존자 수 :\\n{df_cleaned.loc[cond2,\"Survived\"].value_counts(normalize=True)}\\n')\n",
        "\n",
        "# # 대상 : 2번 항구(사우스햄프턴)\n",
        "# cond3 = df_cleaned.loc[:,'Embarked']==2\n",
        "# # 2번 항구 --> 탑승객의 사망자 / 생존자 수 추출\n",
        "# print(f'2번(S) 항구 탑승객의 사망자 / 생존자 수 :\\n{df_cleaned.loc[cond3,\"Survived\"].value_counts()}\\n')\n",
        "# # 2번 항구 --> 탑승객의 사망자 / 생존자 비율 추출\n",
        "# print(f'2번(S) 항구 탑승객의 사망자 / 생존자 수 :\\n{df_cleaned.loc[cond3,\"Survived\"].value_counts(normalize=True)}\\n')\n",
        "\n",
        "df_Emb_S = pd.concat([df_cleaned.loc[cond1,\"Survived\"].value_counts(),\n",
        "                      df_cleaned.loc[cond1,\"Survived\"].value_counts(normalize=True),\n",
        "                      df_cleaned.loc[cond2,\"Survived\"].value_counts(),\n",
        "                      df_cleaned.loc[cond2,\"Survived\"].value_counts(normalize=True),\n",
        "                      df_cleaned.loc[cond3,\"Survived\"].value_counts(),\n",
        "                      df_cleaned.loc[cond3,\"Survived\"].value_counts(normalize=True)],\n",
        "                     axis=1)\n",
        "df_Emb_S.columns = ['0번(C) 항구 수','0번(C) 항구 비율','1번(Q) 항구 수','1번(Q) 항구 비율','2번(S) 항구 수','2번(S) 항구 비율']\n",
        "df_Emb_S.index = ['사망자','생존자']\n",
        "df_Emb_S"
      ],
      "metadata": {
        "id": "3YOxYRAUBkCZ"
      },
      "execution_count": null,
      "outputs": []
    },
    {
      "cell_type": "markdown",
      "source": [
        "####ㄴ 승선항구와 성별의 관계 분석"
      ],
      "metadata": {
        "id": "b4bgFZAnTCNJ"
      }
    },
    {
      "cell_type": "code",
      "source": [
        "# Gender 컬럼과 Embarked 컬럼의 관계 확인(1)\n",
        "sns.countplot(df_cleaned,x='Embarked',hue='Pclass')\n",
        "plt.show()"
      ],
      "metadata": {
        "id": "IahWYHm6C9Ts"
      },
      "execution_count": null,
      "outputs": []
    },
    {
      "cell_type": "code",
      "source": [
        "# Gender 컬럼과 Embarked 컬럼의 관계 확인(2)\n",
        "sns.countplot(data=df_cleaned,x='Gender',hue='Embarked')\n",
        "plt.show()"
      ],
      "metadata": {
        "id": "j0GNiT5MTULX"
      },
      "execution_count": null,
      "outputs": []
    },
    {
      "cell_type": "markdown",
      "source": [
        "####ㄴ 승선항구와 연령의 관계 분석"
      ],
      "metadata": {
        "id": "r7BYGUE1Ta0X"
      }
    },
    {
      "cell_type": "code",
      "source": [
        "sns.countplot(data=df_cleaned,x='Embarked',hue='Age2')\n",
        "plt.show()"
      ],
      "metadata": {
        "id": "mUip5z4_Tfy3"
      },
      "execution_count": null,
      "outputs": []
    },
    {
      "cell_type": "code",
      "source": [
        "sns.countplot(data=df_cleaned,x='Age2',hue='Embarked')\n",
        "plt.show()"
      ],
      "metadata": {
        "id": "MxZez568TmBp"
      },
      "execution_count": null,
      "outputs": []
    },
    {
      "cell_type": "markdown",
      "source": [
        "####ㄴ 승선항구와 승객의등급의 관계 분석"
      ],
      "metadata": {
        "id": "eg32kHTFTpdm"
      }
    },
    {
      "cell_type": "code",
      "source": [
        "sns.countplot(data=df_cleaned,x='Pclass',hue='Embarked')\n",
        "plt.show()"
      ],
      "metadata": {
        "id": "nPHELm0wDGWj",
        "colab": {
          "base_uri": "https://localhost:8080/",
          "height": 449
        },
        "outputId": "6ccc54fe-65c4-4be2-ea73-301647adc5e6"
      },
      "execution_count": null,
      "outputs": [
        {
          "output_type": "display_data",
          "data": {
            "text/plain": [
              "<Figure size 640x480 with 1 Axes>"
            ],
            "image/png": "[encoded data removed]"
          },
          "metadata": {}
        }
      ]
    },
    {
      "cell_type": "code",
      "source": [
        "sns.countplot(data=df_cleaned,x='Embarked',hue='Pclass')\n",
        "plt.show()"
      ],
      "metadata": {
        "id": "aRpyMjt3T0J3"
      },
      "execution_count": null,
      "outputs": []
    },
    {
      "cell_type": "markdown",
      "source": [
        "####ㄴ 생존여부와 호칭의 관계"
      ],
      "metadata": {
        "id": "smkHEnceT2Xu"
      }
    },
    {
      "cell_type": "code",
      "source": [
        "# 탑승객의 호칭 분포 분석\n",
        "'''\n",
        "### title 컬럼 ==> Master':0, 'Miss':1, 'Mr':2, 'Mrs':3, 'other':4\n",
        "'''\n",
        "sns.countplot(df_cleaned,x='title')\n",
        "plt.show()\n",
        "\n",
        "# 호칭의 분포 비율 추출\n",
        "print(f'탑승객의 호칭 분포비율 : \\n{df_cleaned.title.value_counts(normalize=True)}\\n')"
      ],
      "metadata": {
        "id": "K3I1iZPMT3LW"
      },
      "execution_count": null,
      "outputs": []
    },
    {
      "cell_type": "code",
      "source": [
        "# 'Survived' 컬럼과 'title' 컬럼의 관계 확인(1)\n",
        "'''\n",
        "### title 컬럼 ==> Master':0, 'Miss':1, 'Mr':2, 'Mrs':3, 'other':4\n",
        "'''\n",
        "sns.countplot(df_cleaned,x='Survived',hue='title')\n",
        "plt.show()"
      ],
      "metadata": {
        "id": "FoYaonw7UByv"
      },
      "execution_count": null,
      "outputs": []
    },
    {
      "cell_type": "code",
      "source": [
        "# 생존여부와 호칭별 분포\n",
        "'''\n",
        "전체 탑승객의 호칭 분포비율 :\n",
        "2    0.578304\n",
        "1    0.198625\n",
        "3    0.150497\n",
        "0    0.046600\n",
        "4    0.025974\n",
        "Master':0, 'Miss':1, 'Mr':2, 'Mrs':3, 'other':4\n",
        "'''\n",
        "# 대상 : 사망자\n",
        "cond = df_cleaned.loc[:,'Survived']==0\n",
        "# 사망자의 호칭별 빈도수/비율\n",
        "print(f'사망자의 호칭별 빈도수 :\\n{df_cleaned.loc[cond,\"title\"].value_counts()}\\n')\n",
        "print(f'사망자의 호칭별 비율 :\\n{df_cleaned.loc[cond,\"title\"].value_counts(normalize=True)}\\n')\n",
        "# 대상 : 생존자\n",
        "# 생존자의 호칭별 빈도수/비율\n",
        "print(f'생존자의 호칭별 빈도수 :\\n{df_cleaned.loc[~cond,\"title\"].value_counts()}\\n')\n",
        "print(f'생존자의 호칭별 비율 :\\n{df_cleaned.loc[~cond,\"title\"].value_counts(normalize=True)}\\n')\n"
      ],
      "metadata": {
        "id": "EC9Wd7iiUJBZ"
      },
      "execution_count": null,
      "outputs": []
    },
    {
      "cell_type": "markdown",
      "source": [
        "####ㄴ 생존여부와 가족인원수의 관계"
      ],
      "metadata": {
        "id": "1Ra_smTqUOxa"
      }
    },
    {
      "cell_type": "code",
      "source": [
        "# 탑승객의 가족인원수 분포 분석\n",
        "# 시각화\n",
        "df_cleaned.num_family.value_counts() ### <-- 9가지 경우의 수밖에 없으므로 countplot으로 보자.\n",
        "sns.countplot(df_cleaned,x='num_family')\n",
        "plt.show()\n",
        "\n",
        "# 동반한 가족인원수의 비율 확인\n",
        "print(f'동반한 가족인원수의 비율 :\\n{df_cleaned.num_family.value_counts(normalize=True)}\\n')"
      ],
      "metadata": {
        "id": "2zxgLZShUPwI"
      },
      "execution_count": null,
      "outputs": []
    },
    {
      "cell_type": "code",
      "source": [
        "# 탑승객의 가족인원수 분포 분석\n",
        "# 시각화\n",
        "df_cleaned.num_family.value_counts() ### <-- 9가지 경우의 수밖에 없으므로 countplot으로 보자.\n",
        "sns.countplot(df_cleaned,x='Survived',hue='num_family')\n",
        "plt.show()\n",
        "\n",
        "# 통계수치\n",
        "cond = df_cleaned.loc[:,'Survived']==0\n",
        "print(f'사망자의 가족인원수 분포비율 :\\n{df_cleaned.loc[cond,\"num_family\"].value_counts(normalize=True)}\\n')\n",
        "print(f'생존자의 가족인원수 분포비율 :\\n{df_cleaned.loc[~cond,\"num_family\"].value_counts(normalize=True)}\\n')"
      ],
      "metadata": {
        "id": "nVWkHe8AUYJJ"
      },
      "execution_count": null,
      "outputs": []
    },
    {
      "cell_type": "markdown",
      "source": [
        "####ㄴ 생존여부와 독신여부와의 관계"
      ],
      "metadata": {
        "id": "UgSxCGjfUdeG"
      }
    },
    {
      "cell_type": "code",
      "source": [
        "# 탑승객에 대한 독신여부 분석\n",
        "\n",
        "# 시각화\n",
        "sns.countplot(df_cleaned,x='alone')\n",
        "plt.show()\n",
        "\n",
        "# 통계분석\n",
        "print(f'탑승객의 독신여부 비율 :\\n{df_cleaned.loc[:,\"alone\"].value_counts(normalize=True)}\\n')"
      ],
      "metadata": {
        "id": "fNApXvgzUecW"
      },
      "execution_count": null,
      "outputs": []
    },
    {
      "cell_type": "code",
      "source": [
        "# 'Survived' 컬럼과 'alone' 컬럼의 관계 분석(1)\n",
        "sns.countplot(df_cleaned,x='Survived',hue='alone')\n",
        "plt.show()\n",
        "\n",
        "cond = df_cleaned.loc[:,'Survived']==0\n",
        "print(f'사망자의 독신여부 비율 :\\n{df_cleaned.loc[cond,\"alone\"].value_counts(normalize=True,ascending=True)}\\n')\n",
        "print(f'생존자의 독신여부 비율 :\\n{df_cleaned.loc[~cond,\"alone\"].value_counts(normalize=True)}\\n')\n",
        "\n",
        "df_al = pd.concat([df_cleaned.loc[cond,\"alone\"].value_counts(normalize=True,ascending=True),\n",
        "                   df_cleaned.loc[~cond,\"alone\"].value_counts(normalize=True)],\n",
        "                  axis=1)\n",
        "df_al.columns = ['사망자의 독신여부비율','생존자의 독신여부비율']\n",
        "df_al.index = ['가족동반자','독신']\n",
        "df_al"
      ],
      "metadata": {
        "id": "FwcAOJglUj-e"
      },
      "execution_count": null,
      "outputs": []
    },
    {
      "cell_type": "markdown",
      "source": [
        "####ㄴ 사망자 분석"
      ],
      "metadata": {
        "id": "BM6EdVsFUqQm"
      }
    },
    {
      "cell_type": "code",
      "source": [
        "# 사망률을 높일 수 있는 조건\n",
        "\n",
        "cond_tot = (df_cleaned.loc[:,'Embarked']==2) &\\\n",
        "            (df_cleaned.loc[:,'Pclass']==3) &\\\n",
        "            (df_cleaned.loc[:,'Age2']==2) &\\\n",
        "            (df_cleaned.loc[:,\"Gender\"]==1)\n",
        "\n",
        "            #  (df_cleaned.loc[:,\"title\"]==2)\n",
        "            # (df_cleaned.loc[:,\"num_family\"]==0) &\\\n",
        "\n",
        "print(f'cond_tot의 사망률 :\\n{df_cleaned.loc[cond_tot,\"Survived\"].value_counts(normalize=True, ascending=True)}\\n')\n",
        "print(f'Gender=0의 생존률 :\\n{df_cleaned.loc[df_cleaned.loc[:,\"Gender\"]==0,\"Survived\"].value_counts(normalize=True, ascending=True)}\\n')\n",
        "print(f'Pclass=3의 생존률 :\\n{df_cleaned.loc[df_cleaned.loc[:,\"Pclass\"]==3,\"Survived\"].value_counts(normalize=True, ascending=True)}\\n')\n",
        "print(f'Age2=2의 생존률 :\\n{df_cleaned.loc[df_cleaned.loc[:,\"Age2\"]==2,\"Survived\"].value_counts(normalize=True, ascending=True)}\\n')\n",
        "print(f'Embarked=2의 생존률 :\\n{df_cleaned.loc[df_cleaned.loc[:,\"Embarked\"]==2,\"Survived\"].value_counts(normalize=True, ascending=True)}\\n')\n",
        "print(f'num_family=0의 생존률 :\\n{df_cleaned.loc[df_cleaned.loc[:,\"num_family\"]==0,\"Survived\"].value_counts(normalize=True, ascending=True)}\\n')\n",
        "print(f'title=2의 생존률 :\\n{df_cleaned.loc[df_cleaned.loc[:,\"title\"]==2,\"Survived\"].value_counts(normalize=True, ascending=True)}\\n')\n",
        "\n",
        "df_tot = pd.concat([df_cleaned.loc[cond1,\"Survived\"].value_counts(normalize=True, ascending=False),\n",
        "                    df_cleaned.loc[df_cleaned.loc[:,\"Gender\"]==0,\"Survived\"].value_counts(normalize=True, ascending=False),\n",
        "                    df_cleaned.loc[df_cleaned.loc[:,\"Pclass\"]==3,\"Survived\"].value_counts(normalize=True, ascending=False),\n",
        "                    df_cleaned.loc[df_cleaned.loc[:,\"Age2\"]==2,\"Survived\"].value_counts(normalize=True, ascending=False),\n",
        "                    df_cleaned.loc[df_cleaned.loc[:,\"Embarked\"]==2,\"Survived\"].value_counts(normalize=True, ascending=False),\n",
        "                    df_cleaned.loc[df_cleaned.loc[:,\"num_family\"]==0,\"Survived\"].value_counts(normalize=True, ascending=False),\n",
        "                    df_cleaned.loc[df_cleaned.loc[:,\"title\"]==2,\"Survived\"].value_counts(normalize=True, ascending=False)],\n",
        "                   axis=1)\n",
        "df_tot.columns = ['cond_tot','Gender=0','Pclass=3','Age=20대','Embarked=2','num_family=0','title=2']\n",
        "df_tot.index = ['사망자','생존자']\n",
        "df_tot"
      ],
      "metadata": {
        "id": "OyLsXUjKDxIk"
      },
      "execution_count": null,
      "outputs": []
    },
    {
      "cell_type": "code",
      "source": [
        "# 사망률 계산\n",
        "\n",
        "# 사망자의 수 추출\n",
        "df_dead = cleaned_df.loc[cond_tot,:]\n",
        "num_dead = len(df_dead.index)\n",
        "\n",
        "# 전체 데이터의 수 추출\n",
        "df_dead = cleaned_df.loc[cond_tot,:]\n",
        "num_dead = len(df_dead.index)\n"
      ],
      "metadata": {
        "id": "y59RILOjU073"
      },
      "execution_count": null,
      "outputs": []
    }
  ]
}